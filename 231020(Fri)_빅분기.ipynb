{
  "nbformat": 4,
  "nbformat_minor": 0,
  "metadata": {
    "colab": {
      "provenance": [],
      "authorship_tag": "ABX9TyOZB1KHhOJwq7Ky58buuGrh",
      "include_colab_link": true
    },
    "kernelspec": {
      "name": "python3",
      "display_name": "Python 3"
    },
    "language_info": {
      "name": "python"
    }
  },
  "cells": [
    {
      "cell_type": "markdown",
      "metadata": {
        "id": "view-in-github",
        "colab_type": "text"
      },
      "source": [
        "<a href=\"https://colab.research.google.com/github/yeseul515/sessac_test2/blob/self-study/231020(Fri)_%EB%B9%85%EB%B6%84%EA%B8%B0.ipynb\" target=\"_parent\"><img src=\"https://colab.research.google.com/assets/colab-badge.svg\" alt=\"Open In Colab\"/></a>"
      ]
    },
    {
      "cell_type": "markdown",
      "source": [
        "## scikit-learn 머신러닝 만들어보기\n",
        "- 지도학습 : 학습을 위한 다양한 피처(feature) 데이터와 분류 결정값인 레이블(lable) 데이터로 모델을 학습한 뒤, 별도의 테스트 데이터 세트에서 미지의레이블을 예측하여 분류. 즉, 지도학습은 명확한 정답이 주어진 데이터를 먼저 학습한 뒤 미지의 정답을 예측하는 방식\n",
        "\n"
      ],
      "metadata": {
        "id": "kr_EigkIi5Wl"
      }
    },
    {
      "cell_type": "code",
      "execution_count": null,
      "metadata": {
        "id": "AvKLt7zBp-Iz",
        "colab": {
          "base_uri": "https://localhost:8080/"
        },
        "outputId": "d89a400b-18c1-4b67-bd35-1c9911a550cd"
      },
      "outputs": [
        {
          "output_type": "stream",
          "name": "stdout",
          "text": [
            "   sepal length (cm)  sepal width (cm)  petal length (cm)  petal width (cm)  \\\n",
            "0                5.1               3.5                1.4               0.2   \n",
            "1                4.9               3.0                1.4               0.2   \n",
            "2                4.7               3.2                1.3               0.2   \n",
            "\n",
            "   label  \n",
            "0      0  \n",
            "1      0  \n",
            "2      0  \n"
          ]
        }
      ],
      "source": [
        "import sklearn\n",
        "from sklearn.datasets import load_iris\n",
        "import pandas as pd\n",
        "\n",
        "iris = load_iris()\n",
        "\n",
        "iris_df = pd.DataFrame(data=iris.data, columns = iris.feature_names)\n",
        "iris_df['label'] = iris.target\n",
        "print(iris_df.head(3))"
      ]
    },
    {
      "cell_type": "code",
      "source": [
        "from sklearn.model_selection import train_test_split\n",
        "\n",
        "iris_data = iris.data #feature dataset\n",
        "iris_label = iris.target #target dataset\n",
        "\n",
        "x_train, x_test, y_train, y_test = train_test_split(iris_data, iris_label, test_size = 0.2, random_state=11) #random_state : 함수를 호출할 때마다 같은 학습/데이터 세트를 생성하기 위해 주어지는 난수 발생 값.\n",
        "#  train_test_split은 호출 시 무작위로 데이터를 분리하므로 random_state를 지정하지 않으면 수행할 때마다 다른 학습/데이터 세트 생성\n",
        "\n",
        "print('tarin dataset')\n",
        "print('x_train dataset: ', len(x_train))\n",
        "print('y_train dataset: ', len(y_train))\n",
        "print('\\ntest dataset')\n",
        "print('x_test dataset: ', len(x_test))\n",
        "print('y_test dataset: ', len(y_test))"
      ],
      "metadata": {
        "colab": {
          "base_uri": "https://localhost:8080/"
        },
        "id": "q0U1U5lojmEV",
        "outputId": "d4cb711c-0135-45c8-91fd-843b79a4903c"
      },
      "execution_count": null,
      "outputs": [
        {
          "output_type": "stream",
          "name": "stdout",
          "text": [
            "tarin dataset\n",
            "x_train dataset:  120\n",
            "y_train dataset:  120\n",
            "\n",
            "test dataset\n",
            "x_test dataset:  30\n",
            "y_test dataset:  30\n"
          ]
        }
      ]
    },
    {
      "cell_type": "markdown",
      "source": [
        "### 의사결정 트리를 이용해 머신러닝 모델 학습과 예측 수행하기"
      ],
      "metadata": {
        "id": "v2JiEnecl9bX"
      }
    },
    {
      "cell_type": "markdown",
      "source": [
        "#### 과정1\n",
        "1. scikit-learn의 의사결정 트리 클래스인 DecisionTreeClassifier를 객체로 생성\n",
        "2. 해당 객체의 fit 함수에 학습 피처 데이터 세트인 x_train과 학습 타겟 데이터 세트인 y_train을 입력해 호출\n",
        "3. 학습 수행"
      ],
      "metadata": {
        "id": "6tErm6W9mauj"
      }
    },
    {
      "cell_type": "code",
      "source": [
        "from sklearn.tree import DecisionTreeClassifier\n",
        "\n",
        "dt_clf = DecisionTreeClassifier(random_state=11)\n",
        "dt_clf.fit(x_train, y_train)"
      ],
      "metadata": {
        "colab": {
          "base_uri": "https://localhost:8080/",
          "height": 74
        },
        "id": "krpq2fcylQdw",
        "outputId": "b0c03960-250c-4141-9369-d27c215dda37"
      },
      "execution_count": null,
      "outputs": [
        {
          "output_type": "execute_result",
          "data": {
            "text/plain": [
              "DecisionTreeClassifier(random_state=11)"
            ],
            "text/html": [
              "<style>#sk-container-id-1 {color: black;background-color: white;}#sk-container-id-1 pre{padding: 0;}#sk-container-id-1 div.sk-toggleable {background-color: white;}#sk-container-id-1 label.sk-toggleable__label {cursor: pointer;display: block;width: 100%;margin-bottom: 0;padding: 0.3em;box-sizing: border-box;text-align: center;}#sk-container-id-1 label.sk-toggleable__label-arrow:before {content: \"▸\";float: left;margin-right: 0.25em;color: #696969;}#sk-container-id-1 label.sk-toggleable__label-arrow:hover:before {color: black;}#sk-container-id-1 div.sk-estimator:hover label.sk-toggleable__label-arrow:before {color: black;}#sk-container-id-1 div.sk-toggleable__content {max-height: 0;max-width: 0;overflow: hidden;text-align: left;background-color: #f0f8ff;}#sk-container-id-1 div.sk-toggleable__content pre {margin: 0.2em;color: black;border-radius: 0.25em;background-color: #f0f8ff;}#sk-container-id-1 input.sk-toggleable__control:checked~div.sk-toggleable__content {max-height: 200px;max-width: 100%;overflow: auto;}#sk-container-id-1 input.sk-toggleable__control:checked~label.sk-toggleable__label-arrow:before {content: \"▾\";}#sk-container-id-1 div.sk-estimator input.sk-toggleable__control:checked~label.sk-toggleable__label {background-color: #d4ebff;}#sk-container-id-1 div.sk-label input.sk-toggleable__control:checked~label.sk-toggleable__label {background-color: #d4ebff;}#sk-container-id-1 input.sk-hidden--visually {border: 0;clip: rect(1px 1px 1px 1px);clip: rect(1px, 1px, 1px, 1px);height: 1px;margin: -1px;overflow: hidden;padding: 0;position: absolute;width: 1px;}#sk-container-id-1 div.sk-estimator {font-family: monospace;background-color: #f0f8ff;border: 1px dotted black;border-radius: 0.25em;box-sizing: border-box;margin-bottom: 0.5em;}#sk-container-id-1 div.sk-estimator:hover {background-color: #d4ebff;}#sk-container-id-1 div.sk-parallel-item::after {content: \"\";width: 100%;border-bottom: 1px solid gray;flex-grow: 1;}#sk-container-id-1 div.sk-label:hover label.sk-toggleable__label {background-color: #d4ebff;}#sk-container-id-1 div.sk-serial::before {content: \"\";position: absolute;border-left: 1px solid gray;box-sizing: border-box;top: 0;bottom: 0;left: 50%;z-index: 0;}#sk-container-id-1 div.sk-serial {display: flex;flex-direction: column;align-items: center;background-color: white;padding-right: 0.2em;padding-left: 0.2em;position: relative;}#sk-container-id-1 div.sk-item {position: relative;z-index: 1;}#sk-container-id-1 div.sk-parallel {display: flex;align-items: stretch;justify-content: center;background-color: white;position: relative;}#sk-container-id-1 div.sk-item::before, #sk-container-id-1 div.sk-parallel-item::before {content: \"\";position: absolute;border-left: 1px solid gray;box-sizing: border-box;top: 0;bottom: 0;left: 50%;z-index: -1;}#sk-container-id-1 div.sk-parallel-item {display: flex;flex-direction: column;z-index: 1;position: relative;background-color: white;}#sk-container-id-1 div.sk-parallel-item:first-child::after {align-self: flex-end;width: 50%;}#sk-container-id-1 div.sk-parallel-item:last-child::after {align-self: flex-start;width: 50%;}#sk-container-id-1 div.sk-parallel-item:only-child::after {width: 0;}#sk-container-id-1 div.sk-dashed-wrapped {border: 1px dashed gray;margin: 0 0.4em 0.5em 0.4em;box-sizing: border-box;padding-bottom: 0.4em;background-color: white;}#sk-container-id-1 div.sk-label label {font-family: monospace;font-weight: bold;display: inline-block;line-height: 1.2em;}#sk-container-id-1 div.sk-label-container {text-align: center;}#sk-container-id-1 div.sk-container {/* jupyter's `normalize.less` sets `[hidden] { display: none; }` but bootstrap.min.css set `[hidden] { display: none !important; }` so we also need the `!important` here to be able to override the default hidden behavior on the sphinx rendered scikit-learn.org. See: https://github.com/scikit-learn/scikit-learn/issues/21755 */display: inline-block !important;position: relative;}#sk-container-id-1 div.sk-text-repr-fallback {display: none;}</style><div id=\"sk-container-id-1\" class=\"sk-top-container\"><div class=\"sk-text-repr-fallback\"><pre>DecisionTreeClassifier(random_state=11)</pre><b>In a Jupyter environment, please rerun this cell to show the HTML representation or trust the notebook. <br />On GitHub, the HTML representation is unable to render, please try loading this page with nbviewer.org.</b></div><div class=\"sk-container\" hidden><div class=\"sk-item\"><div class=\"sk-estimator sk-toggleable\"><input class=\"sk-toggleable__control sk-hidden--visually\" id=\"sk-estimator-id-1\" type=\"checkbox\" checked><label for=\"sk-estimator-id-1\" class=\"sk-toggleable__label sk-toggleable__label-arrow\">DecisionTreeClassifier</label><div class=\"sk-toggleable__content\"><pre>DecisionTreeClassifier(random_state=11)</pre></div></div></div></div></div>"
            ]
          },
          "metadata": {},
          "execution_count": 3
        }
      ]
    },
    {
      "cell_type": "markdown",
      "source": [
        "#### 과정2. 분류 예측 수행\n",
        "- 예측은 테스트 데이터 이용\n",
        "- DecisionTreeClassifier 객체의 predict 함수에 테스트 피처 데이터 세트를 입력하여 호출\n",
        "- 학습된 머신러닝 모델 기반에서 예측값 반환"
      ],
      "metadata": {
        "id": "BQCruH7Km02A"
      }
    },
    {
      "cell_type": "code",
      "source": [
        "from sklearn.metrics import accuracy_score\n",
        "\n",
        "pred = dt_clf.predict(x_test)\n",
        "ac_score = accuracy_score(y_test, pred)\n",
        "\n",
        "print('예측 정확도: ', ac_score)"
      ],
      "metadata": {
        "colab": {
          "base_uri": "https://localhost:8080/"
        },
        "id": "-ml8xh1imOE9",
        "outputId": "d1eb0b20-ce41-4b04-e92e-93304abdfc64"
      },
      "execution_count": null,
      "outputs": [
        {
          "output_type": "stream",
          "name": "stdout",
          "text": [
            "예측 정확도:  0.9333333333333333\n"
          ]
        }
      ]
    },
    {
      "cell_type": "markdown",
      "source": [
        "#### scikit-learn 데이터 전처리\n",
        "\n",
        "- 1. 결측치 처리\n",
        "\n",
        "① scikit-learn의 머신러닝 알고리즘에서 결측치(Missing value)는 허용되지 않음. 따라서 결측치는 고정된 다른 상수로 변환 필요.\n",
        "\n",
        "② 데이터 세트에서 결측치가 얼마 되지 않는다면 해당 데이터의 평균값 등으로 간단히 대체 가능\n",
        "\n",
        "③ 결측치가 대부분이라면 해당 데이터는 삭제하는 것이 좋음\n",
        "\n",
        "④ 결측치가 일정 수준 이상인 경우, 정해진 기준은 없으나 해당 변수의 중요도가 높고, 결측치를 단순히 평균값으로 대체할 경우 예측 왜곡이 심할 수 있다면 업무 로직 등을 상세히 검토해 더욱 정밀한 대체 값을 선정해야함\n",
        "\n",
        "- 2. scikit-learn의 머신러닝 알고리즘은 문자열 값을 허용하지 않음\n",
        "\n",
        "① 모든 문자열 값은 인코딩을 통해 숫자형으로 변환 필요\n",
        "\n",
        "② 문자열 데이터는 일반적으로 명목형 변수와 텍스트형 변수가 존재\n",
        "→ 명목형 변수는 코드 값으로 변환하여 처리가 가능하나, 텍스트형 변수는 불필요한 변수라고 판단되면 삭제하는 것이 좋음(ex. 단순 문자열 아이디)"
      ],
      "metadata": {
        "id": "lNuElYKzpSAe"
      }
    },
    {
      "cell_type": "markdown",
      "source": [
        "##### ① 레이블 인코딩(Lable Encoding)\n",
        "- 명목형 변수를 코드형 숫자 값으로 변환하는 것\n",
        "\n",
        "- ex) 상품 데이터의 상품 구분이 TV, 냉장고, 전자레인지, 컴퓨터 등으로 되어있다면 TV:1, 냉장고:2, 전자레인지:3, 컴퓨터:4와 같은 숫자형 값으로 변환\n",
        "\n",
        "- scikit-learn의 Label Encoding은 Label Encoder클래스로 구현. Label Encoder를 객체로 생성한 후 fit과 transform을 호출해 레이블 인코딩을 수행할 수 있음\n",
        "\n",
        "- (단점) 레이블 인코딩이 일괄적인 숫자 값으로 변환되면서 몇몇 알고리즘에 적용할 경우 예측 성능이 떨어질 수 있음. 이는 숫자 값의 경우 크고 작음에 대한 특성이 작용하기 때문(즉, 냉장고가 1, 컴퓨터가 3으로 변환되면 1보다 3이 더 큰 값이므로 특정 머신러닝 알고리즘에서는 가중치가 더 부여되거나 중요하게 인식할 가능성 발생) → 선형 회귀와 같은 알고리즘에는 적합하지 않음(트리 계열의 머신러닝 알고리즘은 이러한 특성을 반영하지 않으므로 큰 영향이 없음) → 이러한 레이블 인코딩의 문제점을 해결하기 위한 인코딩 방식이 원-핫 인코딩\n"
      ],
      "metadata": {
        "id": "0ibXlnYZqwmM"
      }
    },
    {
      "cell_type": "code",
      "source": [
        "### 인코딩 encoder.transform()\n",
        "from sklearn.preprocessing import LabelEncoder\n",
        "\n",
        "items = ['TV', '냉장고', '전자레인지', '컴퓨터', 'TV', '냉장고', '컴퓨터', '컴퓨터']\n",
        "\n",
        "encoder = LabelEncoder()\n",
        "encoder.fit(items)\n",
        "labels = encoder.transform(items)\n",
        "\n",
        "print('인코딩 변환값: ', labels)\n",
        "print('인코딩 클래스 ', encoder.classes_)"
      ],
      "metadata": {
        "id": "tDcbY6fSnaiI",
        "colab": {
          "base_uri": "https://localhost:8080/"
        },
        "outputId": "df4e4122-8f25-44a9-8dd4-1a0e95de86b4"
      },
      "execution_count": null,
      "outputs": [
        {
          "output_type": "stream",
          "name": "stdout",
          "text": [
            "인코딩 변환값:  [0 1 2 3 0 1 3 3]\n",
            "인코딩 클래스  ['TV' '냉장고' '전자레인지' '컴퓨터']\n"
          ]
        }
      ]
    },
    {
      "cell_type": "code",
      "source": [
        "### 디코딩 encoder.inverse_transform()\n",
        "origins = encoder.inverse_transform([0, 1, 2, 3, 0, 1, 3, 3])\n",
        "\n",
        "print('디코딩 원본값: ', origins)"
      ],
      "metadata": {
        "colab": {
          "base_uri": "https://localhost:8080/"
        },
        "id": "l81AY1ivsHMi",
        "outputId": "9c8ebedb-6d41-4331-d7dd-17f6a68265b3"
      },
      "execution_count": null,
      "outputs": [
        {
          "output_type": "stream",
          "name": "stdout",
          "text": [
            "디코딩 원본값:  ['TV' '냉장고' '전자레인지' '컴퓨터' 'TV' '냉장고' '컴퓨터' '컴퓨터']\n"
          ]
        }
      ]
    },
    {
      "cell_type": "markdown",
      "source": [
        "##### ② 원-핫 인코딩(One-Hot Encoding)\n",
        "- 해당 고유값에 매칭되는 변수만 1이 되고, 나머지 변수는 0을 입력\n",
        "- scikit-learn에서 OneHotEncoder 클래스로 쉽게 변환 가능\n",
        "- 주의할 점: OneHotEncoder로 변환하기 전에 모든 문자열 값이 숫자형 값으로 변환되어야 함 / 입력 값으로 2차원 데이터가 필요함"
      ],
      "metadata": {
        "id": "8hTbjS1YtMaB"
      }
    },
    {
      "cell_type": "code",
      "source": [
        "from sklearn.preprocessing import OneHotEncoder\n",
        "import numpy as np\n",
        "\n",
        "labels = labels.reshape(-1, 1) # 앞서 수행한 레이블 인코딩 결과를 2차원 데이터로 변환\n",
        "\n",
        "oh_encoder = OneHotEncoder()\n",
        "oh_encoder.fit(labels)\n",
        "oh_labels = oh_encoder.transform(labels)\n",
        "\n",
        "print('원-핫 인코딩 데이터')\n",
        "print(oh_labels.toarray())\n",
        "print('원-핫 인코딩 데이터 차원')\n",
        "print(oh_labels.shape)"
      ],
      "metadata": {
        "colab": {
          "base_uri": "https://localhost:8080/"
        },
        "id": "bKWxiqLfr7M6",
        "outputId": "9f9b729f-a671-4032-ae3c-80db4809afc2"
      },
      "execution_count": null,
      "outputs": [
        {
          "output_type": "stream",
          "name": "stdout",
          "text": [
            "원-핫 인코딩 데이터\n",
            "[[1. 0. 0. 0.]\n",
            " [0. 1. 0. 0.]\n",
            " [0. 0. 1. 0.]\n",
            " [0. 0. 0. 1.]\n",
            " [1. 0. 0. 0.]\n",
            " [0. 1. 0. 0.]\n",
            " [0. 0. 0. 1.]\n",
            " [0. 0. 0. 1.]]\n",
            "원-핫 인코딩 데이터 차원\n",
            "(8, 4)\n"
          ]
        }
      ]
    },
    {
      "cell_type": "markdown",
      "source": [
        "###### Pandas의 원-핫 인코딩\n",
        "- pandas에서 get_dummies 함수를 이용하면 명목형 데이터를 숫자형으로 변환할 필요 없이 바로 2차원 데이터로 변환하여 인코딩 수행 가능"
      ],
      "metadata": {
        "id": "vJ5IMdPiuzyU"
      }
    },
    {
      "cell_type": "code",
      "source": [
        "import pandas as pd\n",
        "\n",
        "item_df = pd.DataFrame({'item':items})\n",
        "pd.get_dummies(item_df)"
      ],
      "metadata": {
        "colab": {
          "base_uri": "https://localhost:8080/",
          "height": 300
        },
        "id": "XYZpevgUuRUk",
        "outputId": "6006d82c-28ef-4399-b87c-bdbb6374bb48"
      },
      "execution_count": null,
      "outputs": [
        {
          "output_type": "execute_result",
          "data": {
            "text/plain": [
              "   item_TV  item_냉장고  item_전자레인지  item_컴퓨터\n",
              "0        1         0           0         0\n",
              "1        0         1           0         0\n",
              "2        0         0           1         0\n",
              "3        0         0           0         1\n",
              "4        1         0           0         0\n",
              "5        0         1           0         0\n",
              "6        0         0           0         1\n",
              "7        0         0           0         1"
            ],
            "text/html": [
              "\n",
              "  <div id=\"df-37a1e562-7041-4d4f-b7a1-1a6cb5396089\" class=\"colab-df-container\">\n",
              "    <div>\n",
              "<style scoped>\n",
              "    .dataframe tbody tr th:only-of-type {\n",
              "        vertical-align: middle;\n",
              "    }\n",
              "\n",
              "    .dataframe tbody tr th {\n",
              "        vertical-align: top;\n",
              "    }\n",
              "\n",
              "    .dataframe thead th {\n",
              "        text-align: right;\n",
              "    }\n",
              "</style>\n",
              "<table border=\"1\" class=\"dataframe\">\n",
              "  <thead>\n",
              "    <tr style=\"text-align: right;\">\n",
              "      <th></th>\n",
              "      <th>item_TV</th>\n",
              "      <th>item_냉장고</th>\n",
              "      <th>item_전자레인지</th>\n",
              "      <th>item_컴퓨터</th>\n",
              "    </tr>\n",
              "  </thead>\n",
              "  <tbody>\n",
              "    <tr>\n",
              "      <th>0</th>\n",
              "      <td>1</td>\n",
              "      <td>0</td>\n",
              "      <td>0</td>\n",
              "      <td>0</td>\n",
              "    </tr>\n",
              "    <tr>\n",
              "      <th>1</th>\n",
              "      <td>0</td>\n",
              "      <td>1</td>\n",
              "      <td>0</td>\n",
              "      <td>0</td>\n",
              "    </tr>\n",
              "    <tr>\n",
              "      <th>2</th>\n",
              "      <td>0</td>\n",
              "      <td>0</td>\n",
              "      <td>1</td>\n",
              "      <td>0</td>\n",
              "    </tr>\n",
              "    <tr>\n",
              "      <th>3</th>\n",
              "      <td>0</td>\n",
              "      <td>0</td>\n",
              "      <td>0</td>\n",
              "      <td>1</td>\n",
              "    </tr>\n",
              "    <tr>\n",
              "      <th>4</th>\n",
              "      <td>1</td>\n",
              "      <td>0</td>\n",
              "      <td>0</td>\n",
              "      <td>0</td>\n",
              "    </tr>\n",
              "    <tr>\n",
              "      <th>5</th>\n",
              "      <td>0</td>\n",
              "      <td>1</td>\n",
              "      <td>0</td>\n",
              "      <td>0</td>\n",
              "    </tr>\n",
              "    <tr>\n",
              "      <th>6</th>\n",
              "      <td>0</td>\n",
              "      <td>0</td>\n",
              "      <td>0</td>\n",
              "      <td>1</td>\n",
              "    </tr>\n",
              "    <tr>\n",
              "      <th>7</th>\n",
              "      <td>0</td>\n",
              "      <td>0</td>\n",
              "      <td>0</td>\n",
              "      <td>1</td>\n",
              "    </tr>\n",
              "  </tbody>\n",
              "</table>\n",
              "</div>\n",
              "    <div class=\"colab-df-buttons\">\n",
              "\n",
              "  <div class=\"colab-df-container\">\n",
              "    <button class=\"colab-df-convert\" onclick=\"convertToInteractive('df-37a1e562-7041-4d4f-b7a1-1a6cb5396089')\"\n",
              "            title=\"Convert this dataframe to an interactive table.\"\n",
              "            style=\"display:none;\">\n",
              "\n",
              "  <svg xmlns=\"http://www.w3.org/2000/svg\" height=\"24px\" viewBox=\"0 -960 960 960\">\n",
              "    <path d=\"M120-120v-720h720v720H120Zm60-500h600v-160H180v160Zm220 220h160v-160H400v160Zm0 220h160v-160H400v160ZM180-400h160v-160H180v160Zm440 0h160v-160H620v160ZM180-180h160v-160H180v160Zm440 0h160v-160H620v160Z\"/>\n",
              "  </svg>\n",
              "    </button>\n",
              "\n",
              "  <style>\n",
              "    .colab-df-container {\n",
              "      display:flex;\n",
              "      gap: 12px;\n",
              "    }\n",
              "\n",
              "    .colab-df-convert {\n",
              "      background-color: #E8F0FE;\n",
              "      border: none;\n",
              "      border-radius: 50%;\n",
              "      cursor: pointer;\n",
              "      display: none;\n",
              "      fill: #1967D2;\n",
              "      height: 32px;\n",
              "      padding: 0 0 0 0;\n",
              "      width: 32px;\n",
              "    }\n",
              "\n",
              "    .colab-df-convert:hover {\n",
              "      background-color: #E2EBFA;\n",
              "      box-shadow: 0px 1px 2px rgba(60, 64, 67, 0.3), 0px 1px 3px 1px rgba(60, 64, 67, 0.15);\n",
              "      fill: #174EA6;\n",
              "    }\n",
              "\n",
              "    .colab-df-buttons div {\n",
              "      margin-bottom: 4px;\n",
              "    }\n",
              "\n",
              "    [theme=dark] .colab-df-convert {\n",
              "      background-color: #3B4455;\n",
              "      fill: #D2E3FC;\n",
              "    }\n",
              "\n",
              "    [theme=dark] .colab-df-convert:hover {\n",
              "      background-color: #434B5C;\n",
              "      box-shadow: 0px 1px 3px 1px rgba(0, 0, 0, 0.15);\n",
              "      filter: drop-shadow(0px 1px 2px rgba(0, 0, 0, 0.3));\n",
              "      fill: #FFFFFF;\n",
              "    }\n",
              "  </style>\n",
              "\n",
              "    <script>\n",
              "      const buttonEl =\n",
              "        document.querySelector('#df-37a1e562-7041-4d4f-b7a1-1a6cb5396089 button.colab-df-convert');\n",
              "      buttonEl.style.display =\n",
              "        google.colab.kernel.accessAllowed ? 'block' : 'none';\n",
              "\n",
              "      async function convertToInteractive(key) {\n",
              "        const element = document.querySelector('#df-37a1e562-7041-4d4f-b7a1-1a6cb5396089');\n",
              "        const dataTable =\n",
              "          await google.colab.kernel.invokeFunction('convertToInteractive',\n",
              "                                                    [key], {});\n",
              "        if (!dataTable) return;\n",
              "\n",
              "        const docLinkHtml = 'Like what you see? Visit the ' +\n",
              "          '<a target=\"_blank\" href=https://colab.research.google.com/notebooks/data_table.ipynb>data table notebook</a>'\n",
              "          + ' to learn more about interactive tables.';\n",
              "        element.innerHTML = '';\n",
              "        dataTable['output_type'] = 'display_data';\n",
              "        await google.colab.output.renderOutput(dataTable, element);\n",
              "        const docLink = document.createElement('div');\n",
              "        docLink.innerHTML = docLinkHtml;\n",
              "        element.appendChild(docLink);\n",
              "      }\n",
              "    </script>\n",
              "  </div>\n",
              "\n",
              "\n",
              "<div id=\"df-330d7d1f-fdf9-490d-9aa7-e3ba966cf1fd\">\n",
              "  <button class=\"colab-df-quickchart\" onclick=\"quickchart('df-330d7d1f-fdf9-490d-9aa7-e3ba966cf1fd')\"\n",
              "            title=\"Suggest charts.\"\n",
              "            style=\"display:none;\">\n",
              "\n",
              "<svg xmlns=\"http://www.w3.org/2000/svg\" height=\"24px\"viewBox=\"0 0 24 24\"\n",
              "     width=\"24px\">\n",
              "    <g>\n",
              "        <path d=\"M19 3H5c-1.1 0-2 .9-2 2v14c0 1.1.9 2 2 2h14c1.1 0 2-.9 2-2V5c0-1.1-.9-2-2-2zM9 17H7v-7h2v7zm4 0h-2V7h2v10zm4 0h-2v-4h2v4z\"/>\n",
              "    </g>\n",
              "</svg>\n",
              "  </button>\n",
              "\n",
              "<style>\n",
              "  .colab-df-quickchart {\n",
              "      --bg-color: #E8F0FE;\n",
              "      --fill-color: #1967D2;\n",
              "      --hover-bg-color: #E2EBFA;\n",
              "      --hover-fill-color: #174EA6;\n",
              "      --disabled-fill-color: #AAA;\n",
              "      --disabled-bg-color: #DDD;\n",
              "  }\n",
              "\n",
              "  [theme=dark] .colab-df-quickchart {\n",
              "      --bg-color: #3B4455;\n",
              "      --fill-color: #D2E3FC;\n",
              "      --hover-bg-color: #434B5C;\n",
              "      --hover-fill-color: #FFFFFF;\n",
              "      --disabled-bg-color: #3B4455;\n",
              "      --disabled-fill-color: #666;\n",
              "  }\n",
              "\n",
              "  .colab-df-quickchart {\n",
              "    background-color: var(--bg-color);\n",
              "    border: none;\n",
              "    border-radius: 50%;\n",
              "    cursor: pointer;\n",
              "    display: none;\n",
              "    fill: var(--fill-color);\n",
              "    height: 32px;\n",
              "    padding: 0;\n",
              "    width: 32px;\n",
              "  }\n",
              "\n",
              "  .colab-df-quickchart:hover {\n",
              "    background-color: var(--hover-bg-color);\n",
              "    box-shadow: 0 1px 2px rgba(60, 64, 67, 0.3), 0 1px 3px 1px rgba(60, 64, 67, 0.15);\n",
              "    fill: var(--button-hover-fill-color);\n",
              "  }\n",
              "\n",
              "  .colab-df-quickchart-complete:disabled,\n",
              "  .colab-df-quickchart-complete:disabled:hover {\n",
              "    background-color: var(--disabled-bg-color);\n",
              "    fill: var(--disabled-fill-color);\n",
              "    box-shadow: none;\n",
              "  }\n",
              "\n",
              "  .colab-df-spinner {\n",
              "    border: 2px solid var(--fill-color);\n",
              "    border-color: transparent;\n",
              "    border-bottom-color: var(--fill-color);\n",
              "    animation:\n",
              "      spin 1s steps(1) infinite;\n",
              "  }\n",
              "\n",
              "  @keyframes spin {\n",
              "    0% {\n",
              "      border-color: transparent;\n",
              "      border-bottom-color: var(--fill-color);\n",
              "      border-left-color: var(--fill-color);\n",
              "    }\n",
              "    20% {\n",
              "      border-color: transparent;\n",
              "      border-left-color: var(--fill-color);\n",
              "      border-top-color: var(--fill-color);\n",
              "    }\n",
              "    30% {\n",
              "      border-color: transparent;\n",
              "      border-left-color: var(--fill-color);\n",
              "      border-top-color: var(--fill-color);\n",
              "      border-right-color: var(--fill-color);\n",
              "    }\n",
              "    40% {\n",
              "      border-color: transparent;\n",
              "      border-right-color: var(--fill-color);\n",
              "      border-top-color: var(--fill-color);\n",
              "    }\n",
              "    60% {\n",
              "      border-color: transparent;\n",
              "      border-right-color: var(--fill-color);\n",
              "    }\n",
              "    80% {\n",
              "      border-color: transparent;\n",
              "      border-right-color: var(--fill-color);\n",
              "      border-bottom-color: var(--fill-color);\n",
              "    }\n",
              "    90% {\n",
              "      border-color: transparent;\n",
              "      border-bottom-color: var(--fill-color);\n",
              "    }\n",
              "  }\n",
              "</style>\n",
              "\n",
              "  <script>\n",
              "    async function quickchart(key) {\n",
              "      const quickchartButtonEl =\n",
              "        document.querySelector('#' + key + ' button');\n",
              "      quickchartButtonEl.disabled = true;  // To prevent multiple clicks.\n",
              "      quickchartButtonEl.classList.add('colab-df-spinner');\n",
              "      try {\n",
              "        const charts = await google.colab.kernel.invokeFunction(\n",
              "            'suggestCharts', [key], {});\n",
              "      } catch (error) {\n",
              "        console.error('Error during call to suggestCharts:', error);\n",
              "      }\n",
              "      quickchartButtonEl.classList.remove('colab-df-spinner');\n",
              "      quickchartButtonEl.classList.add('colab-df-quickchart-complete');\n",
              "    }\n",
              "    (() => {\n",
              "      let quickchartButtonEl =\n",
              "        document.querySelector('#df-330d7d1f-fdf9-490d-9aa7-e3ba966cf1fd button');\n",
              "      quickchartButtonEl.style.display =\n",
              "        google.colab.kernel.accessAllowed ? 'block' : 'none';\n",
              "    })();\n",
              "  </script>\n",
              "</div>\n",
              "    </div>\n",
              "  </div>\n"
            ]
          },
          "metadata": {},
          "execution_count": 12
        }
      ]
    },
    {
      "cell_type": "markdown",
      "source": [
        "##### ③ 스케일링(Scaling)\n",
        "- 서로 다른 변수의 값 범위를 일정한 수준으로 맞추는 작업\n",
        "- 대표적인 방법: 표준화(Standardization), 정규화(Normalization)\n",
        "- 표준화: 원 데이터를 평균이 0이고 분산이 1인 정규 분포를 가진 값으로 변환(표준화를 통해 변환될 데이터는 원래 값에서 데이터 세트의 평균을 뺀 값을 데이터 세트의 표준편차로 나눈 값으로 계산, x-평균/표준편차)\n",
        "- 정규화: 서로 다른 변수의 크기를 통일하기 위해 크기를 변환해주는 개념. 즉, 개별 데이터의 크기를 모두 똑같은 단위로 변경하는 것. 최대-최소 정규화를 통해 변환될 데이터는 원래 값에서 해당 데이터 세트의 최소값을 뺀 값을 데이터 세트의 최대값과 최소값의 차이로 나눈 값으로 계산 → (x-xmin)/(xmax-xmin)\n",
        "- StandardScaler : 표준화를 쉽게 지원하기 위한 scikit-learn 클래스\n",
        "- MinMaxScaler : 데이터 값을 0과 1사이의 범위 값으로 변환"
      ],
      "metadata": {
        "id": "yxKdUECgvHNN"
      }
    },
    {
      "cell_type": "code",
      "source": [
        "# StandardScaler\n",
        "from sklearn.datasets import load_iris\n",
        "import pandas as pd\n",
        "\n",
        "iris = load_iris()\n",
        "iris_data = iris.data\n",
        "iris_df = pd.DataFrame(data = iris_data, columns = iris.feature_names)\n",
        "\n",
        "print('feature들의 평균 값: \\n', iris_df.mean())\n",
        "print('feature들의 분산 값: \\n', iris_df.var())"
      ],
      "metadata": {
        "colab": {
          "base_uri": "https://localhost:8080/"
        },
        "id": "PR8_V8bQu9Uq",
        "outputId": "f2d5508b-62bc-4811-bdd8-b7ae59d3f541"
      },
      "execution_count": null,
      "outputs": [
        {
          "output_type": "stream",
          "name": "stdout",
          "text": [
            "feature들의 평균 값: \n",
            " sepal length (cm)    5.843333\n",
            "sepal width (cm)     3.057333\n",
            "petal length (cm)    3.758000\n",
            "petal width (cm)     1.199333\n",
            "dtype: float64\n",
            "feature들의 분산 값: \n",
            " sepal length (cm)    0.685694\n",
            "sepal width (cm)     0.189979\n",
            "petal length (cm)    3.116278\n",
            "petal width (cm)     0.581006\n",
            "dtype: float64\n"
          ]
        }
      ]
    },
    {
      "cell_type": "code",
      "source": [
        "# StandardScaler를 이용해 각 변수를 표준화하여 변환\n",
        "from sklearn.preprocessing import StandardScaler\n",
        "\n",
        "scaler = StandardScaler()\n",
        "scaler.fit(iris_df)\n",
        "iris_scaled = scaler.transform(iris_df) #transform을 호출할 때 스케일 변환된 데이터 세트는 numpy배열\n",
        "iris_df_scaled = pd.DataFrame(data = iris_scaled, columns = iris.feature_names) #numpy 배열을 데이터프레임으로 변환해 평균값과 분산값 확인\n",
        "\n",
        "print('feature들의 평균값: \\n', iris_df_scaled.mean()) #0에 아주 가까운 값으로 변환\n",
        "print('feature들의 분산값: \\n', iris_df_scaled.var()) #1에 아주 가까운 값으로 변환"
      ],
      "metadata": {
        "colab": {
          "base_uri": "https://localhost:8080/"
        },
        "id": "cg1z4fin_VOi",
        "outputId": "e4d67781-32fa-43e0-c1ed-65088bf39633"
      },
      "execution_count": null,
      "outputs": [
        {
          "output_type": "stream",
          "name": "stdout",
          "text": [
            "(150, 4)\n",
            "feature들의 평균값: \n",
            " sepal length (cm)   -1.690315e-15\n",
            "sepal width (cm)    -1.842970e-15\n",
            "petal length (cm)   -1.698641e-15\n",
            "petal width (cm)    -1.409243e-15\n",
            "dtype: float64\n",
            "feature들의 분산값: \n",
            " sepal length (cm)    1.006711\n",
            "sepal width (cm)     1.006711\n",
            "petal length (cm)    1.006711\n",
            "petal width (cm)     1.006711\n",
            "dtype: float64\n"
          ]
        }
      ]
    },
    {
      "cell_type": "code",
      "source": [
        "# MinMaxScaler\n",
        "from sklearn.preprocessing import MinMaxScaler\n",
        "\n",
        "scaler = MinMaxScaler()\n",
        "scaler.fit(iris_df)\n",
        "iris_scaled = scaler.transform(iris_df)\n",
        "iris_df_scaled = pd.DataFrame(data = iris_scaled, columns = iris.feature_names)\n",
        "\n",
        "print('feature들의 최소값: \\n', iris_df_scaled.min())\n",
        "print('feature들의 최대값: \\n', iris_df_scaled.max())"
      ],
      "metadata": {
        "colab": {
          "base_uri": "https://localhost:8080/"
        },
        "id": "6UvYcZ88AO4Q",
        "outputId": "18962157-747b-497b-981a-ed7aa0b1877f"
      },
      "execution_count": null,
      "outputs": [
        {
          "output_type": "stream",
          "name": "stdout",
          "text": [
            "feature들의 최소값: \n",
            " sepal length (cm)    0.0\n",
            "sepal width (cm)     0.0\n",
            "petal length (cm)    0.0\n",
            "petal width (cm)     0.0\n",
            "dtype: float64\n",
            "feature들의 최대값: \n",
            " sepal length (cm)    1.0\n",
            "sepal width (cm)     1.0\n",
            "petal length (cm)    1.0\n",
            "petal width (cm)     1.0\n",
            "dtype: float64\n"
          ]
        }
      ]
    },
    {
      "cell_type": "markdown",
      "source": [
        "##### 정리\n",
        "- StandardScaler나 MinMaxScaler와 같은 객체를 이용해 데이터의 스케일링 변환 시 fit, transform, fit_transform 함수 이용\n",
        "- fit은 데이터 변환을 위한기준 정보 설정 적용\n",
        "- transform은 이렇게 설정된 정보를 이용해 데이터 변환\n",
        "- fit_transform은 fit과 transform을 한 번에 적용하는 기능 수행\n",
        "\n",
        "##### 주의할 점\n",
        "- 스케일링 객체를 이용해 학습 데이터 세트로 fit과 transform을 적용하면 테스트 데이터 세트로는 다시 fit을 수행하지 않고 학습 데이터 세트로 fit을 수행한 결과를 이용해 transform 변환을 적용해야함(즉, 학습 데이터로 fit이 적용된 스케일링 기준 정보를 그대로 테스트 데이터에 적용해야함. 테스트 데이터로 다시 새로운 스케일링 기준 정보를 만들게 되면 학습 데이터와 테스트 데이터의 스케일링 기준 정보가 서로 달라지므로 올바른 예측 결과를 도출하지 못할 수 있음)\n"
      ],
      "metadata": {
        "id": "iIU7sbleBrim"
      }
    },
    {
      "cell_type": "code",
      "source": [
        "from sklearn.preprocessing import MinMaxScaler\n",
        "import numpy as np\n",
        "\n",
        "train_array = np.arange(0, 11).reshape(-1, 1)\n",
        "test_array = np.arange(0, 6).reshape(-1, 1)\n",
        "\n",
        "scaler = MinMaxScaler()\n",
        "scaler.fit(train_array)\n",
        "train_scaled = scaler.transform(train_array)\n",
        "\n",
        "print('원본 train_array 데이터: ', np.round(train_array.reshape(-1), 2))\n",
        "print('Scaled train_array 데이터: ', np.round(train_scaled.reshape(-1), 2))\n",
        "\n",
        "#scaler.fit(test_array)\n",
        "test_scaled = scaler.transform(test_array)\n",
        "\n",
        "print('\\n원본 test_array 데이터: ', np.round(test_array.reshape(-1), 2))\n",
        "print('Scaled test_array 데이터: ', np.round(test_scaled.reshape(-1), 2))"
      ],
      "metadata": {
        "colab": {
          "base_uri": "https://localhost:8080/"
        },
        "id": "FH2BkHevBiwB",
        "outputId": "6d1e7f40-9fc4-4c83-b708-a1bbd4380841"
      },
      "execution_count": null,
      "outputs": [
        {
          "output_type": "stream",
          "name": "stdout",
          "text": [
            "원본 train_array 데이터:  [ 0  1  2  3  4  5  6  7  8  9 10]\n",
            "Scaled train_array 데이터:  [0.  0.1 0.2 0.3 0.4 0.5 0.6 0.7 0.8 0.9 1. ]\n",
            "\n",
            "원본 test_array 데이터:  [0 1 2 3 4 5]\n",
            "Scaled test_array 데이터:  [0.  0.1 0.2 0.3 0.4 0.5]\n"
          ]
        }
      ]
    },
    {
      "cell_type": "code",
      "source": [],
      "metadata": {
        "id": "-fVWjzFIDwXC"
      },
      "execution_count": null,
      "outputs": []
    }
  ]
}
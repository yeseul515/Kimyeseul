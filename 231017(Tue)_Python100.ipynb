{
  "nbformat": 4,
  "nbformat_minor": 0,
  "metadata": {
    "colab": {
      "provenance": [],
      "authorship_tag": "ABX9TyOxhXk9YRmlBvva7cI6XGOb",
      "include_colab_link": true
    },
    "kernelspec": {
      "name": "python3",
      "display_name": "Python 3"
    },
    "language_info": {
      "name": "python"
    }
  },
  "cells": [
    {
      "cell_type": "markdown",
      "metadata": {
        "id": "view-in-github",
        "colab_type": "text"
      },
      "source": [
        "<a href=\"https://colab.research.google.com/github/yeseul515/sessac_test2/blob/main/231017(Tue)_Python100.ipynb\" target=\"_parent\"><img src=\"https://colab.research.google.com/assets/colab-badge.svg\" alt=\"Open In Colab\"/></a>"
      ]
    },
    {
      "cell_type": "markdown",
      "source": [
        "# Exercise1-21. Mean Squared Error"
      ],
      "metadata": {
        "id": "gd-LcVPZw5kq"
      }
    },
    {
      "cell_type": "code",
      "execution_count": null,
      "metadata": {
        "colab": {
          "base_uri": "https://localhost:8080/"
        },
        "id": "4th1Y5TBw134",
        "outputId": "50511a8f-e947-4bc8-a82c-bb259517e2c9"
      },
      "outputs": [
        {
          "output_type": "stream",
          "name": "stdout",
          "text": [
            "41.666666666666664\n"
          ]
        }
      ],
      "source": [
        "pred1, pred2, pred3 = 10, 20, 30\n",
        "y1, y2, y3 = 10, 25, 40\n",
        "n_data = 3\n",
        "\n",
        "s_error1 = (pred1-y1)**2\n",
        "s_error2 = (pred2-y2)**2\n",
        "s_error3 = (pred3-y3)**2\n",
        "\n",
        "mse = (s_error1 + s_error2 + s_error3)/n_data\n",
        "print(mse)"
      ]
    },
    {
      "cell_type": "markdown",
      "source": [
        "# Exercise1-22. List 만들기 & 원소 접근하기"
      ],
      "metadata": {
        "id": "lO1cThN-ydtH"
      }
    },
    {
      "cell_type": "code",
      "source": [
        "scores = [10, 20, 30]\n",
        "print(f'scores[0]: {scores[0]}')\n",
        "print(f'scores[1]: {scores[1]}')\n",
        "print(f'scores[2]: {scores[2]}')"
      ],
      "metadata": {
        "colab": {
          "base_uri": "https://localhost:8080/"
        },
        "id": "-URJMIXixUJb",
        "outputId": "d02a6ccd-dea3-4cde-cc0b-24cb759c5bdf"
      },
      "execution_count": null,
      "outputs": [
        {
          "output_type": "stream",
          "name": "stdout",
          "text": [
            "scores[0]: 10\n",
            "scores[1]: 20\n",
            "scores[2]: 30\n"
          ]
        }
      ]
    },
    {
      "cell_type": "markdown",
      "source": [
        "# Exercise1-23. List의 원소 수정하기"
      ],
      "metadata": {
        "id": "O0tSZdcNyzJ5"
      }
    },
    {
      "cell_type": "code",
      "source": [
        "scores = [10, 20, 30]\n",
        "print(scores)"
      ],
      "metadata": {
        "colab": {
          "base_uri": "https://localhost:8080/"
        },
        "id": "SLxwwCTryxya",
        "outputId": "07c0b54f-e85d-4119-c303-ea7d4626bc42"
      },
      "execution_count": null,
      "outputs": [
        {
          "output_type": "stream",
          "name": "stdout",
          "text": [
            "[10, 20, 30]\n"
          ]
        }
      ]
    },
    {
      "cell_type": "code",
      "source": [
        "scores[0] = 100\n",
        "scores[1] = 200\n",
        "print(scores)"
      ],
      "metadata": {
        "colab": {
          "base_uri": "https://localhost:8080/"
        },
        "id": "kzyfdyLEy5Z5",
        "outputId": "3e4c11f7-c129-46d2-fc93-f59fa66f0ac9"
      },
      "execution_count": null,
      "outputs": [
        {
          "output_type": "stream",
          "name": "stdout",
          "text": [
            "[100, 200, 30]\n"
          ]
        }
      ]
    },
    {
      "cell_type": "markdown",
      "source": [
        "# Exercise1-24. 수학 점수들의 평균 구하기"
      ],
      "metadata": {
        "id": "Q9p_AS1bzBaq"
      }
    },
    {
      "cell_type": "code",
      "source": [
        "scores = [10, 20, 30]\n",
        "n_student = len(scores)\n",
        "\n",
        "mean = (scores[0] + scores[1] + scores[2])/n_student\n",
        "print(\"score mean: \", mean)"
      ],
      "metadata": {
        "colab": {
          "base_uri": "https://localhost:8080/"
        },
        "id": "MIDiq-Moy__R",
        "outputId": "80bc58b3-8684-49c4-eb8e-2f627e28517d"
      },
      "execution_count": null,
      "outputs": [
        {
          "output_type": "stream",
          "name": "stdout",
          "text": [
            "score mean:  20.0\n"
          ]
        }
      ]
    },
    {
      "cell_type": "markdown",
      "source": [
        "# Exercise1-25. Mean Subtranction"
      ],
      "metadata": {
        "id": "7JIIMBwwzlsJ"
      }
    },
    {
      "cell_type": "code",
      "source": [
        "scores = [10, 20, 30]\n",
        "n_student = len(scores)\n",
        "\n",
        "mean = (scores[0] + scores[1] + scores[2])/n_student\n",
        "\n",
        "scores[0] -= mean\n",
        "scores[1] -= mean\n",
        "scores[2] -= mean\n",
        "\n",
        "mean = (scores[0] + scores[1] + scores[2])/n_student\n",
        "print(\"score mean: \", mean)"
      ],
      "metadata": {
        "colab": {
          "base_uri": "https://localhost:8080/"
        },
        "id": "vLmWErfqzfTR",
        "outputId": "a2697f70-cf66-477b-d535-4e1ad2af2bf2"
      },
      "execution_count": null,
      "outputs": [
        {
          "output_type": "stream",
          "name": "stdout",
          "text": [
            "score mean:  0.0\n"
          ]
        }
      ]
    },
    {
      "cell_type": "markdown",
      "source": [
        "# Exercise1-26. 분산과 표준편차"
      ],
      "metadata": {
        "id": "4XYyYLRxrBlZ"
      }
    },
    {
      "cell_type": "code",
      "source": [
        "scores = [10, 20, 30]\n",
        "n_student = len(scores)\n",
        "\n",
        "mean = (scores[0]+scores[1]+scores[2])/n_student\n",
        "square_of_mean = mean ** 2\n",
        "mean_of_square = (scores[0]**2 + scores[1]**2 + scores[2]**2)/n_student\n",
        "variance = mean_of_square - square_of_mean\n",
        "std = variance ** 0.5\n",
        "\n",
        "print(\"score mean: \", mean)\n",
        "print(\"score standard deviation: \", std)"
      ],
      "metadata": {
        "id": "ClW83PhXz51i",
        "colab": {
          "base_uri": "https://localhost:8080/"
        },
        "outputId": "8618ecc7-2113-46ce-fad2-993bb70040fa"
      },
      "execution_count": null,
      "outputs": [
        {
          "output_type": "stream",
          "name": "stdout",
          "text": [
            "score mean:  20.0\n",
            "score standard deviation:  8.16496580927726\n"
          ]
        }
      ]
    },
    {
      "cell_type": "markdown",
      "source": [
        "# Exercise1-27. Standardization"
      ],
      "metadata": {
        "id": "a7hKPhA8rAhj"
      }
    },
    {
      "cell_type": "code",
      "source": [
        "scores = [10, 20, 30]\n",
        "n_student = len(scores)\n",
        "\n",
        "mean = (scores[0]+scores[1]+scores[2])/n_student\n",
        "square_of_mean = mean**2\n",
        "mean_of_square = (scores[0]**2 + scores[1]**2 + scores[2]**2)/n_student\n",
        "variance = mean_of_square - square_of_mean\n",
        "std = variance**0.5\n",
        "\n",
        "scores[0] = (scores[0] - mean)/std\n",
        "scores[1] = (scores[1] - mean)/std\n",
        "scores[2] = (scores[2] - mean)/std\n",
        "\n",
        "mean = (scores[0]+scores[1]+scores[2])/n_student\n",
        "square_of_mean = mean**2\n",
        "mean_of_square = (scores[0]**2 + scores[1]**2 + scores[2]**2)/n_student\n",
        "variance = mean_of_square - square_of_mean\n",
        "std = variance**0.5\n",
        "print(\"score mean: \", mean)\n",
        "print(\"score standard deviation: \", std)"
      ],
      "metadata": {
        "colab": {
          "base_uri": "https://localhost:8080/"
        },
        "id": "JCznDi5Hr0tH",
        "outputId": "1a7a2235-42f6-4387-cbe8-612ce693f12c"
      },
      "execution_count": null,
      "outputs": [
        {
          "output_type": "stream",
          "name": "stdout",
          "text": [
            "score mean:  0.0\n",
            "score standard deviation:  1.0\n"
          ]
        }
      ]
    },
    {
      "cell_type": "markdown",
      "source": [
        "# Exercise1-28. Hadamard Product"
      ],
      "metadata": {
        "id": "XwHOtCxksx05"
      }
    },
    {
      "cell_type": "code",
      "source": [
        "# Method1\n",
        "v1, v2 = [1, 2, 3], [3, 4, 5]\n",
        "v3 = [v1[0]*v2[0], v1[1]*v2[1], v1[2]*v2[2]]\n",
        "print(v3)"
      ],
      "metadata": {
        "colab": {
          "base_uri": "https://localhost:8080/"
        },
        "id": "_lcZ6zxzs1fZ",
        "outputId": "e00ebb48-9850-4da9-88c4-c750681a5b19"
      },
      "execution_count": null,
      "outputs": [
        {
          "output_type": "stream",
          "name": "stdout",
          "text": [
            "[3, 8, 15]\n"
          ]
        }
      ]
    },
    {
      "cell_type": "code",
      "source": [
        "# Method2\n",
        "v1, v2 = [1, 2, 3], [3, 4, 5]\n",
        "v3 = [0, 0, 0]\n",
        "\n",
        "v3[0] = v1[0]*v2[0]\n",
        "v3[1] = v1[1]*v2[1]\n",
        "v3[2] = v1[2]*v2[2]\n",
        "print(v3)"
      ],
      "metadata": {
        "colab": {
          "base_uri": "https://localhost:8080/"
        },
        "id": "WD1HRqJvtOdi",
        "outputId": "6b062cc0-cbb8-4921-dbd1-1f598b368e32"
      },
      "execution_count": null,
      "outputs": [
        {
          "output_type": "stream",
          "name": "stdout",
          "text": [
            "[3, 8, 15]\n"
          ]
        }
      ]
    },
    {
      "cell_type": "markdown",
      "source": [
        "# Exercise1-29. list( )와 append( )"
      ],
      "metadata": {
        "id": "PXmH3iSYrvha"
      }
    },
    {
      "cell_type": "code",
      "source": [
        "v1 = list()\n",
        "print(v1)\n",
        "\n",
        "v1.append(1)\n",
        "print(v1)\n",
        "\n",
        "v1.append(2)\n",
        "print(v1)\n",
        "\n",
        "v1.append(3)\n",
        "print(v1)"
      ],
      "metadata": {
        "colab": {
          "base_uri": "https://localhost:8080/"
        },
        "id": "jPVbfHVOtiy5",
        "outputId": "c117a836-54b9-48c8-9c88-2b7434b49f63"
      },
      "execution_count": null,
      "outputs": [
        {
          "output_type": "stream",
          "name": "stdout",
          "text": [
            "[]\n",
            "[1]\n",
            "[1, 2]\n",
            "[1, 2, 3]\n"
          ]
        }
      ]
    },
    {
      "cell_type": "markdown",
      "source": [
        "# Exercise1-30. Hadamard Product"
      ],
      "metadata": {
        "id": "gN4X47f_tuWC"
      }
    },
    {
      "cell_type": "code",
      "source": [
        "v1, v2 = [1, 2, 3], [3, 4, 5]\n",
        "v3 = list()\n",
        "\n",
        "v3.append(v1[0]*v2[0])\n",
        "v3.append(v1[1]*v2[1])\n",
        "v3.append(v1[2]*v2[2])\n",
        "print(v3)"
      ],
      "metadata": {
        "colab": {
          "base_uri": "https://localhost:8080/"
        },
        "id": "Z5eTWkoRtlry",
        "outputId": "0de53595-9ff9-411b-808e-b1fb790eb4b9"
      },
      "execution_count": null,
      "outputs": [
        {
          "output_type": "stream",
          "name": "stdout",
          "text": [
            "[3, 8, 15]\n"
          ]
        }
      ]
    },
    {
      "cell_type": "markdown",
      "source": [
        "# Exercise1-31. Vector Norm"
      ],
      "metadata": {
        "id": "8rpCHfM7kLKx"
      }
    },
    {
      "cell_type": "code",
      "source": [
        "v1 = [1, 2, 3]\n",
        "\n",
        "# Method1\n",
        "norm = (v1[0]**2 + v1[1]**2 + v1[2]**2)**0.5\n",
        "print(norm)"
      ],
      "metadata": {
        "id": "vyeRhD_7t9rG",
        "colab": {
          "base_uri": "https://localhost:8080/"
        },
        "outputId": "f5f15c9f-ac40-448b-89da-722812e33ad1"
      },
      "execution_count": null,
      "outputs": [
        {
          "output_type": "stream",
          "name": "stdout",
          "text": [
            "3.7416573867739413\n"
          ]
        }
      ]
    },
    {
      "cell_type": "code",
      "source": [
        "v1 = [1, 2, 3]\n",
        "\n",
        "# Method2\n",
        "\n",
        "norm = 0\n",
        "norm += v1[0]**2\n",
        "norm += v1[1]**2\n",
        "norm += v1[2]**2\n",
        "norm **= 0.5\n",
        "print(norm)"
      ],
      "metadata": {
        "colab": {
          "base_uri": "https://localhost:8080/"
        },
        "id": "jEUDVWStkc6l",
        "outputId": "d750ad01-e7e2-4fb7-fa24-5b20360edbb3"
      },
      "execution_count": null,
      "outputs": [
        {
          "output_type": "stream",
          "name": "stdout",
          "text": [
            "3.7416573867739413\n"
          ]
        }
      ]
    },
    {
      "cell_type": "markdown",
      "source": [
        "# Exercise1-32. Making Unit Vector"
      ],
      "metadata": {
        "id": "LqL5POC-k2Wg"
      }
    },
    {
      "cell_type": "code",
      "source": [
        "v1 = [1, 2, 3]\n",
        "\n",
        "norm = (v1[0]**2 + v1[1]**2 + v1[2]**2)**0.5\n",
        "print(norm)\n",
        "\n",
        "v1 = [v1[0]/norm, v1[1]/norm, v1[2]/norm]\n",
        "norm = (v1[0]**2 + v1[1]**2 + v1[2]**2)**0.5\n",
        "print(norm)"
      ],
      "metadata": {
        "colab": {
          "base_uri": "https://localhost:8080/"
        },
        "id": "xQTih51Xk1DU",
        "outputId": "791cc4b8-e14f-4b89-c193-2a39f912a292"
      },
      "execution_count": null,
      "outputs": [
        {
          "output_type": "stream",
          "name": "stdout",
          "text": [
            "3.7416573867739413\n",
            "1.0\n"
          ]
        }
      ]
    },
    {
      "cell_type": "markdown",
      "source": [
        "# Exercise1-33. Dot Product"
      ],
      "metadata": {
        "id": "YyaQmHHnlVRf"
      }
    },
    {
      "cell_type": "code",
      "source": [
        "v1, v2 = [1, 2, 3], [3, 4, 5]\n",
        "\n",
        "# Method1\n",
        "dot_prod = v1[0]*v2[0] + v1[1]*v2[1] + v1[2]*v2[2]\n",
        "print(dot_prod)"
      ],
      "metadata": {
        "colab": {
          "base_uri": "https://localhost:8080/"
        },
        "id": "Tryb30wqkxUf",
        "outputId": "ee290243-52fb-4870-b8d7-cdd35259abc6"
      },
      "execution_count": null,
      "outputs": [
        {
          "output_type": "stream",
          "name": "stdout",
          "text": [
            "26\n"
          ]
        }
      ]
    },
    {
      "cell_type": "code",
      "source": [
        "v1, v2 = [1, 2, 3], [3, 4, 5]\n",
        "# Method2\n",
        "dot_prod = 0\n",
        "\n",
        "dot_prod += v1[0]*v2[0]\n",
        "dot_prod += v1[1]*v2[1]\n",
        "dot_prod += v1[2]*v2[2]\n",
        "print(dot_prod)"
      ],
      "metadata": {
        "colab": {
          "base_uri": "https://localhost:8080/"
        },
        "id": "mz3buTgElrZp",
        "outputId": "5f2a5d82-5cc2-4432-9d38-fbb7b998fe64"
      },
      "execution_count": null,
      "outputs": [
        {
          "output_type": "stream",
          "name": "stdout",
          "text": [
            "26\n"
          ]
        }
      ]
    },
    {
      "cell_type": "markdown",
      "source": [
        "# Exercise1-34. Euclidean Distance"
      ],
      "metadata": {
        "id": "xJH8stzDl61i"
      }
    },
    {
      "cell_type": "code",
      "source": [
        "v1, v2 = [1, 2, 3], [3, 4, 5]\n",
        "\n",
        "e_distance = 0\n",
        "\n",
        "e_distance += (v1[0] - v2[0])**2\n",
        "e_distance += (v1[1] - v2[1])**2\n",
        "e_distance += (v1[2] - v2[2])**2\n",
        "e_distance **= 0.5\n",
        "\n",
        "print(e_distance)"
      ],
      "metadata": {
        "colab": {
          "base_uri": "https://localhost:8080/"
        },
        "id": "F57kB6t5l5Xn",
        "outputId": "f5c5e5db-ab67-4c58-b368-3cfcc502f65e"
      },
      "execution_count": null,
      "outputs": [
        {
          "output_type": "stream",
          "name": "stdout",
          "text": [
            "3.4641016151377544\n"
          ]
        }
      ]
    },
    {
      "cell_type": "markdown",
      "source": [
        "# Exercise1-35. Mean Squared Error"
      ],
      "metadata": {
        "id": "wbgTDGi0mVl4"
      }
    },
    {
      "cell_type": "code",
      "source": [
        "predictions = [10, 20, 30]\n",
        "labels = [10, 25, 40]\n",
        "n_data = len(predictions)\n",
        "\n",
        "mse = 0\n",
        "\n",
        "mse += (predictions[0] - labels[0])**2\n",
        "mse += (predictions[1] - labels[1])**2\n",
        "mse += (predictions[2] - labels[2])**2\n",
        "mse /= n_data\n",
        "print(mse)"
      ],
      "metadata": {
        "colab": {
          "base_uri": "https://localhost:8080/"
        },
        "id": "ANXz6X3HmORX",
        "outputId": "922cb143-3e4c-4357-fb39-5d94ddbe62e4"
      },
      "execution_count": null,
      "outputs": [
        {
          "output_type": "stream",
          "name": "stdout",
          "text": [
            "41.666666666666664\n"
          ]
        }
      ]
    },
    {
      "cell_type": "markdown",
      "source": [
        "# Exercise1-36. for loop으로 list의 원소 접근하기"
      ],
      "metadata": {
        "id": "l_SMAa0RsPfd"
      }
    },
    {
      "cell_type": "code",
      "source": [
        "scores = [10, 20, 30]\n",
        "\n",
        "for score in scores:\n",
        "  print(score)"
      ],
      "metadata": {
        "colab": {
          "base_uri": "https://localhost:8080/"
        },
        "id": "E5IE1Hkim_kY",
        "outputId": "800bd454-ccff-4d47-d718-44d63479e0a4"
      },
      "execution_count": null,
      "outputs": [
        {
          "output_type": "stream",
          "name": "stdout",
          "text": [
            "10\n",
            "20\n",
            "30\n"
          ]
        }
      ]
    },
    {
      "cell_type": "markdown",
      "source": [
        "# Exercise1-37. List 원소들의 합 구하기"
      ],
      "metadata": {
        "id": "TjXuaw0Isauf"
      }
    },
    {
      "cell_type": "code",
      "source": [
        "scores = [10, 20, 30]\n",
        "\n",
        "score_sum = 0\n",
        "for score in scores:\n",
        "  score_sum += score\n",
        "print(score_sum)"
      ],
      "metadata": {
        "colab": {
          "base_uri": "https://localhost:8080/"
        },
        "id": "vQQV19aLsYRp",
        "outputId": "5f2f27b3-ee1a-4f1c-b776-f4addc5de56e"
      },
      "execution_count": null,
      "outputs": [
        {
          "output_type": "stream",
          "name": "stdout",
          "text": [
            "60\n"
          ]
        }
      ]
    },
    {
      "cell_type": "markdown",
      "source": [
        "# Exercise1-38. Iteration 횟수 구하기"
      ],
      "metadata": {
        "id": "EDLcGBYVsq9w"
      }
    },
    {
      "cell_type": "code",
      "source": [
        "numbers = [1, 4, 5, 6, 4, 2, 1]\n",
        "iter_cnt = 0\n",
        "\n",
        "for _ in numbers:\n",
        "  iter_cnt += 1\n",
        "\n",
        "print(iter_cnt)"
      ],
      "metadata": {
        "colab": {
          "base_uri": "https://localhost:8080/"
        },
        "id": "ONGUs9susnmi",
        "outputId": "b589c420-be4e-46f3-8264-9beca773727b"
      },
      "execution_count": null,
      "outputs": [
        {
          "output_type": "stream",
          "name": "stdout",
          "text": [
            "7\n"
          ]
        }
      ]
    },
    {
      "cell_type": "markdown",
      "source": [
        "# Exercise1-39. 1부터 100까지의 합 구하기"
      ],
      "metadata": {
        "id": "xkGgK9Nbs9lr"
      }
    },
    {
      "cell_type": "code",
      "source": [
        "num_sum = 0\n",
        "\n",
        "for num in range(101):\n",
        "  num_sum += num\n",
        "\n",
        "print(num_sum)"
      ],
      "metadata": {
        "colab": {
          "base_uri": "https://localhost:8080/"
        },
        "id": "l0hdsoVAs5kf",
        "outputId": "ca4f19c1-43ce-4829-ae90-250ad1653f0a"
      },
      "execution_count": null,
      "outputs": [
        {
          "output_type": "stream",
          "name": "stdout",
          "text": [
            "5050\n"
          ]
        }
      ]
    },
    {
      "cell_type": "markdown",
      "source": [
        "# Exercise1-40. 1부터 100까지 List 만들기"
      ],
      "metadata": {
        "id": "ejoHVDo7tKvH"
      }
    },
    {
      "cell_type": "code",
      "source": [
        "numbers = list()\n",
        "\n",
        "for num in range(101):\n",
        "  numbers.append(num)\n",
        "\n",
        "print(numbers)"
      ],
      "metadata": {
        "colab": {
          "base_uri": "https://localhost:8080/"
        },
        "id": "x8u-jdLatGAE",
        "outputId": "d528713d-d292-4fc3-f3bc-77421931c0ae"
      },
      "execution_count": null,
      "outputs": [
        {
          "output_type": "stream",
          "name": "stdout",
          "text": [
            "[0, 1, 2, 3, 4, 5, 6, 7, 8, 9, 10, 11, 12, 13, 14, 15, 16, 17, 18, 19, 20, 21, 22, 23, 24, 25, 26, 27, 28, 29, 30, 31, 32, 33, 34, 35, 36, 37, 38, 39, 40, 41, 42, 43, 44, 45, 46, 47, 48, 49, 50, 51, 52, 53, 54, 55, 56, 57, 58, 59, 60, 61, 62, 63, 64, 65, 66, 67, 68, 69, 70, 71, 72, 73, 74, 75, 76, 77, 78, 79, 80, 81, 82, 83, 84, 85, 86, 87, 88, 89, 90, 91, 92, 93, 94, 95, 96, 97, 98, 99, 100]\n"
          ]
        }
      ]
    },
    {
      "cell_type": "code",
      "source": [],
      "metadata": {
        "id": "uMkKMivAtVs4"
      },
      "execution_count": null,
      "outputs": []
    }
  ]
}
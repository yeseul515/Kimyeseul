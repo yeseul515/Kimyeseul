{
  "nbformat": 4,
  "nbformat_minor": 0,
  "metadata": {
    "colab": {
      "provenance": [],
      "authorship_tag": "ABX9TyOXyU777B6tH1NX02OoOd+I",
      "include_colab_link": true
    },
    "kernelspec": {
      "name": "python3",
      "display_name": "Python 3"
    },
    "language_info": {
      "name": "python"
    }
  },
  "cells": [
    {
      "cell_type": "markdown",
      "metadata": {
        "id": "view-in-github",
        "colab_type": "text"
      },
      "source": [
        "<a href=\"https://colab.research.google.com/github/yeseul515/sessac_test2/blob/main/231017(Tue)_%EB%B9%85%EB%B6%84%EA%B8%B0.ipynb\" target=\"_parent\"><img src=\"https://colab.research.google.com/assets/colab-badge.svg\" alt=\"Open In Colab\"/></a>"
      ]
    },
    {
      "cell_type": "markdown",
      "source": [
        "# Numpy\n",
        "- numpy의 기반 데이터 타입은 다차원 배열(ndarray)\n",
        "- 다차원 배열: 같은 자료형의 데이터를 담을 수 있는 하나의 그릇\n",
        "\n"
      ],
      "metadata": {
        "id": "xLZy9XQ4sxNj"
      }
    },
    {
      "cell_type": "markdown",
      "source": [
        "## (1) numpy 배열 생성"
      ],
      "metadata": {
        "id": "k5IWaHwxs1-P"
      }
    },
    {
      "cell_type": "code",
      "execution_count": null,
      "metadata": {
        "id": "7e_Suh5zsq8G"
      },
      "outputs": [],
      "source": [
        "# 212-01\n",
        "import numpy as np"
      ]
    },
    {
      "cell_type": "code",
      "source": [
        "# 212-02\n",
        "a1 = np.array([1, 2, 3])\n",
        "print(a1)\n",
        "print('array1 type: ', type(a1))\n",
        "print('array1 shape: ', a1.shape) #1차원 배열에 3개의 데이터 구조\n",
        "\n",
        "a2 = np.array([[1, 2, 3], [4, 5, 6]])\n",
        "print(a2)\n",
        "print('array2 type: ', type(a2))\n",
        "print('array2 shape: ', a2.shape) #2차원 배열에 2개의 행과 3개의 컬럼 데이터 구조\n",
        "\n",
        "a3 = np.array([[1, 2, 3]])\n",
        "print(a3)\n",
        "print('array3 type: ', type(a3))\n",
        "print('array3 shape: ', a3.shape) #2차원 배열에 1개의 행과 3개의 컬럼 데이터 구조"
      ],
      "metadata": {
        "colab": {
          "base_uri": "https://localhost:8080/"
        },
        "id": "bIUd6gKbs4Lk",
        "outputId": "ff5dc432-c0dd-49e1-a23d-deccdeb7c4bb"
      },
      "execution_count": null,
      "outputs": [
        {
          "output_type": "stream",
          "name": "stdout",
          "text": [
            "[1 2 3]\n",
            "array1 type:  <class 'numpy.ndarray'>\n",
            "array1 shape:  (3,)\n",
            "[[1 2 3]\n",
            " [4 5 6]]\n",
            "array2 type:  <class 'numpy.ndarray'>\n",
            "array2 shape:  (2, 3)\n",
            "[[1 2 3]]\n",
            "array3 type:  <class 'numpy.ndarray'>\n",
            "array3 shape:  (1, 3)\n"
          ]
        }
      ]
    },
    {
      "cell_type": "code",
      "source": [
        "# 212-03 각 배열의 차원 확인\n",
        "\n",
        "print('array1 dim: ', a1.ndim)\n",
        "print('array2 dim: ', a2.ndim)\n",
        "print('array3 dim: ', a3.ndim)"
      ],
      "metadata": {
        "id": "rUFobGDJs6eK",
        "outputId": "7a2c379e-d786-43f2-b11a-f94254cf80c3",
        "colab": {
          "base_uri": "https://localhost:8080/"
        }
      },
      "execution_count": null,
      "outputs": [
        {
          "output_type": "stream",
          "name": "stdout",
          "text": [
            "array1 dim:  1\n",
            "array2 dim:  2\n",
            "array3 dim:  2\n"
          ]
        }
      ]
    },
    {
      "cell_type": "code",
      "source": [
        "# 212-04\n",
        "\n",
        "a = np.arange(20)\n",
        "print(a)"
      ],
      "metadata": {
        "id": "n-THCmw6s8lK",
        "outputId": "181e4852-68e8-41ce-f0a0-4d06c2663fc7",
        "colab": {
          "base_uri": "https://localhost:8080/"
        }
      },
      "execution_count": null,
      "outputs": [
        {
          "output_type": "stream",
          "name": "stdout",
          "text": [
            "[ 0  1  2  3  4  5  6  7  8  9 10 11 12 13 14 15 16 17 18 19]\n"
          ]
        }
      ]
    },
    {
      "cell_type": "code",
      "source": [
        "# 212-05\n",
        "a = np.arange(1, 20, 3)\n",
        "print(a)"
      ],
      "metadata": {
        "id": "P1EWjysUs_RZ",
        "outputId": "0bfc9643-51e0-41e5-e175-896bd9335cc8",
        "colab": {
          "base_uri": "https://localhost:8080/"
        }
      },
      "execution_count": null,
      "outputs": [
        {
          "output_type": "stream",
          "name": "stdout",
          "text": [
            "[ 1  4  7 10 13 16 19]\n"
          ]
        }
      ]
    },
    {
      "cell_type": "markdown",
      "source": [
        "## (2) numpy 배열 초기화\n",
        "- 0 또는 1로 초기화해야 할 필요가 있는 경우 → zeros, ones 함수 이용\n",
        "- zeros 함수는 매개변수로 튜플 형태의 shape 값을 입력하면 모든 값을 0으로 채운 배열을 생성(ones 함수는 1로 채운 배열 생성)"
      ],
      "metadata": {
        "id": "0YSPpNuLBrGq"
      }
    },
    {
      "cell_type": "code",
      "source": [
        "# 213-01\n",
        "import numpy as np\n",
        "\n",
        "zero_a = np.zeros((2, 5))\n",
        "one_a = np.ones((3, 4))\n",
        "\n",
        "print(zero_a)\n",
        "print(one_a)"
      ],
      "metadata": {
        "id": "BSAYksN9tAtL",
        "colab": {
          "base_uri": "https://localhost:8080/"
        },
        "outputId": "c614e140-875c-4390-c000-fa95defed11b"
      },
      "execution_count": null,
      "outputs": [
        {
          "output_type": "stream",
          "name": "stdout",
          "text": [
            "[[0. 0. 0. 0. 0.]\n",
            " [0. 0. 0. 0. 0.]]\n",
            "[[1. 1. 1. 1.]\n",
            " [1. 1. 1. 1.]\n",
            " [1. 1. 1. 1.]]\n"
          ]
        }
      ]
    },
    {
      "cell_type": "code",
      "source": [
        "# 213-02 이미 생성된 배열 구조와 동일한 구조를 유지한 상태에서 0으로 채워진 배열로 초기화하여 생성하는 방법(one_a의 배열 구조를 유지하면서 0으로 채우는 방법)\n",
        "\n",
        "zero_b = np.zeros_like(one_a)\n",
        "print(zero_b)"
      ],
      "metadata": {
        "colab": {
          "base_uri": "https://localhost:8080/"
        },
        "id": "b7cjnPH_CpiD",
        "outputId": "2a1e19fb-4e16-4458-a894-74d88416eaf3"
      },
      "execution_count": null,
      "outputs": [
        {
          "output_type": "stream",
          "name": "stdout",
          "text": [
            "[[0. 0. 0. 0.]\n",
            " [0. 0. 0. 0.]\n",
            " [0. 0. 0. 0.]]\n"
          ]
        }
      ]
    },
    {
      "cell_type": "code",
      "source": [
        "# 213-03\n",
        "\n",
        "one_b = np.ones_like(zero_a)\n",
        "print(one_b)"
      ],
      "metadata": {
        "colab": {
          "base_uri": "https://localhost:8080/"
        },
        "id": "Pg89XFvLC-_q",
        "outputId": "32b9a521-305f-4047-c41a-c8449d659de5"
      },
      "execution_count": null,
      "outputs": [
        {
          "output_type": "stream",
          "name": "stdout",
          "text": [
            "[[1. 1. 1. 1. 1.]\n",
            " [1. 1. 1. 1. 1.]]\n"
          ]
        }
      ]
    },
    {
      "cell_type": "code",
      "source": [
        "# 213-04 모든 값이 특정 상수인 배열을 생성하거나 임의의 값으로 채워진 배열 생성\n",
        "\n",
        "full_a = np.full((4, 3), 9)\n",
        "random_a = np.random.random((3, 4))\n",
        "\n",
        "print(full_a)\n",
        "print(random_a)"
      ],
      "metadata": {
        "colab": {
          "base_uri": "https://localhost:8080/"
        },
        "id": "i6-JrgowDY_h",
        "outputId": "eb6b76d4-3fe8-4cd4-e915-794bc1fc3bfe"
      },
      "execution_count": null,
      "outputs": [
        {
          "output_type": "stream",
          "name": "stdout",
          "text": [
            "[[9 9 9]\n",
            " [9 9 9]\n",
            " [9 9 9]\n",
            " [9 9 9]]\n",
            "[[7.98187866e-01 6.44436133e-01 1.85583885e-01 7.34888602e-01]\n",
            " [7.58966821e-04 6.14709284e-01 6.30077401e-01 2.70878972e-01]\n",
            " [9.39723495e-01 3.34127109e-01 3.76436141e-01 8.49507966e-01]]\n"
          ]
        }
      ]
    },
    {
      "cell_type": "code",
      "source": [
        "# 213-05 주대각선의 원소가 모두 1이고, 나머지는 모두 0인 대각행렬 형태의 배열 생성\n",
        "\n",
        "eye_a = np.eye(4)\n",
        "print(eye_a)"
      ],
      "metadata": {
        "colab": {
          "base_uri": "https://localhost:8080/"
        },
        "id": "CVa4tpYRDv3O",
        "outputId": "675ee0a4-2b5f-4985-eb44-c301ea1c9381"
      },
      "execution_count": null,
      "outputs": [
        {
          "output_type": "stream",
          "name": "stdout",
          "text": [
            "[[1. 0. 0. 0.]\n",
            " [0. 1. 0. 0.]\n",
            " [0. 0. 1. 0.]\n",
            " [0. 0. 0. 1.]]\n"
          ]
        }
      ]
    },
    {
      "cell_type": "markdown",
      "source": [
        "## (4) numpy 배열 크기 변형\n",
        "- reshape( ) : 배열의 차원과 크기를 변경하는 함수. 변환하고자 하는 크기를 함수 인자로 입력하면 됨\n",
        "- reshape 함수의 옵션으로 'order=\"F\"'를 선언하면 값을 열부터 채움(옵션을 입력하지 않으면 행부터 채움)\n",
        "- reshape 함수는 지정된 크기로 변경이 불가능하면 오류 발생\n",
        "ex) (10, ) 배열 데이터를 (4, 3) 배열 데이터로 바꿀 수 없음"
      ],
      "metadata": {
        "id": "kvqh8E_pEFnv"
      }
    },
    {
      "cell_type": "code",
      "source": [
        "# 214-01\n",
        "\n",
        "array1 = np.arange(12)\n",
        "print(\"array1: \\n\", array1)\n",
        "\n",
        "array2 = array1.reshape(3, 4)\n",
        "print(\"array2: \\n\", array2)\n",
        "\n",
        "array3 = array1.reshape(3, 4, order='F')\n",
        "print(\"array3: \\n\", array3)"
      ],
      "metadata": {
        "colab": {
          "base_uri": "https://localhost:8080/"
        },
        "id": "0pBb4WiLECMm",
        "outputId": "8a02ffcf-5e61-4648-d024-ded4c2a82d04"
      },
      "execution_count": null,
      "outputs": [
        {
          "output_type": "stream",
          "name": "stdout",
          "text": [
            "array1: \n",
            " [ 0  1  2  3  4  5  6  7  8  9 10 11]\n",
            "array2: \n",
            " [[ 0  1  2  3]\n",
            " [ 4  5  6  7]\n",
            " [ 8  9 10 11]]\n",
            "array3: \n",
            " [[ 0  3  6  9]\n",
            " [ 1  4  7 10]\n",
            " [ 2  5  8 11]]\n"
          ]
        }
      ]
    },
    {
      "cell_type": "code",
      "source": [
        "# 214-02\n",
        "\n",
        "array1 = np.arange(10)\n",
        "array2 = array1.reshape(-1, 5) #array1과 호환될 수 있는 2차원 배열로 변환하되, 고정된 5개의 컬럼에 맞는 행을 자동으로 새롭게 생성해 변환\n",
        "\n",
        "print(array2)\n",
        "print(\"array2 dim: \", array2.ndim)\n",
        "print(\"array2 shape: \", array2.shape)"
      ],
      "metadata": {
        "colab": {
          "base_uri": "https://localhost:8080/"
        },
        "id": "wrymMOgzEXAh",
        "outputId": "9dddc617-9f13-4337-e89f-5145418a93ee"
      },
      "execution_count": null,
      "outputs": [
        {
          "output_type": "stream",
          "name": "stdout",
          "text": [
            "[[0 1 2 3 4]\n",
            " [5 6 7 8 9]]\n",
            "array2 dim:  2\n",
            "array2 shape:  (2, 5)\n"
          ]
        }
      ]
    },
    {
      "cell_type": "code",
      "source": [
        "# 214-03\n",
        "\n",
        "array1 = np.arange(12)\n",
        "array2 = array1.reshape(2, 3, 2, order='F')\n",
        "\n",
        "print(array2)\n",
        "print(\"array2 dim: \", array2.ndim)\n",
        "print(\"array2 shape: \", array2.shape)"
      ],
      "metadata": {
        "colab": {
          "base_uri": "https://localhost:8080/"
        },
        "id": "jVacMltQFTKY",
        "outputId": "107b5f6c-26b9-4d1c-c03d-1f9edd3b7b73"
      },
      "execution_count": null,
      "outputs": [
        {
          "output_type": "stream",
          "name": "stdout",
          "text": [
            "[[[ 0  6]\n",
            "  [ 2  8]\n",
            "  [ 4 10]]\n",
            "\n",
            " [[ 1  7]\n",
            "  [ 3  9]\n",
            "  [ 5 11]]]\n",
            "array2 dim:  3\n",
            "array2 shape:  (2, 3, 2)\n"
          ]
        }
      ]
    },
    {
      "cell_type": "code",
      "source": [
        "# 213-04 다차원 배열을 1차원 배열로 만들기\n",
        "\n",
        "array3 = array2.flatten()\n",
        "print(array3)"
      ],
      "metadata": {
        "colab": {
          "base_uri": "https://localhost:8080/"
        },
        "id": "k_-YOgNaF7SI",
        "outputId": "9ae52937-23e1-447f-83a0-9a9bcc8a63fe"
      },
      "execution_count": null,
      "outputs": [
        {
          "output_type": "stream",
          "name": "stdout",
          "text": [
            "[ 0  6  2  8  4 10  1  7  3  9  5 11]\n"
          ]
        }
      ]
    },
    {
      "cell_type": "markdown",
      "source": [
        "## (5) numpy 배열 데이터 추출하기\n",
        "- 인덱싱(indexing)\n",
        "- 슬라이싱(slicing) : 슬라이싱으로 추출된 데이터 세트는 배열 타입"
      ],
      "metadata": {
        "id": "Sf4i6sXtGYpX"
      }
    },
    {
      "cell_type": "code",
      "source": [
        "# 215-01 1차원 배열에서 한 개의 데이터 추출하기\n",
        "\n",
        "array1 = np.arange(1, 10)\n",
        "print(\"array1: \", array1)\n",
        "\n",
        "value1 = array1[2]\n",
        "value2 = array1[-2]\n",
        "\n",
        "print(value1)\n",
        "print(value2)"
      ],
      "metadata": {
        "colab": {
          "base_uri": "https://localhost:8080/"
        },
        "id": "NHtanekyGU9v",
        "outputId": "5d2ffbee-efe6-4249-90bf-8b94e9ef3257"
      },
      "execution_count": null,
      "outputs": [
        {
          "output_type": "stream",
          "name": "stdout",
          "text": [
            "array1:  [1 2 3 4 5 6 7 8 9]\n",
            "3\n",
            "8\n"
          ]
        }
      ]
    },
    {
      "cell_type": "code",
      "source": [
        "# 215-02 다차원 배열에서 단일 값 추출하기\n",
        "\n",
        "array1 = np.arange(1, 10)\n",
        "array2 = array1.reshape(3, 3)\n",
        "print(\"array2 : \\n\", array2)\n",
        "\n",
        "value1 = array2[0, 0]\n",
        "value2 = array2[-1, -1]\n",
        "value3 = array2[-1, -2]\n",
        "\n",
        "print(value1)\n",
        "print(value2)\n",
        "print(value3)"
      ],
      "metadata": {
        "colab": {
          "base_uri": "https://localhost:8080/"
        },
        "id": "6Z2ib6qTGme_",
        "outputId": "70787be2-27d1-445e-92ed-a70cebceef6e"
      },
      "execution_count": null,
      "outputs": [
        {
          "output_type": "stream",
          "name": "stdout",
          "text": [
            "array2 : \n",
            " [[1 2 3]\n",
            " [4 5 6]\n",
            " [7 8 9]]\n",
            "1\n",
            "9\n",
            "8\n"
          ]
        }
      ]
    },
    {
      "cell_type": "code",
      "source": [
        "# 215-03\n",
        "\n",
        "array1 = np.arange(1, 10)\n",
        "array2 = array1[0:3]\n",
        "array3 = array1[:3]\n",
        "array4 = array1[3:]\n",
        "\n",
        "print(array1)\n",
        "print(type(array2))\n",
        "print(array2)\n",
        "print(array3)\n",
        "print(array4)\n"
      ],
      "metadata": {
        "colab": {
          "base_uri": "https://localhost:8080/"
        },
        "id": "OSZizJ1uHQFX",
        "outputId": "8f02d765-478e-4b2e-8e7f-c5829c5db536"
      },
      "execution_count": null,
      "outputs": [
        {
          "output_type": "stream",
          "name": "stdout",
          "text": [
            "[1 2 3 4 5 6 7 8 9]\n",
            "<class 'numpy.ndarray'>\n",
            "[1 2 3]\n",
            "[1 2 3]\n",
            "[4 5 6 7 8 9]\n"
          ]
        }
      ]
    },
    {
      "cell_type": "code",
      "source": [
        "# 215-04\n",
        "\n",
        "array1 = np.arange(1, 10)\n",
        "array2 = array1.reshape(3, 3)\n",
        "print(\"array2 : \\n\", array2)\n",
        "\n",
        "print(\"array2[0:2, 0:2]: \\n\", array2[0:2, 0:2])\n",
        "print(\"array2[1:3, 0:3]: \\n\", array2[1:3, 0:3])\n",
        "print(\"array2[:2, 1:]: \\n\", array2[:2, 1:])\n",
        "print(\"array2[:2, 0]: \", array2[:2, 0])"
      ],
      "metadata": {
        "colab": {
          "base_uri": "https://localhost:8080/"
        },
        "id": "4slpnHMlIJMn",
        "outputId": "3e0565ce-33e0-4c46-bb00-b6cbde99d4de"
      },
      "execution_count": null,
      "outputs": [
        {
          "output_type": "stream",
          "name": "stdout",
          "text": [
            "array2 : \n",
            " [[1 2 3]\n",
            " [4 5 6]\n",
            " [7 8 9]]\n",
            "array2[0:2, 0:2]: \n",
            " [[1 2]\n",
            " [4 5]]\n",
            "array2[1:3, 0:3]: \n",
            " [[4 5 6]\n",
            " [7 8 9]]\n",
            "array2[:2, 1:]: \n",
            " [[2 3]\n",
            " [5 6]]\n",
            "array2[:2, 0]:  [1 4]\n"
          ]
        }
      ]
    },
    {
      "cell_type": "markdown",
      "source": [
        "## (6) numpy 선형대수 기본 연산\n",
        "- 행렬 내적(행렬 곱) : 두 행렬 A와 B의 내적은 np.dot함수를 이용\n",
        "- 전치 행렬 : 원 행렬에서 행과 열 위치를 교환한 원소로 구성한 행렬(np.transpose)"
      ],
      "metadata": {
        "id": "_Fg1GL--Jz4e"
      }
    },
    {
      "cell_type": "code",
      "source": [
        "# 216-01\n",
        "\n",
        "array1 = np.array([[1, 2, 3],\n",
        "                   [4, 5, 6]])\n",
        "array2 = np.array([[7, 8],\n",
        "                   [9, 10],\n",
        "                   [11, 12]])\n",
        "\n",
        "dot_array = np.dot(array1, array2)\n",
        "print(dot_array)"
      ],
      "metadata": {
        "colab": {
          "base_uri": "https://localhost:8080/"
        },
        "id": "4WST-avBJKLe",
        "outputId": "7c407d8e-4530-4f54-d139-50a426849c48"
      },
      "execution_count": null,
      "outputs": [
        {
          "output_type": "stream",
          "name": "stdout",
          "text": [
            "[[ 58  64]\n",
            " [139 154]]\n"
          ]
        }
      ]
    },
    {
      "cell_type": "code",
      "source": [
        "# 216-02\n",
        "\n",
        "array1 = np.array([[1, 2, 3],\n",
        "                  [4, 5, 6]])\n",
        "print(\"array1: \\n\", array1)\n",
        "transpose_array = np.transpose(array1)\n",
        "\n",
        "print(transpose_array)"
      ],
      "metadata": {
        "colab": {
          "base_uri": "https://localhost:8080/"
        },
        "id": "AKAEBq-nKZje",
        "outputId": "7b04b12d-c414-4e71-eef6-6cda626be4a3"
      },
      "execution_count": null,
      "outputs": [
        {
          "output_type": "stream",
          "name": "stdout",
          "text": [
            "array1: \n",
            " [[1 2 3]\n",
            " [4 5 6]]\n",
            "[[1 4]\n",
            " [2 5]\n",
            " [3 6]]\n"
          ]
        }
      ]
    },
    {
      "cell_type": "markdown",
      "source": [
        "## (7) numpy 기술통계"
      ],
      "metadata": {
        "id": "AOJ_8YZdWFVH"
      }
    },
    {
      "cell_type": "code",
      "source": [
        "# 217-01 배열 데이터 개수 계산\n",
        "x = np.array([18, 5, 10, 23, 19, -8, 10, 0, 0, 5, 2, 15, 8,\n",
        "              2, 5, 4, 15, -1, 4, -7, -24, 7, 9, -6, 23, -13])\n",
        "\n",
        "len(x)"
      ],
      "metadata": {
        "colab": {
          "base_uri": "https://localhost:8080/"
        },
        "id": "R-q7KLU0VVoX",
        "outputId": "cffc00ec-952a-4dbf-97bb-7f274bb90ff3"
      },
      "execution_count": null,
      "outputs": [
        {
          "output_type": "execute_result",
          "data": {
            "text/plain": [
              "26"
            ]
          },
          "metadata": {},
          "execution_count": 37
        }
      ]
    },
    {
      "cell_type": "code",
      "source": [
        "# 217-02 평균, 분산, 표준편차 계산\n",
        "print(np.mean(x))\n",
        "print(np.var(x))\n",
        "print(np.std(x))"
      ],
      "metadata": {
        "colab": {
          "base_uri": "https://localhost:8080/"
        },
        "id": "7oIx_upPWoFX",
        "outputId": "7963f7d4-d5ea-4ba1-f556-a05614e1674e"
      },
      "execution_count": null,
      "outputs": [
        {
          "output_type": "stream",
          "name": "stdout",
          "text": [
            "4.8076923076923075\n",
            "115.23224852071006\n",
            "10.734628476137871\n"
          ]
        }
      ]
    },
    {
      "cell_type": "code",
      "source": [
        "# 217-03 최대값, 최소값, 중앙값 계산\n",
        "print(np.max(x))\n",
        "print(np.min(x))\n",
        "print(np.median(x))"
      ],
      "metadata": {
        "colab": {
          "base_uri": "https://localhost:8080/"
        },
        "id": "gOqVX6y6W4U1",
        "outputId": "4efb2af2-6421-4bc2-bb02-0727843db264"
      },
      "execution_count": null,
      "outputs": [
        {
          "output_type": "stream",
          "name": "stdout",
          "text": [
            "23\n",
            "-24\n",
            "5.0\n"
          ]
        }
      ]
    },
    {
      "cell_type": "code",
      "source": [
        "# 217-04 사분위수 계산\n",
        "print(np.percentile(x, 25)) #1사분위수\n",
        "print(np.percentile(x, 50)) #2사분위수\n",
        "print(np.percentile(x, 75)) #3사분위수"
      ],
      "metadata": {
        "colab": {
          "base_uri": "https://localhost:8080/"
        },
        "id": "Ws_Dhy_4XD5N",
        "outputId": "6e386542-5605-4734-fa20-927e9455b715"
      },
      "execution_count": null,
      "outputs": [
        {
          "output_type": "stream",
          "name": "stdout",
          "text": [
            "0.0\n",
            "5.0\n",
            "10.0\n"
          ]
        }
      ]
    }
  ]
}
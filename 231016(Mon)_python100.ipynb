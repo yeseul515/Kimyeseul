{
  "nbformat": 4,
  "nbformat_minor": 0,
  "metadata": {
    "colab": {
      "provenance": [],
      "authorship_tag": "ABX9TyOaBUIwxEDaAiSZjyZPk+Sx",
      "include_colab_link": true
    },
    "kernelspec": {
      "name": "python3",
      "display_name": "Python 3"
    },
    "language_info": {
      "name": "python"
    }
  },
  "cells": [
    {
      "cell_type": "markdown",
      "metadata": {
        "id": "view-in-github",
        "colab_type": "text"
      },
      "source": [
        "<a href=\"https://colab.research.google.com/github/yeseul515/sessac_test2/blob/main/231016(Mon)_python100.ipynb\" target=\"_parent\"><img src=\"https://colab.research.google.com/assets/colab-badge.svg\" alt=\"Open In Colab\"/></a>"
      ]
    },
    {
      "cell_type": "markdown",
      "source": [
        "# Exercise 1-1: print( )로 data 출력하기"
      ],
      "metadata": {
        "id": "XkTpzeeBl_Mk"
      }
    },
    {
      "cell_type": "code",
      "execution_count": null,
      "metadata": {
        "colab": {
          "base_uri": "https://localhost:8080/"
        },
        "id": "Sw437gzzlkge",
        "outputId": "8ce466fe-f144-4c8f-9e51-21425cec13f9"
      },
      "outputs": [
        {
          "output_type": "stream",
          "name": "stdout",
          "text": [
            "Hello World\n"
          ]
        }
      ],
      "source": [
        "print(\"Hello World\")\n"
      ]
    },
    {
      "cell_type": "code",
      "source": [
        "print(\"Name: \", \"Kim YS\")"
      ],
      "metadata": {
        "colab": {
          "base_uri": "https://localhost:8080/"
        },
        "id": "IHjSKDbRlw7N",
        "outputId": "2395fb7c-3842-4f73-81bb-2b1535ec3a76"
      },
      "execution_count": null,
      "outputs": [
        {
          "output_type": "stream",
          "name": "stdout",
          "text": [
            "Name:  Kim YS\n"
          ]
        }
      ]
    },
    {
      "cell_type": "code",
      "source": [
        "print(\"Age: \", 100)"
      ],
      "metadata": {
        "colab": {
          "base_uri": "https://localhost:8080/"
        },
        "id": "TSguW-_8l7Kj",
        "outputId": "23b371f2-b3fc-48f0-be10-fa224a2a2f10"
      },
      "execution_count": null,
      "outputs": [
        {
          "output_type": "stream",
          "name": "stdout",
          "text": [
            "Age:  100\n"
          ]
        }
      ]
    },
    {
      "cell_type": "code",
      "source": [
        "print(\"Grade: \", 4.5)"
      ],
      "metadata": {
        "colab": {
          "base_uri": "https://localhost:8080/"
        },
        "id": "E58oxYt7mMIE",
        "outputId": "ad00f237-bc74-4821-c05d-87352ea193b0"
      },
      "execution_count": null,
      "outputs": [
        {
          "output_type": "stream",
          "name": "stdout",
          "text": [
            "Grade:  4.5\n"
          ]
        }
      ]
    },
    {
      "cell_type": "markdown",
      "source": [
        "# Exercise 1-2: int, float, str 변수 할당하고 출력하기"
      ],
      "metadata": {
        "id": "gT7RtCt4mSmD"
      }
    },
    {
      "cell_type": "code",
      "source": [
        "name = \"Kim YS\"\n",
        "math_score = 80\n",
        "height = 167.1\n",
        "\n",
        "print(\"name: \", name)\n",
        "print(\"math score: \", math_score)\n",
        "print(\"height: \", height)"
      ],
      "metadata": {
        "colab": {
          "base_uri": "https://localhost:8080/"
        },
        "id": "dE99ZjY3mP_r",
        "outputId": "56291203-8513-4619-9eae-262e7234ad9f"
      },
      "execution_count": null,
      "outputs": [
        {
          "output_type": "stream",
          "name": "stdout",
          "text": [
            "name:  Kim YS\n",
            "math score:  80\n",
            "height:  167.1\n"
          ]
        }
      ]
    },
    {
      "cell_type": "markdown",
      "source": [
        "# Exercise 1-3: 사칙연산"
      ],
      "metadata": {
        "id": "3YPObh7xmuXT"
      }
    },
    {
      "cell_type": "code",
      "source": [
        "int1 = 4\n",
        "int2 = 2\n",
        "print(int1 + int2)\n",
        "print(int1 - int2)\n",
        "print(int1 * int2)\n",
        "print(int1 / int2)\n",
        "print(int1 // int2)\n",
        "print(int1 % int2)\n",
        "print(int1 ** int2)"
      ],
      "metadata": {
        "colab": {
          "base_uri": "https://localhost:8080/"
        },
        "id": "MvqXvhUxmpN0",
        "outputId": "ea3f65ae-ef71-4d4d-b409-79a49ff839bb"
      },
      "execution_count": null,
      "outputs": [
        {
          "output_type": "stream",
          "name": "stdout",
          "text": [
            "6\n",
            "2\n",
            "8\n",
            "2.0\n",
            "2\n",
            "0\n",
            "16\n"
          ]
        }
      ]
    },
    {
      "cell_type": "markdown",
      "source": [
        "# Exercise1-4. 사칙연산 결과를 할당하고 출력하기"
      ],
      "metadata": {
        "id": "6WfpaNVOm-kQ"
      }
    },
    {
      "cell_type": "code",
      "source": [
        "int1, int2 = 4, 2\n",
        "\n",
        "add, sub = int1 + int2, int1 - int2\n",
        "mul, div = int1 * int2, int1 / int2\n",
        "quo, rem = int1 % int2, int1**int2\n",
        "\n",
        "print(add, sub, mul, div, quo, rem)"
      ],
      "metadata": {
        "colab": {
          "base_uri": "https://localhost:8080/"
        },
        "id": "26jag0_4m8WJ",
        "outputId": "6823697f-12fc-4f04-fc0d-44f235895011"
      },
      "execution_count": null,
      "outputs": [
        {
          "output_type": "stream",
          "name": "stdout",
          "text": [
            "6 2 8 2.0 0 16\n"
          ]
        }
      ]
    },
    {
      "cell_type": "markdown",
      "source": [
        "# Exercise1-5. 홀수, 짝수 구하기"
      ],
      "metadata": {
        "id": "m6cj6Nc7nVqb"
      }
    },
    {
      "cell_type": "code",
      "source": [
        "int1, int2, int3, int4 = 1, 2, 3, 4\n",
        "div = 2\n",
        "\n",
        "rem1, rem2, rem3, rem4 = int1%div, int2%div, int3%div, int4%div\n",
        "print(rem1, rem2, rem3, rem4)"
      ],
      "metadata": {
        "colab": {
          "base_uri": "https://localhost:8080/"
        },
        "id": "0T0BwS9QnTS8",
        "outputId": "1b4a29bc-93d6-408f-9c5b-f885922ade22"
      },
      "execution_count": null,
      "outputs": [
        {
          "output_type": "stream",
          "name": "stdout",
          "text": [
            "1 0 1 0\n"
          ]
        }
      ]
    },
    {
      "cell_type": "markdown",
      "source": [
        "# Exercise1-6. 자기 자신에 연산하기"
      ],
      "metadata": {
        "id": "v0eZ2atlnxir"
      }
    },
    {
      "cell_type": "code",
      "source": [
        "score = 10\n",
        "print(score)\n",
        "\n",
        "score += 10\n",
        "print(score)\n",
        "\n",
        "score -= 2\n",
        "print(score)\n",
        "\n",
        "score *= 5\n",
        "print(score)\n",
        "\n",
        "score /= 5\n",
        "print(score)\n",
        "\n",
        "score **= 2\n",
        "print(score)"
      ],
      "metadata": {
        "colab": {
          "base_uri": "https://localhost:8080/"
        },
        "id": "6xV2F5GOnt6u",
        "outputId": "ab6501a5-956f-4cf8-ccc9-57fcc35bc19a"
      },
      "execution_count": null,
      "outputs": [
        {
          "output_type": "stream",
          "name": "stdout",
          "text": [
            "10\n",
            "20\n",
            "18\n",
            "90\n",
            "18.0\n",
            "324.0\n"
          ]
        }
      ]
    },
    {
      "cell_type": "markdown",
      "source": [
        "# Exercise1-7. 수학 점수의 합 구하기"
      ],
      "metadata": {
        "id": "pC86x1fUoK_i"
      }
    },
    {
      "cell_type": "code",
      "source": [
        "score1 = 10\n",
        "score2 = 20\n",
        "score3 = 30\n",
        "\n",
        "score_sum = score1 + score2 + score3\n",
        "print(score_sum)"
      ],
      "metadata": {
        "colab": {
          "base_uri": "https://localhost:8080/"
        },
        "id": "miqiux13oHbz",
        "outputId": "c261cdae-d50c-40d7-db26-5c929c9c3711"
      },
      "execution_count": null,
      "outputs": [
        {
          "output_type": "stream",
          "name": "stdout",
          "text": [
            "60\n"
          ]
        }
      ]
    },
    {
      "cell_type": "markdown",
      "source": [
        "# Exercise1-8. 수학 점수의 평균 구하기"
      ],
      "metadata": {
        "id": "Aa8AWcKBoXHa"
      }
    },
    {
      "cell_type": "code",
      "source": [
        "score1 = 10\n",
        "score2 = 20\n",
        "score3 = 30\n",
        "n_student = 3\n",
        "\n",
        "score_mean = (score1 + score2 + score3) / n_student\n",
        "print(score_mean)"
      ],
      "metadata": {
        "colab": {
          "base_uri": "https://localhost:8080/"
        },
        "id": "zeXc0ETIoVoz",
        "outputId": "6d474b1c-bc4d-4e6e-bce2-3e7adfbff00b"
      },
      "execution_count": null,
      "outputs": [
        {
          "output_type": "stream",
          "name": "stdout",
          "text": [
            "20.0\n"
          ]
        }
      ]
    },
    {
      "cell_type": "markdown",
      "source": [
        "# Exercise1-9. 추가 점수를 받은 학생들의 평균"
      ],
      "metadata": {
        "id": "gi6QaSh7ooyy"
      }
    },
    {
      "cell_type": "code",
      "source": [
        "score1 = 10\n",
        "score2 = 20\n",
        "score3 = 30\n",
        "n_student = 3\n",
        "\n",
        "score_mean = (score1+score2+score3)/n_student\n",
        "print(score_mean)\n",
        "\n",
        "score1 += 10\n",
        "score2 += 10\n",
        "score3 += 10\n",
        "print(score1, score2, score3)\n",
        "\n",
        "mean = (score1+score2+score3)/n_student\n",
        "print(mean)"
      ],
      "metadata": {
        "colab": {
          "base_uri": "https://localhost:8080/"
        },
        "id": "0XaeHA40omMD",
        "outputId": "72131636-bb54-430f-d678-a227eb28d78f"
      },
      "execution_count": null,
      "outputs": [
        {
          "output_type": "stream",
          "name": "stdout",
          "text": [
            "20.0\n",
            "20 30 40\n",
            "30.0\n"
          ]
        }
      ]
    },
    {
      "cell_type": "markdown",
      "source": [
        "# Exercise1-10. Mean Subtraction"
      ],
      "metadata": {
        "id": "aJcPvjXLpFcq"
      }
    },
    {
      "cell_type": "code",
      "source": [
        "score1 = 10\n",
        "score2 = 20\n",
        "score3 = 30\n",
        "n_student = 3\n",
        "\n",
        "score_mean = (score1+score2+score3)/n_student\n",
        "print(score_mean)\n",
        "\n",
        "score1 -= score_mean\n",
        "score2 -= score_mean\n",
        "score3 -= score_mean\n",
        "\n",
        "score_mean = (score1+score2+score3)/n_student\n",
        "print(score_mean)"
      ],
      "metadata": {
        "colab": {
          "base_uri": "https://localhost:8080/"
        },
        "id": "jVrJU1hjo_d7",
        "outputId": "02f5ef1e-634e-4c1c-9927-6396521692b6"
      },
      "execution_count": null,
      "outputs": [
        {
          "output_type": "stream",
          "name": "stdout",
          "text": [
            "20.0\n",
            "0.0\n"
          ]
        }
      ]
    },
    {
      "cell_type": "markdown",
      "source": [
        "# Exercise1-11. 평균의 제곱과 제곱의 평균"
      ],
      "metadata": {
        "id": "xGgWeyq8pdfr"
      }
    },
    {
      "cell_type": "code",
      "source": [
        "score1 = 10\n",
        "score2 = 20\n",
        "score3 = 30\n",
        "n_student = 3\n",
        "\n",
        "mean = (score1+score2+score3)/n_student\n",
        "square_of_mean = mean**2\n",
        "mean_of_square = (score1**2 + score2**2 + score3**2)/n_student\n",
        "\n",
        "print(\"square of mean: \", square_of_mean)\n",
        "print(\"mean of square: \", mean_of_square)"
      ],
      "metadata": {
        "colab": {
          "base_uri": "https://localhost:8080/"
        },
        "id": "Us8gn40YpYPb",
        "outputId": "33ff6c36-6d54-4fc9-eca5-ebb187ad7192"
      },
      "execution_count": null,
      "outputs": [
        {
          "output_type": "stream",
          "name": "stdout",
          "text": [
            "square of mean:  400.0\n",
            "mean of square:  466.6666666666667\n"
          ]
        }
      ]
    },
    {
      "cell_type": "markdown",
      "source": [
        "# Exercise1-12. 분산과 표준편차"
      ],
      "metadata": {
        "id": "jBlzelYBp2tr"
      }
    },
    {
      "cell_type": "code",
      "source": [
        "score1 = 10\n",
        "score2 = 20\n",
        "score3 = 30\n",
        "n_student = 3\n",
        "\n",
        "mean = (score1+score2+score3)/n_student\n",
        "square_of_mean = mean**2\n",
        "mean_of_square = (score1**2 + score2**2 + score3**2)/n_student\n",
        "score_variance = mean_of_square - square_of_mean\n",
        "score_std = score_variance**0.5\n",
        "\n",
        "print(\"score variance: \", score_variance)\n",
        "print(\"score standard deviation: \", score_std)"
      ],
      "metadata": {
        "colab": {
          "base_uri": "https://localhost:8080/"
        },
        "id": "zXSZjAY0p1CV",
        "outputId": "ab90ec1e-73b2-4674-bfca-19ccea44187d"
      },
      "execution_count": null,
      "outputs": [
        {
          "output_type": "stream",
          "name": "stdout",
          "text": [
            "score variance:  66.66666666666669\n",
            "score standard deviation:  8.16496580927726\n"
          ]
        }
      ]
    },
    {
      "cell_type": "markdown",
      "source": [
        "# Exercise1-13. standardization"
      ],
      "metadata": {
        "id": "wiyIW3ADqS6L"
      }
    },
    {
      "cell_type": "code",
      "source": [
        "score1 = 10\n",
        "score2 = 20\n",
        "score3 = 30\n",
        "n_student = 3\n",
        "\n",
        "score_mean = (score1+score2+score3)/n_student\n",
        "square_of_mean = score_mean**2\n",
        "mean_of_square = (score1**2 + score2**2 + score3**2)/n_student\n",
        "score_variance = mean_of_square - square_of_mean\n",
        "score_std = score_variance**0.5\n",
        "\n",
        "score1 = (score1 - score_mean)/score_std\n",
        "score2 = (score2 - score_mean)/score_std\n",
        "score3 = (score3 - score_mean)/score_std\n",
        "\n",
        "score_mean = (score1+score2+score3)/n_student\n",
        "square_of_mean = score_mean**2\n",
        "mean_of_square = (score1**2 + score2**2 + score3**2)/n_student\n",
        "score_variance = mean_of_square - square_of_mean\n",
        "score_std = score_variance**0.5\n",
        "\n",
        "print(\"mean: \", score_mean)\n",
        "print(\"std_score std: \", score_std)"
      ],
      "metadata": {
        "colab": {
          "base_uri": "https://localhost:8080/"
        },
        "id": "uoln2AlkqPYc",
        "outputId": "76a9e776-df17-48b8-f082-ae5e8257f004"
      },
      "execution_count": null,
      "outputs": [
        {
          "output_type": "stream",
          "name": "stdout",
          "text": [
            "mean:  0.0\n",
            "std_score std:  1.0\n"
          ]
        }
      ]
    },
    {
      "cell_type": "markdown",
      "source": [
        "# Exercise1-14. Vector-Vector Operations"
      ],
      "metadata": {
        "id": "JTMsgL-jsqGU"
      }
    },
    {
      "cell_type": "code",
      "source": [
        "x1, y1, z1 = 1, 2, 3\n",
        "x2, y2, z2 = 3, 4, 5\n",
        "\n",
        "x3, y3, z3 = x1+x2, y1+y2, z1+z2\n",
        "x4, y4, z4 = x1-x2, y1-y2, z1-z2\n",
        "x5, y5, z5 = x1*x2, y1*y2, z1*z2\n",
        "\n",
        "print(x3, y3, z3)\n",
        "print(x4, y4, z4)\n",
        "print(x5, y5, z5)"
      ],
      "metadata": {
        "colab": {
          "base_uri": "https://localhost:8080/"
        },
        "id": "flxp_KXorSFD",
        "outputId": "6a1a820f-e7b9-408a-e4cb-399096e2c4cf"
      },
      "execution_count": null,
      "outputs": [
        {
          "output_type": "stream",
          "name": "stdout",
          "text": [
            "4 6 8\n",
            "-2 -2 -2\n",
            "3 8 15\n"
          ]
        }
      ]
    },
    {
      "cell_type": "markdown",
      "source": [
        "# Exercise1-15. Scalar-Vector Operations"
      ],
      "metadata": {
        "id": "ILd5D6OBtfKr"
      }
    },
    {
      "cell_type": "code",
      "source": [
        "a = 10\n",
        "x1, y1, z1 = 1, 2, 3\n",
        "\n",
        "x2, y2, z2 = a*x1, a*y1, a*z1\n",
        "x3, y3, z3 = a+x1, a+y1, a+z1\n",
        "x4, y4, z4 = a-x1, a-y1, a-z1\n",
        "\n",
        "print(x2, y2, z2)\n",
        "print(x3, y3, z3)\n",
        "print(x4, y4, z4)"
      ],
      "metadata": {
        "colab": {
          "base_uri": "https://localhost:8080/"
        },
        "id": "G7PBitkEtME6",
        "outputId": "a2e7972e-98e4-4dd8-d95f-38a8958d57f8"
      },
      "execution_count": null,
      "outputs": [
        {
          "output_type": "stream",
          "name": "stdout",
          "text": [
            "10 20 30\n",
            "11 12 13\n",
            "9 8 7\n"
          ]
        }
      ]
    },
    {
      "cell_type": "markdown",
      "source": [
        "# Exercise1-16. Vector Norm"
      ],
      "metadata": {
        "id": "7Rs3rO_kt-sq"
      }
    },
    {
      "cell_type": "code",
      "source": [
        "x, y, z = 1, 2, 3\n",
        "norm = (x**2 + y**2 + z**2)**0.5\n",
        "print(norm)"
      ],
      "metadata": {
        "colab": {
          "base_uri": "https://localhost:8080/"
        },
        "id": "oox4uiIUt3hT",
        "outputId": "7626564c-cf5b-4906-b40a-7915784d6c6e"
      },
      "execution_count": null,
      "outputs": [
        {
          "output_type": "stream",
          "name": "stdout",
          "text": [
            "3.7416573867739413\n"
          ]
        }
      ]
    },
    {
      "cell_type": "markdown",
      "source": [
        "# Exercise1-17. Making Unit Vectors"
      ],
      "metadata": {
        "id": "8x3d12ZpuN4i"
      }
    },
    {
      "cell_type": "code",
      "source": [
        "x, y, z = 1, 2, 3\n",
        "norm = (x**2 + y**2 + z**2)**0.5\n",
        "print(norm)\n",
        "\n",
        "x1, y1, z1 = x/norm, y/norm, z/norm\n",
        "norm2 = (x1**2 + y1**2 + z1**2)**0.5\n",
        "print(norm2)"
      ],
      "metadata": {
        "colab": {
          "base_uri": "https://localhost:8080/"
        },
        "id": "8vHUO96puMCk",
        "outputId": "eda33ff9-bc38-499e-d7f3-488f7e42e800"
      },
      "execution_count": null,
      "outputs": [
        {
          "output_type": "stream",
          "name": "stdout",
          "text": [
            "3.7416573867739413\n",
            "1.0\n"
          ]
        }
      ]
    },
    {
      "cell_type": "markdown",
      "source": [
        "# Exercise1-18. Dot Product"
      ],
      "metadata": {
        "id": "HNPa5kPzu20q"
      }
    },
    {
      "cell_type": "code",
      "source": [
        "x1, y1, z1 = 1, 2, 3\n",
        "x2, y2, z2 = 3, 4, 5\n",
        "\n",
        "dot_prod = (x1*x2) + (y1*y2) + (z1*z2)\n",
        "print(dot_prod)"
      ],
      "metadata": {
        "colab": {
          "base_uri": "https://localhost:8080/"
        },
        "id": "BV_zHZcwuysK",
        "outputId": "5d04236c-b62d-431d-fbb5-690c8e412125"
      },
      "execution_count": null,
      "outputs": [
        {
          "output_type": "stream",
          "name": "stdout",
          "text": [
            "26\n"
          ]
        }
      ]
    },
    {
      "cell_type": "markdown",
      "source": [
        "# Exercise1-19. Euclidean Distance\n"
      ],
      "metadata": {
        "id": "EMiu9wq3vMWh"
      }
    },
    {
      "cell_type": "code",
      "source": [
        "x1, y1, z1 = 1, 2, 3\n",
        "x2, y2, z2 = 3, 4, 5\n",
        "\n",
        "euclidean_dist = ((x1-x2)**2 + (y1-y2)**2 + (z1-z2)**2)**0.5\n",
        "print(euclidean_dist)"
      ],
      "metadata": {
        "colab": {
          "base_uri": "https://localhost:8080/"
        },
        "id": "f64zpqHSvKER",
        "outputId": "904d4605-0e08-4847-8ff2-57003e530453"
      },
      "execution_count": null,
      "outputs": [
        {
          "output_type": "stream",
          "name": "stdout",
          "text": [
            "3.4641016151377544\n"
          ]
        }
      ]
    },
    {
      "cell_type": "markdown",
      "source": [
        "# Exercise1-20. Squared Error"
      ],
      "metadata": {
        "id": "pGcEBnLrvnfg"
      }
    },
    {
      "cell_type": "code",
      "source": [
        "pred1, pred2, pred3 = 10, 20, 30\n",
        "y1, y2, y3 = 10, 25, 40\n",
        "\n",
        "s_error1 = (pred1 - y1)**2\n",
        "s_error2 = (pred2 - y2)**2\n",
        "s_error3 = (pred3 - y3)**2\n",
        "\n",
        "print(s_error1, s_error2, s_error3)"
      ],
      "metadata": {
        "colab": {
          "base_uri": "https://localhost:8080/"
        },
        "id": "HM6AnRX2viiY",
        "outputId": "756e9ea4-32e2-4792-d6b3-b1b339e42ed3"
      },
      "execution_count": null,
      "outputs": [
        {
          "output_type": "stream",
          "name": "stdout",
          "text": [
            "0 25 100\n"
          ]
        }
      ]
    }
  ]
}
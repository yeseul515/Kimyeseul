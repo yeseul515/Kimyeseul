{
  "nbformat": 4,
  "nbformat_minor": 0,
  "metadata": {
    "colab": {
      "provenance": [],
      "authorship_tag": "ABX9TyNq6AEtWMdi0cEzGLWwfQxw",
      "include_colab_link": true
    },
    "kernelspec": {
      "name": "python3",
      "display_name": "Python 3"
    },
    "language_info": {
      "name": "python"
    }
  },
  "cells": [
    {
      "cell_type": "markdown",
      "metadata": {
        "id": "view-in-github",
        "colab_type": "text"
      },
      "source": [
        "<a href=\"https://colab.research.google.com/github/yeseul515/sessac_test2/blob/main/230906.ipynb\" target=\"_parent\"><img src=\"https://colab.research.google.com/assets/colab-badge.svg\" alt=\"Open In Colab\"/></a>"
      ]
    },
    {
      "cell_type": "markdown",
      "source": [
        "# 함수"
      ],
      "metadata": {
        "id": "nRuT8aNPQmtc"
      }
    },
    {
      "cell_type": "code",
      "source": [
        "#sum 이라는 함수\n",
        "\n",
        "def sum (num1, num2):\n",
        "  result = num1 + num2\n",
        "  return result"
      ],
      "metadata": {
        "id": "xyXgg6tgQxSu"
      },
      "execution_count": null,
      "outputs": []
    },
    {
      "cell_type": "code",
      "source": [
        "sum(5, 9)"
      ],
      "metadata": {
        "colab": {
          "base_uri": "https://localhost:8080/"
        },
        "id": "H8bq7_bpRs_M",
        "outputId": "b33fa7d6-4a74-4183-84eb-56cef5fcd8ca"
      },
      "execution_count": null,
      "outputs": [
        {
          "output_type": "execute_result",
          "data": {
            "text/plain": [
              "14"
            ]
          },
          "metadata": {},
          "execution_count": 10
        }
      ]
    },
    {
      "cell_type": "code",
      "source": [
        "# 입력값이 없는 경우(많이 사용하지는 않음)\n",
        "def say():\n",
        "  return 'Hi'\n",
        "say()"
      ],
      "metadata": {
        "colab": {
          "base_uri": "https://localhost:8080/",
          "height": 36
        },
        "id": "P6cvT111R7_k",
        "outputId": "ecbca0d8-c8c6-45b6-b6f8-f5f7d20b70ac"
      },
      "execution_count": null,
      "outputs": [
        {
          "output_type": "execute_result",
          "data": {
            "text/plain": [
              "'Hi'"
            ],
            "application/vnd.google.colaboratory.intrinsic+json": {
              "type": "string"
            }
          },
          "metadata": {},
          "execution_count": 11
        }
      ]
    },
    {
      "cell_type": "code",
      "source": [
        "# sum2라는 함수는 단순하게 출력만 해주는 기능, 결과값을 쓰기 위해서는 return 필요\n",
        "def sum2(num1, num2):\n",
        "  print(num1+num2)\n",
        "\n",
        "a = sum(3,4)\n",
        "b = sum2(3,4)"
      ],
      "metadata": {
        "colab": {
          "base_uri": "https://localhost:8080/"
        },
        "id": "HBY9BxZpSVOl",
        "outputId": "0035b983-4ea4-42b4-a3b0-c2f27aa5c7fb"
      },
      "execution_count": null,
      "outputs": [
        {
          "output_type": "stream",
          "name": "stdout",
          "text": [
            "7\n"
          ]
        }
      ]
    },
    {
      "cell_type": "code",
      "source": [
        "print(a)\n",
        "print(b)"
      ],
      "metadata": {
        "colab": {
          "base_uri": "https://localhost:8080/"
        },
        "id": "YoLl6fGsS4ar",
        "outputId": "7882021a-1514-4db4-ec37-fc3256f74405"
      },
      "execution_count": null,
      "outputs": [
        {
          "output_type": "stream",
          "name": "stdout",
          "text": [
            "7\n",
            "None\n"
          ]
        }
      ]
    },
    {
      "cell_type": "code",
      "source": [
        "sum(3, 4) #순서 존재(앞에 있는 것이 num1, 뒤에 있는 것이 num2)\n",
        "sum(num1 = 3, num2 = 4) #순서 상관 없음(parameter를 명시해주면 됨)"
      ],
      "metadata": {
        "colab": {
          "base_uri": "https://localhost:8080/"
        },
        "id": "M2-MURCdTmwk",
        "outputId": "59548b5d-01dc-40a8-894c-c98d07888334"
      },
      "execution_count": null,
      "outputs": [
        {
          "output_type": "execute_result",
          "data": {
            "text/plain": [
              "7"
            ]
          },
          "metadata": {},
          "execution_count": 14
        }
      ]
    },
    {
      "cell_type": "code",
      "source": [
        "def say_myself(name, old, man=True): #man=True는 default 값 같은 의미로 항상 제일 끝에 작성해야함\n",
        "  print(f'나의 이름은 {name}입니다.')\n",
        "  print(f'나의 나이는 {old}입니다.')\n",
        "  if man:\n",
        "    print('남자입니다.')\n",
        "  else:\n",
        "    print('여자입니다.')\n",
        "\n",
        "say_myself('홍길동', 20)\n",
        "say_myself('박명수', 55, True)\n",
        "say_myself('박명순', 55, False)\n",
        "say_myself(old=10, name='뽀로로')"
      ],
      "metadata": {
        "colab": {
          "base_uri": "https://localhost:8080/"
        },
        "id": "qIPZ5wMvVKVj",
        "outputId": "6c560c20-1a80-47ea-9ecd-cc1e3fd90844"
      },
      "execution_count": null,
      "outputs": [
        {
          "output_type": "stream",
          "name": "stdout",
          "text": [
            "나의 이름은 홍길동입니다.\n",
            "나의 나이는 20입니다.\n",
            "남자입니다.\n",
            "나의 이름은 박명수입니다.\n",
            "나의 나이는 55입니다.\n",
            "남자입니다.\n",
            "나의 이름은 박명순입니다.\n",
            "나의 나이는 55입니다.\n",
            "여자입니다.\n",
            "나의 이름은 뽀로로입니다.\n",
            "나의 나이는 10입니다.\n",
            "남자입니다.\n"
          ]
        }
      ]
    },
    {
      "cell_type": "markdown",
      "source": [
        "## 전역변수vs지역변수\n",
        "- 전역변수: 함수 외부에서 선언된 변수이며, 프로그램 전체에서 사용 가능\n",
        "- 지역변수: 함수 내부에서 선언된 변수이며, 해당 함수 내부에서만 사용 가능"
      ],
      "metadata": {
        "id": "QcVKTXe-XRJT"
      }
    },
    {
      "cell_type": "code",
      "source": [
        "def test():\n",
        "  local_var = 20\n",
        "test()"
      ],
      "metadata": {
        "id": "HqQCCbFBWFIj"
      },
      "execution_count": null,
      "outputs": []
    },
    {
      "cell_type": "code",
      "source": [
        "#print(local_var) # 함수 안에 저장된 변수이기 때문에 오류, 아무것도 출력되지 않음"
      ],
      "metadata": {
        "id": "s_vXuk1MX2CV"
      },
      "execution_count": null,
      "outputs": []
    },
    {
      "cell_type": "code",
      "source": [
        "def test2():\n",
        "  local_var = 20\n",
        "  return local_var\n",
        "# 쓰려면은 함수를 호출해서 사용해야함\n",
        "a = test2()\n",
        "print(a)"
      ],
      "metadata": {
        "colab": {
          "base_uri": "https://localhost:8080/"
        },
        "id": "uMYRKVZWYWvL",
        "outputId": "e7baf68a-c382-4f3a-d65c-be2d525b4162"
      },
      "execution_count": null,
      "outputs": [
        {
          "output_type": "stream",
          "name": "stdout",
          "text": [
            "20\n"
          ]
        }
      ]
    },
    {
      "cell_type": "code",
      "source": [
        "def test3():\n",
        "  global local_var #함수 안에 있는 지역변수를 전역변수로 쓰겠다는 의미(안쓸 수 있으면 쓰지 않는 것이 좋음)\n",
        "  local_var = 20\n",
        "test3()\n",
        "print(local_var)"
      ],
      "metadata": {
        "colab": {
          "base_uri": "https://localhost:8080/"
        },
        "id": "4i0hcAP_YeF8",
        "outputId": "86d101fd-ed37-4f4b-a81b-02cdf11d71cf"
      },
      "execution_count": null,
      "outputs": [
        {
          "output_type": "stream",
          "name": "stdout",
          "text": [
            "20\n"
          ]
        }
      ]
    },
    {
      "cell_type": "markdown",
      "source": [
        "###Example 2-9. 입력하는 모든 수의 평균을 계산하는 함수 만들기\n",
        "*입력 개수에 상관없이 사용하기 위해, 함수 입력 값 자리에, *args를 사용-> def means(*args):"
      ],
      "metadata": {
        "id": "2NnZMp2BcNXg"
      }
    },
    {
      "cell_type": "code",
      "source": [
        "#def means(*args):\n",
        "#  return args\n",
        "#print(means(1,2,3))\n",
        "#print(means(1,2,3,4,5,6))\n",
        "\n",
        "def means(*args):\n",
        "  sum1 = 0\n",
        "  count1 = 0\n",
        "  for i in args:\n",
        "    sum1 = sum1 + i\n",
        "    count1 = count1 + 1\n",
        "    print(sum1)\n",
        "  result = sum1 / count1\n",
        "  return result\n",
        "print(means(1,2,3,4,5,6,7,8))\n",
        "\n",
        "#def my_means(*args):\n",
        "#   rst = sum(args) / len(args)\n",
        "#   return rst\n"
      ],
      "metadata": {
        "id": "o_GUcfP9Yws0",
        "colab": {
          "base_uri": "https://localhost:8080/"
        },
        "outputId": "cb0c89f8-76bc-4901-ad56-faa9ab6323a1"
      },
      "execution_count": null,
      "outputs": [
        {
          "output_type": "stream",
          "name": "stdout",
          "text": [
            "1\n",
            "3\n",
            "6\n",
            "10\n",
            "15\n",
            "21\n",
            "28\n",
            "36\n",
            "4.5\n"
          ]
        }
      ]
    },
    {
      "cell_type": "markdown",
      "source": [
        "###Example 2-10. 두 수를 입력 받아 사칙연산(+,-, x, /)을 하는 함수 만들기"
      ],
      "metadata": {
        "id": "aNEEfqqbct6z"
      }
    },
    {
      "cell_type": "code",
      "source": [
        "def cal():\n",
        "  num1 = int(input('첫번째 숫자를 입력해주세요. '))\n",
        "  num2 = int(input('두번째 숫자를 입력해주세요. '))\n",
        "  result1 = num1 + num2\n",
        "  result2 = num1 - num2\n",
        "  result3 = num1 * num2\n",
        "  result4 = num1 / num2\n",
        "  return result1, result2, result3, result4\n",
        "\n",
        "  #def cal2(num1, num2):\n",
        "  #   a = input('기호를 입력하세요.' )\n",
        "  #   if a == '+':\n",
        "  #     return num1 + num2\n",
        "  #   elif a == '-':\n",
        "  #     return num1 - num2\n",
        "  #   elif a == '*':\n",
        "  #     return num1 * num2\n",
        "  #   elif a == '/':\n",
        "  #     return num1 / num2\n",
        "  #   else:\n",
        "  #     return '제공되지 않는 기호입니다.'"
      ],
      "metadata": {
        "id": "4FDBm0o_eEcS"
      },
      "execution_count": null,
      "outputs": []
    },
    {
      "cell_type": "code",
      "source": [
        "cal()"
      ],
      "metadata": {
        "colab": {
          "base_uri": "https://localhost:8080/"
        },
        "id": "4ilZWk_odJbs",
        "outputId": "ce3d7383-080e-44b2-dd79-c315bb9b7925"
      },
      "execution_count": null,
      "outputs": [
        {
          "name": "stdout",
          "output_type": "stream",
          "text": [
            "첫번째 숫자를 입력해주세요. 3\n",
            "두번째 숫자를 입력해주세요. 4\n"
          ]
        },
        {
          "output_type": "execute_result",
          "data": {
            "text/plain": [
              "(7, -1, 12, 0.75)"
            ]
          },
          "metadata": {},
          "execution_count": 45
        }
      ]
    },
    {
      "cell_type": "markdown",
      "source": [
        "#클래스(Class)"
      ],
      "metadata": {
        "id": "Svjk0zlw65Nl"
      }
    },
    {
      "cell_type": "code",
      "source": [
        "class 붕어빵:\n",
        "  def __init__(self, 속재료):\n",
        "    self.속재료 = 속재료 #속재료라는 속성을 하나 만든 것"
      ],
      "metadata": {
        "id": "yPacDRy-dsba"
      },
      "execution_count": null,
      "outputs": []
    },
    {
      "cell_type": "code",
      "source": [
        "피자붕어빵 = 붕어빵('피자') #피자 붕어빵이라는 instance\n",
        "팥붕어빵 = 붕어빵('팥') #팥 붕어빵이라는 instance"
      ],
      "metadata": {
        "id": "vn94ctSelkWb"
      },
      "execution_count": null,
      "outputs": []
    },
    {
      "cell_type": "code",
      "source": [
        "피자붕어빵.속재료"
      ],
      "metadata": {
        "colab": {
          "base_uri": "https://localhost:8080/",
          "height": 36
        },
        "id": "Z1NSOxN5msjn",
        "outputId": "9ab2798d-3fd9-4fe1-cc86-6f37a658ca10"
      },
      "execution_count": null,
      "outputs": [
        {
          "output_type": "execute_result",
          "data": {
            "text/plain": [
              "'피자'"
            ],
            "application/vnd.google.colaboratory.intrinsic+json": {
              "type": "string"
            }
          },
          "metadata": {},
          "execution_count": 49
        }
      ]
    },
    {
      "cell_type": "markdown",
      "source": [
        "## 클래스 만들기"
      ],
      "metadata": {
        "id": "ffCq9Mwv7BIN"
      }
    },
    {
      "cell_type": "code",
      "source": [
        "class FourCal:\n",
        "  def set_data(self, num1, num2): #self는 인스턴스를 만들어줄 때 인스턴스 자기 자신을 의미\n",
        "    self.num1 = num1 #self.num1이라는 속성은 num1이라는 값을 갖고 있음\n",
        "    self.num2 = num2\n",
        "\n",
        "  def add(self): #set_data 메서드를 만들 때 num1, num2라는 속성을 이미 넣어주었기 때문에 input으로 받지 않아도 됨\n",
        "    return self.num1 + self.num2\n",
        "\n",
        "a = FourCal() #FourCal class를 사용해서 a라는 인스턴스를 만들겠다는 의미\n",
        "a.set_data(10, 20) #a라는 인스턴스를 활용해서 set_data라는 메서드를 사용하겠다는 의미\n",
        "print(a.num1, a.num2)\n",
        "print(a.add())\n",
        "#b = FourCal() 오류 발생, 각각의 인스턴스들이 속성값으로 다른 것을 가져올 수 있음.\n",
        "#print(b.num1, b.num2)\n"
      ],
      "metadata": {
        "colab": {
          "base_uri": "https://localhost:8080/"
        },
        "id": "ywfRN6-tm2vT",
        "outputId": "58c23d0d-2e87-4456-85d1-98ec2620b107"
      },
      "execution_count": null,
      "outputs": [
        {
          "output_type": "stream",
          "name": "stdout",
          "text": [
            "10 20\n",
            "30\n"
          ]
        }
      ]
    },
    {
      "cell_type": "code",
      "source": [
        "class FourCal:\n",
        "  def __init__(self, num1, num2): #인스턴스 만들 때 값을 같이 받겠다는 의미\n",
        "    self.num1 = num1\n",
        "    self.num2 = num2\n",
        "\n",
        "  def add(self):\n",
        "    return self.num1 + self.num2\n",
        "\n",
        "  def sub(self):\n",
        "    return self.num1 - self.num2\n",
        "\n",
        "  def mul(self):\n",
        "    return self.num1 * self.num2\n",
        "\n",
        "  def div(self):\n",
        "    return self.num1 / self.num2\n",
        "\n",
        "a = FourCal(10, 20)\n",
        "\n",
        "print(a.num1, a.num2)\n",
        "\n",
        "print(a.add())\n",
        "print(a.sub())\n",
        "print(a.mul())\n",
        "print(a.div())\n"
      ],
      "metadata": {
        "colab": {
          "base_uri": "https://localhost:8080/"
        },
        "id": "_5pyySnT8SBl",
        "outputId": "2245d93f-bb86-420c-94f6-f011f31bfe27"
      },
      "execution_count": null,
      "outputs": [
        {
          "output_type": "stream",
          "name": "stdout",
          "text": [
            "10 20\n",
            "30\n",
            "-10\n",
            "200\n",
            "0.5\n"
          ]
        }
      ]
    },
    {
      "cell_type": "markdown",
      "source": [
        "1. BankAccount이름의 클래스를 생성합니다.\n",
        "2. 생성자 메서드로 계좌번호, 예금주 이름, 초기 잔액을 받아 계좌를 생성합니다.\n",
        "3. 입금, 출금, 현재 계좌의 잔액을 반환하는 메서드를 생성합니다."
      ],
      "metadata": {
        "id": "qQUSJMw-GVGs"
      }
    },
    {
      "cell_type": "code",
      "source": [
        "class BankAccount:\n",
        "  def __init__(self, 계좌번호, 이름, 잔액):\n",
        "    self.계좌번호 = 계좌번호\n",
        "    self.이름 = 이름\n",
        "    self.잔액 = 잔액\n",
        "\n",
        "  def 입금(self, 금액):\n",
        "    self.잔액 = self.잔액 + 금액\n",
        "\n",
        "  def 출금(self, 금액):\n",
        "    self.잔액 = self.잔액 - 금액\n",
        "\n",
        "  def 잔액조회(self):\n",
        "    print(f'{self.이름}님의 잔고는 {self.잔액}입니다.')\n",
        "\n",
        "최진영계좌 = BankAccount('123-456-789', '최진영', 50000)\n",
        "홍길동계좌 = BankAccount('231-456-780', '홍길동', 100000)\n",
        "\n",
        "print(최진영계좌.잔액)\n",
        "최진영계좌.입금(50000)\n",
        "print(최진영계좌.잔액)\n",
        "최진영계좌.출금(30000)\n",
        "print(최진영계좌.잔액)\n",
        "최진영계좌.잔액조회()"
      ],
      "metadata": {
        "colab": {
          "base_uri": "https://localhost:8080/"
        },
        "id": "-_NV9SSCw_T_",
        "outputId": "afa2f826-9737-469e-feac-1cbd9b826f35"
      },
      "execution_count": null,
      "outputs": [
        {
          "output_type": "stream",
          "name": "stdout",
          "text": [
            "50000\n",
            "100000\n",
            "70000\n",
            "최진영님의 잔고는 70000입니다.\n"
          ]
        }
      ]
    },
    {
      "cell_type": "code",
      "source": [
        "class BankAccount:\n",
        "  def __init__(self, account_num, name, balance):\n",
        "    self.account_num = account_num\n",
        "    self.name = name\n",
        "    self.balance = balance\n",
        "\n",
        "  def deposit(self, money):\n",
        "    self.balance = self.balance + money\n",
        "\n",
        "  def withdraw(self, money):\n",
        "    self.balance = self.balance - money\n",
        "\n",
        "  def check(self):\n",
        "    print(f'{self.name}님의 잔고는 {self.balance}원입니다.')\n",
        "\n",
        "a = BankAccount('110404275916', '김예슬', 100000)\n",
        "print(a.balance)\n",
        "a.deposit(20000)\n",
        "print(a.balance)\n",
        "a.withdraw(10000)\n",
        "print(a.balance)\n",
        "a.check()"
      ],
      "metadata": {
        "id": "Pm2gkfsA92NS",
        "colab": {
          "base_uri": "https://localhost:8080/"
        },
        "outputId": "f6e5720a-d022-4e46-c625-20a0ec9002f2"
      },
      "execution_count": null,
      "outputs": [
        {
          "output_type": "stream",
          "name": "stdout",
          "text": [
            "100000\n",
            "120000\n",
            "110000\n",
            "김예슬님의 잔고는 110000원입니다.\n"
          ]
        }
      ]
    },
    {
      "cell_type": "markdown",
      "source": [
        "#상속"
      ],
      "metadata": {
        "id": "kXxk_UAXMYAk"
      }
    },
    {
      "cell_type": "code",
      "source": [
        "class FourCal:\n",
        "  def __init__(self, num1, num2): #인스턴스 만들 때 값을 같이 받겠다는 의미\n",
        "    self.num1 = num1\n",
        "    self.num2 = num2\n",
        "\n",
        "  def add(self):\n",
        "    return self.num1 + self.num2\n",
        "\n",
        "  def sub(self):\n",
        "    return self.num1 - self.num2\n",
        "\n",
        "  def mul(self):\n",
        "    return self.num1 * self.num2\n",
        "\n",
        "  def div(self):\n",
        "    return self.num1 / self.num2"
      ],
      "metadata": {
        "id": "Q9SeYwGFJIWL"
      },
      "execution_count": null,
      "outputs": []
    },
    {
      "cell_type": "code",
      "source": [
        "class MoreFourCal(FourCal):\n",
        "  def div(self):\n",
        "    if self.num2 == 0:\n",
        "      return 0\n",
        "    else:\n",
        "      return self.num1 / self.num2"
      ],
      "metadata": {
        "id": "kxRDHWTNNGua"
      },
      "execution_count": null,
      "outputs": []
    },
    {
      "cell_type": "code",
      "source": [
        "a = MoreFourCal(2,4)\n",
        "a.add()"
      ],
      "metadata": {
        "colab": {
          "base_uri": "https://localhost:8080/"
        },
        "id": "zP6RdAMBNLQo",
        "outputId": "87b20757-6437-4b70-920d-9ee446d4d1c2"
      },
      "execution_count": null,
      "outputs": [
        {
          "output_type": "execute_result",
          "data": {
            "text/plain": [
              "6"
            ]
          },
          "metadata": {},
          "execution_count": 73
        }
      ]
    },
    {
      "cell_type": "code",
      "source": [
        "b = MoreFourCal(2, 0)\n",
        "b.div()"
      ],
      "metadata": {
        "colab": {
          "base_uri": "https://localhost:8080/"
        },
        "id": "F6pEQhUCNR7K",
        "outputId": "4ece78b3-f453-41df-d714-ed78178e81ba"
      },
      "execution_count": null,
      "outputs": [
        {
          "output_type": "execute_result",
          "data": {
            "text/plain": [
              "0"
            ]
          },
          "metadata": {},
          "execution_count": 75
        }
      ]
    },
    {
      "cell_type": "code",
      "source": [],
      "metadata": {
        "id": "Xi2LDM8NN5Kz"
      },
      "execution_count": null,
      "outputs": []
    }
  ]
}
{
  "nbformat": 4,
  "nbformat_minor": 0,
  "metadata": {
    "colab": {
      "provenance": [],
      "collapsed_sections": [
        "ez8Gb2nejOJb",
        "NoACUqAejXX1",
        "G4vIaePIjZfZ",
        "bsuSiHrTjwLd",
        "D_tBxGXzkCWD",
        "5zcfB6kvmyh2",
        "ZA15pBNIm0p8",
        "rcQ1nNoZm6Aq",
        "sHsnvwWDm-fm",
        "WF9MFVzanDCv",
        "nPdX37HynR0d",
        "kJGLUzEWnYUM",
        "UbvqF3Sgnd8x",
        "Q0H5CnVFnj-R",
        "IMBXW9BEno0G",
        "cUM14jzxnu7B",
        "Up97gfXHn2yR",
        "Aj5ozO0Yn7nm",
        "H9tWG-14oA_D",
        "tep9V10YoI-U",
        "TUcOKvz3oNUK",
        "DZP5qjPNoS8n",
        "-tWRx_8npI8h",
        "nSoNpCKlpSXb",
        "Du9yTQjhpYGO",
        "dWOFllDIpaSK",
        "jY5esmCJpfxq",
        "7dX9x-v_sBLV"
      ],
      "authorship_tag": "ABX9TyPucDBAfkkH/QrN4wjdbz2H",
      "include_colab_link": true
    },
    "kernelspec": {
      "name": "python3",
      "display_name": "Python 3"
    },
    "language_info": {
      "name": "python"
    }
  },
  "cells": [
    {
      "cell_type": "markdown",
      "metadata": {
        "id": "view-in-github",
        "colab_type": "text"
      },
      "source": [
        "<a href=\"https://colab.research.google.com/github/yeseul515/Kimyeseul/blob/Project/Lending_Club_%EC%86%90%EC%8B%A4_%EB%B0%A9%EC%A7%80_%EB%B0%8F_%EC%9D%B4%EC%9D%B5_%EC%B0%BD%EC%B6%9C.ipynb\" target=\"_parent\"><img src=\"https://colab.research.google.com/assets/colab-badge.svg\" alt=\"Open In Colab\"/></a>"
      ]
    },
    {
      "cell_type": "markdown",
      "source": [
        "# 데이터 분석에 영향을 미치지 않는 불필요한 컬럼 제거\n",
        "\n"
      ],
      "metadata": {
        "id": "ez8Gb2nejOJb"
      }
    },
    {
      "cell_type": "code",
      "execution_count": 4,
      "metadata": {
        "id": "TZW_wF-yf2oC"
      },
      "outputs": [],
      "source": [
        "import pandas as pd\n",
        "\n",
        "data = pd.read_csv('/content/lending_club_loan_two (2).csv')"
      ]
    },
    {
      "cell_type": "code",
      "source": [
        "data"
      ],
      "metadata": {
        "colab": {
          "base_uri": "https://localhost:8080/",
          "height": 0
        },
        "id": "ZCTPMY4fifHZ",
        "outputId": "3778442e-c476-47ce-b4ec-f81036441326"
      },
      "execution_count": 5,
      "outputs": [
        {
          "output_type": "execute_result",
          "data": {
            "text/plain": [
              "        loan_amnt        term  int_rate  installment grade sub_grade  \\\n",
              "0         10000.0   36 months     11.44       329.48     B        B4   \n",
              "1          8000.0   36 months     11.99       265.68     B        B5   \n",
              "2         15600.0   36 months     10.49       506.97     B        B3   \n",
              "3          7200.0   36 months      6.49       220.65     A        A2   \n",
              "4         24375.0   60 months     17.27       609.33     C        C5   \n",
              "...           ...         ...       ...          ...   ...       ...   \n",
              "396025    10000.0   60 months     10.99       217.38     B        B4   \n",
              "396026    21000.0   36 months     12.29       700.42     C        C1   \n",
              "396027     5000.0   36 months      9.99       161.32     B        B1   \n",
              "396028    21000.0   60 months     15.31       503.02     C        C2   \n",
              "396029     2000.0   36 months     13.61        67.98     C        C2   \n",
              "\n",
              "                       emp_title emp_length home_ownership  annual_inc  ...  \\\n",
              "0                      Marketing  10+ years           RENT    117000.0  ...   \n",
              "1                Credit analyst     4 years       MORTGAGE     65000.0  ...   \n",
              "2                   Statistician   < 1 year           RENT     43057.0  ...   \n",
              "3                Client Advocate    6 years           RENT     54000.0  ...   \n",
              "4        Destiny Management Inc.    9 years       MORTGAGE     55000.0  ...   \n",
              "...                          ...        ...            ...         ...  ...   \n",
              "396025          licensed bankere    2 years           RENT     40000.0  ...   \n",
              "396026                     Agent    5 years       MORTGAGE    110000.0  ...   \n",
              "396027              City Carrier  10+ years           RENT     56500.0  ...   \n",
              "396028      Gracon Services, Inc  10+ years       MORTGAGE     64000.0  ...   \n",
              "396029  Internal Revenue Service  10+ years           RENT     42996.0  ...   \n",
              "\n",
              "       open_acc pub_rec revol_bal revol_util total_acc  initial_list_status  \\\n",
              "0          16.0     0.0   36369.0       41.8      25.0                    w   \n",
              "1          17.0     0.0   20131.0       53.3      27.0                    f   \n",
              "2          13.0     0.0   11987.0       92.2      26.0                    f   \n",
              "3           6.0     0.0    5472.0       21.5      13.0                    f   \n",
              "4          13.0     0.0   24584.0       69.8      43.0                    f   \n",
              "...         ...     ...       ...        ...       ...                  ...   \n",
              "396025      6.0     0.0    1990.0       34.3      23.0                    w   \n",
              "396026      6.0     0.0   43263.0       95.7       8.0                    f   \n",
              "396027     15.0     0.0   32704.0       66.9      23.0                    f   \n",
              "396028      9.0     0.0   15704.0       53.8      20.0                    f   \n",
              "396029      3.0     0.0    4292.0       91.3      19.0                    f   \n",
              "\n",
              "       application_type  mort_acc  pub_rec_bankruptcies  \\\n",
              "0            INDIVIDUAL       0.0                   0.0   \n",
              "1            INDIVIDUAL       3.0                   0.0   \n",
              "2            INDIVIDUAL       0.0                   0.0   \n",
              "3            INDIVIDUAL       0.0                   0.0   \n",
              "4            INDIVIDUAL       1.0                   0.0   \n",
              "...                 ...       ...                   ...   \n",
              "396025       INDIVIDUAL       0.0                   0.0   \n",
              "396026       INDIVIDUAL       1.0                   0.0   \n",
              "396027       INDIVIDUAL       0.0                   0.0   \n",
              "396028       INDIVIDUAL       5.0                   0.0   \n",
              "396029       INDIVIDUAL       NaN                   0.0   \n",
              "\n",
              "                                                  address  \n",
              "0          0174 Michelle Gateway\\r\\nMendozaberg, OK 22690  \n",
              "1       1076 Carney Fort Apt. 347\\r\\nLoganmouth, SD 05113  \n",
              "2       87025 Mark Dale Apt. 269\\r\\nNew Sabrina, WV 05113  \n",
              "3                 823 Reid Ford\\r\\nDelacruzside, MA 00813  \n",
              "4                  679 Luna Roads\\r\\nGreggshire, VA 11650  \n",
              "...                                                   ...  \n",
              "396025   12951 Williams Crossing\\r\\nJohnnyville, DC 30723  \n",
              "396026  0114 Fowler Field Suite 028\\r\\nRachelborough, ...  \n",
              "396027  953 Matthew Points Suite 414\\r\\nReedfort, NY 7...  \n",
              "396028  7843 Blake Freeway Apt. 229\\r\\nNew Michael, FL...  \n",
              "396029      787 Michelle Causeway\\r\\nBriannaton, AR 48052  \n",
              "\n",
              "[396030 rows x 27 columns]"
            ],
            "text/html": [
              "\n",
              "  <div id=\"df-a24d70c3-813b-4105-9ddc-164f7b15e95d\" class=\"colab-df-container\">\n",
              "    <div>\n",
              "<style scoped>\n",
              "    .dataframe tbody tr th:only-of-type {\n",
              "        vertical-align: middle;\n",
              "    }\n",
              "\n",
              "    .dataframe tbody tr th {\n",
              "        vertical-align: top;\n",
              "    }\n",
              "\n",
              "    .dataframe thead th {\n",
              "        text-align: right;\n",
              "    }\n",
              "</style>\n",
              "<table border=\"1\" class=\"dataframe\">\n",
              "  <thead>\n",
              "    <tr style=\"text-align: right;\">\n",
              "      <th></th>\n",
              "      <th>loan_amnt</th>\n",
              "      <th>term</th>\n",
              "      <th>int_rate</th>\n",
              "      <th>installment</th>\n",
              "      <th>grade</th>\n",
              "      <th>sub_grade</th>\n",
              "      <th>emp_title</th>\n",
              "      <th>emp_length</th>\n",
              "      <th>home_ownership</th>\n",
              "      <th>annual_inc</th>\n",
              "      <th>...</th>\n",
              "      <th>open_acc</th>\n",
              "      <th>pub_rec</th>\n",
              "      <th>revol_bal</th>\n",
              "      <th>revol_util</th>\n",
              "      <th>total_acc</th>\n",
              "      <th>initial_list_status</th>\n",
              "      <th>application_type</th>\n",
              "      <th>mort_acc</th>\n",
              "      <th>pub_rec_bankruptcies</th>\n",
              "      <th>address</th>\n",
              "    </tr>\n",
              "  </thead>\n",
              "  <tbody>\n",
              "    <tr>\n",
              "      <th>0</th>\n",
              "      <td>10000.0</td>\n",
              "      <td>36 months</td>\n",
              "      <td>11.44</td>\n",
              "      <td>329.48</td>\n",
              "      <td>B</td>\n",
              "      <td>B4</td>\n",
              "      <td>Marketing</td>\n",
              "      <td>10+ years</td>\n",
              "      <td>RENT</td>\n",
              "      <td>117000.0</td>\n",
              "      <td>...</td>\n",
              "      <td>16.0</td>\n",
              "      <td>0.0</td>\n",
              "      <td>36369.0</td>\n",
              "      <td>41.8</td>\n",
              "      <td>25.0</td>\n",
              "      <td>w</td>\n",
              "      <td>INDIVIDUAL</td>\n",
              "      <td>0.0</td>\n",
              "      <td>0.0</td>\n",
              "      <td>0174 Michelle Gateway\\r\\nMendozaberg, OK 22690</td>\n",
              "    </tr>\n",
              "    <tr>\n",
              "      <th>1</th>\n",
              "      <td>8000.0</td>\n",
              "      <td>36 months</td>\n",
              "      <td>11.99</td>\n",
              "      <td>265.68</td>\n",
              "      <td>B</td>\n",
              "      <td>B5</td>\n",
              "      <td>Credit analyst</td>\n",
              "      <td>4 years</td>\n",
              "      <td>MORTGAGE</td>\n",
              "      <td>65000.0</td>\n",
              "      <td>...</td>\n",
              "      <td>17.0</td>\n",
              "      <td>0.0</td>\n",
              "      <td>20131.0</td>\n",
              "      <td>53.3</td>\n",
              "      <td>27.0</td>\n",
              "      <td>f</td>\n",
              "      <td>INDIVIDUAL</td>\n",
              "      <td>3.0</td>\n",
              "      <td>0.0</td>\n",
              "      <td>1076 Carney Fort Apt. 347\\r\\nLoganmouth, SD 05113</td>\n",
              "    </tr>\n",
              "    <tr>\n",
              "      <th>2</th>\n",
              "      <td>15600.0</td>\n",
              "      <td>36 months</td>\n",
              "      <td>10.49</td>\n",
              "      <td>506.97</td>\n",
              "      <td>B</td>\n",
              "      <td>B3</td>\n",
              "      <td>Statistician</td>\n",
              "      <td>&lt; 1 year</td>\n",
              "      <td>RENT</td>\n",
              "      <td>43057.0</td>\n",
              "      <td>...</td>\n",
              "      <td>13.0</td>\n",
              "      <td>0.0</td>\n",
              "      <td>11987.0</td>\n",
              "      <td>92.2</td>\n",
              "      <td>26.0</td>\n",
              "      <td>f</td>\n",
              "      <td>INDIVIDUAL</td>\n",
              "      <td>0.0</td>\n",
              "      <td>0.0</td>\n",
              "      <td>87025 Mark Dale Apt. 269\\r\\nNew Sabrina, WV 05113</td>\n",
              "    </tr>\n",
              "    <tr>\n",
              "      <th>3</th>\n",
              "      <td>7200.0</td>\n",
              "      <td>36 months</td>\n",
              "      <td>6.49</td>\n",
              "      <td>220.65</td>\n",
              "      <td>A</td>\n",
              "      <td>A2</td>\n",
              "      <td>Client Advocate</td>\n",
              "      <td>6 years</td>\n",
              "      <td>RENT</td>\n",
              "      <td>54000.0</td>\n",
              "      <td>...</td>\n",
              "      <td>6.0</td>\n",
              "      <td>0.0</td>\n",
              "      <td>5472.0</td>\n",
              "      <td>21.5</td>\n",
              "      <td>13.0</td>\n",
              "      <td>f</td>\n",
              "      <td>INDIVIDUAL</td>\n",
              "      <td>0.0</td>\n",
              "      <td>0.0</td>\n",
              "      <td>823 Reid Ford\\r\\nDelacruzside, MA 00813</td>\n",
              "    </tr>\n",
              "    <tr>\n",
              "      <th>4</th>\n",
              "      <td>24375.0</td>\n",
              "      <td>60 months</td>\n",
              "      <td>17.27</td>\n",
              "      <td>609.33</td>\n",
              "      <td>C</td>\n",
              "      <td>C5</td>\n",
              "      <td>Destiny Management Inc.</td>\n",
              "      <td>9 years</td>\n",
              "      <td>MORTGAGE</td>\n",
              "      <td>55000.0</td>\n",
              "      <td>...</td>\n",
              "      <td>13.0</td>\n",
              "      <td>0.0</td>\n",
              "      <td>24584.0</td>\n",
              "      <td>69.8</td>\n",
              "      <td>43.0</td>\n",
              "      <td>f</td>\n",
              "      <td>INDIVIDUAL</td>\n",
              "      <td>1.0</td>\n",
              "      <td>0.0</td>\n",
              "      <td>679 Luna Roads\\r\\nGreggshire, VA 11650</td>\n",
              "    </tr>\n",
              "    <tr>\n",
              "      <th>...</th>\n",
              "      <td>...</td>\n",
              "      <td>...</td>\n",
              "      <td>...</td>\n",
              "      <td>...</td>\n",
              "      <td>...</td>\n",
              "      <td>...</td>\n",
              "      <td>...</td>\n",
              "      <td>...</td>\n",
              "      <td>...</td>\n",
              "      <td>...</td>\n",
              "      <td>...</td>\n",
              "      <td>...</td>\n",
              "      <td>...</td>\n",
              "      <td>...</td>\n",
              "      <td>...</td>\n",
              "      <td>...</td>\n",
              "      <td>...</td>\n",
              "      <td>...</td>\n",
              "      <td>...</td>\n",
              "      <td>...</td>\n",
              "      <td>...</td>\n",
              "    </tr>\n",
              "    <tr>\n",
              "      <th>396025</th>\n",
              "      <td>10000.0</td>\n",
              "      <td>60 months</td>\n",
              "      <td>10.99</td>\n",
              "      <td>217.38</td>\n",
              "      <td>B</td>\n",
              "      <td>B4</td>\n",
              "      <td>licensed bankere</td>\n",
              "      <td>2 years</td>\n",
              "      <td>RENT</td>\n",
              "      <td>40000.0</td>\n",
              "      <td>...</td>\n",
              "      <td>6.0</td>\n",
              "      <td>0.0</td>\n",
              "      <td>1990.0</td>\n",
              "      <td>34.3</td>\n",
              "      <td>23.0</td>\n",
              "      <td>w</td>\n",
              "      <td>INDIVIDUAL</td>\n",
              "      <td>0.0</td>\n",
              "      <td>0.0</td>\n",
              "      <td>12951 Williams Crossing\\r\\nJohnnyville, DC 30723</td>\n",
              "    </tr>\n",
              "    <tr>\n",
              "      <th>396026</th>\n",
              "      <td>21000.0</td>\n",
              "      <td>36 months</td>\n",
              "      <td>12.29</td>\n",
              "      <td>700.42</td>\n",
              "      <td>C</td>\n",
              "      <td>C1</td>\n",
              "      <td>Agent</td>\n",
              "      <td>5 years</td>\n",
              "      <td>MORTGAGE</td>\n",
              "      <td>110000.0</td>\n",
              "      <td>...</td>\n",
              "      <td>6.0</td>\n",
              "      <td>0.0</td>\n",
              "      <td>43263.0</td>\n",
              "      <td>95.7</td>\n",
              "      <td>8.0</td>\n",
              "      <td>f</td>\n",
              "      <td>INDIVIDUAL</td>\n",
              "      <td>1.0</td>\n",
              "      <td>0.0</td>\n",
              "      <td>0114 Fowler Field Suite 028\\r\\nRachelborough, ...</td>\n",
              "    </tr>\n",
              "    <tr>\n",
              "      <th>396027</th>\n",
              "      <td>5000.0</td>\n",
              "      <td>36 months</td>\n",
              "      <td>9.99</td>\n",
              "      <td>161.32</td>\n",
              "      <td>B</td>\n",
              "      <td>B1</td>\n",
              "      <td>City Carrier</td>\n",
              "      <td>10+ years</td>\n",
              "      <td>RENT</td>\n",
              "      <td>56500.0</td>\n",
              "      <td>...</td>\n",
              "      <td>15.0</td>\n",
              "      <td>0.0</td>\n",
              "      <td>32704.0</td>\n",
              "      <td>66.9</td>\n",
              "      <td>23.0</td>\n",
              "      <td>f</td>\n",
              "      <td>INDIVIDUAL</td>\n",
              "      <td>0.0</td>\n",
              "      <td>0.0</td>\n",
              "      <td>953 Matthew Points Suite 414\\r\\nReedfort, NY 7...</td>\n",
              "    </tr>\n",
              "    <tr>\n",
              "      <th>396028</th>\n",
              "      <td>21000.0</td>\n",
              "      <td>60 months</td>\n",
              "      <td>15.31</td>\n",
              "      <td>503.02</td>\n",
              "      <td>C</td>\n",
              "      <td>C2</td>\n",
              "      <td>Gracon Services, Inc</td>\n",
              "      <td>10+ years</td>\n",
              "      <td>MORTGAGE</td>\n",
              "      <td>64000.0</td>\n",
              "      <td>...</td>\n",
              "      <td>9.0</td>\n",
              "      <td>0.0</td>\n",
              "      <td>15704.0</td>\n",
              "      <td>53.8</td>\n",
              "      <td>20.0</td>\n",
              "      <td>f</td>\n",
              "      <td>INDIVIDUAL</td>\n",
              "      <td>5.0</td>\n",
              "      <td>0.0</td>\n",
              "      <td>7843 Blake Freeway Apt. 229\\r\\nNew Michael, FL...</td>\n",
              "    </tr>\n",
              "    <tr>\n",
              "      <th>396029</th>\n",
              "      <td>2000.0</td>\n",
              "      <td>36 months</td>\n",
              "      <td>13.61</td>\n",
              "      <td>67.98</td>\n",
              "      <td>C</td>\n",
              "      <td>C2</td>\n",
              "      <td>Internal Revenue Service</td>\n",
              "      <td>10+ years</td>\n",
              "      <td>RENT</td>\n",
              "      <td>42996.0</td>\n",
              "      <td>...</td>\n",
              "      <td>3.0</td>\n",
              "      <td>0.0</td>\n",
              "      <td>4292.0</td>\n",
              "      <td>91.3</td>\n",
              "      <td>19.0</td>\n",
              "      <td>f</td>\n",
              "      <td>INDIVIDUAL</td>\n",
              "      <td>NaN</td>\n",
              "      <td>0.0</td>\n",
              "      <td>787 Michelle Causeway\\r\\nBriannaton, AR 48052</td>\n",
              "    </tr>\n",
              "  </tbody>\n",
              "</table>\n",
              "<p>396030 rows × 27 columns</p>\n",
              "</div>\n",
              "    <div class=\"colab-df-buttons\">\n",
              "\n",
              "  <div class=\"colab-df-container\">\n",
              "    <button class=\"colab-df-convert\" onclick=\"convertToInteractive('df-a24d70c3-813b-4105-9ddc-164f7b15e95d')\"\n",
              "            title=\"Convert this dataframe to an interactive table.\"\n",
              "            style=\"display:none;\">\n",
              "\n",
              "  <svg xmlns=\"http://www.w3.org/2000/svg\" height=\"24px\" viewBox=\"0 -960 960 960\">\n",
              "    <path d=\"M120-120v-720h720v720H120Zm60-500h600v-160H180v160Zm220 220h160v-160H400v160Zm0 220h160v-160H400v160ZM180-400h160v-160H180v160Zm440 0h160v-160H620v160ZM180-180h160v-160H180v160Zm440 0h160v-160H620v160Z\"/>\n",
              "  </svg>\n",
              "    </button>\n",
              "\n",
              "  <style>\n",
              "    .colab-df-container {\n",
              "      display:flex;\n",
              "      gap: 12px;\n",
              "    }\n",
              "\n",
              "    .colab-df-convert {\n",
              "      background-color: #E8F0FE;\n",
              "      border: none;\n",
              "      border-radius: 50%;\n",
              "      cursor: pointer;\n",
              "      display: none;\n",
              "      fill: #1967D2;\n",
              "      height: 32px;\n",
              "      padding: 0 0 0 0;\n",
              "      width: 32px;\n",
              "    }\n",
              "\n",
              "    .colab-df-convert:hover {\n",
              "      background-color: #E2EBFA;\n",
              "      box-shadow: 0px 1px 2px rgba(60, 64, 67, 0.3), 0px 1px 3px 1px rgba(60, 64, 67, 0.15);\n",
              "      fill: #174EA6;\n",
              "    }\n",
              "\n",
              "    .colab-df-buttons div {\n",
              "      margin-bottom: 4px;\n",
              "    }\n",
              "\n",
              "    [theme=dark] .colab-df-convert {\n",
              "      background-color: #3B4455;\n",
              "      fill: #D2E3FC;\n",
              "    }\n",
              "\n",
              "    [theme=dark] .colab-df-convert:hover {\n",
              "      background-color: #434B5C;\n",
              "      box-shadow: 0px 1px 3px 1px rgba(0, 0, 0, 0.15);\n",
              "      filter: drop-shadow(0px 1px 2px rgba(0, 0, 0, 0.3));\n",
              "      fill: #FFFFFF;\n",
              "    }\n",
              "  </style>\n",
              "\n",
              "    <script>\n",
              "      const buttonEl =\n",
              "        document.querySelector('#df-a24d70c3-813b-4105-9ddc-164f7b15e95d button.colab-df-convert');\n",
              "      buttonEl.style.display =\n",
              "        google.colab.kernel.accessAllowed ? 'block' : 'none';\n",
              "\n",
              "      async function convertToInteractive(key) {\n",
              "        const element = document.querySelector('#df-a24d70c3-813b-4105-9ddc-164f7b15e95d');\n",
              "        const dataTable =\n",
              "          await google.colab.kernel.invokeFunction('convertToInteractive',\n",
              "                                                    [key], {});\n",
              "        if (!dataTable) return;\n",
              "\n",
              "        const docLinkHtml = 'Like what you see? Visit the ' +\n",
              "          '<a target=\"_blank\" href=https://colab.research.google.com/notebooks/data_table.ipynb>data table notebook</a>'\n",
              "          + ' to learn more about interactive tables.';\n",
              "        element.innerHTML = '';\n",
              "        dataTable['output_type'] = 'display_data';\n",
              "        await google.colab.output.renderOutput(dataTable, element);\n",
              "        const docLink = document.createElement('div');\n",
              "        docLink.innerHTML = docLinkHtml;\n",
              "        element.appendChild(docLink);\n",
              "      }\n",
              "    </script>\n",
              "  </div>\n",
              "\n",
              "\n",
              "<div id=\"df-7e0641ac-97ae-4626-9a01-2c7f1ad8f3c5\">\n",
              "  <button class=\"colab-df-quickchart\" onclick=\"quickchart('df-7e0641ac-97ae-4626-9a01-2c7f1ad8f3c5')\"\n",
              "            title=\"Suggest charts\"\n",
              "            style=\"display:none;\">\n",
              "\n",
              "<svg xmlns=\"http://www.w3.org/2000/svg\" height=\"24px\"viewBox=\"0 0 24 24\"\n",
              "     width=\"24px\">\n",
              "    <g>\n",
              "        <path d=\"M19 3H5c-1.1 0-2 .9-2 2v14c0 1.1.9 2 2 2h14c1.1 0 2-.9 2-2V5c0-1.1-.9-2-2-2zM9 17H7v-7h2v7zm4 0h-2V7h2v10zm4 0h-2v-4h2v4z\"/>\n",
              "    </g>\n",
              "</svg>\n",
              "  </button>\n",
              "\n",
              "<style>\n",
              "  .colab-df-quickchart {\n",
              "      --bg-color: #E8F0FE;\n",
              "      --fill-color: #1967D2;\n",
              "      --hover-bg-color: #E2EBFA;\n",
              "      --hover-fill-color: #174EA6;\n",
              "      --disabled-fill-color: #AAA;\n",
              "      --disabled-bg-color: #DDD;\n",
              "  }\n",
              "\n",
              "  [theme=dark] .colab-df-quickchart {\n",
              "      --bg-color: #3B4455;\n",
              "      --fill-color: #D2E3FC;\n",
              "      --hover-bg-color: #434B5C;\n",
              "      --hover-fill-color: #FFFFFF;\n",
              "      --disabled-bg-color: #3B4455;\n",
              "      --disabled-fill-color: #666;\n",
              "  }\n",
              "\n",
              "  .colab-df-quickchart {\n",
              "    background-color: var(--bg-color);\n",
              "    border: none;\n",
              "    border-radius: 50%;\n",
              "    cursor: pointer;\n",
              "    display: none;\n",
              "    fill: var(--fill-color);\n",
              "    height: 32px;\n",
              "    padding: 0;\n",
              "    width: 32px;\n",
              "  }\n",
              "\n",
              "  .colab-df-quickchart:hover {\n",
              "    background-color: var(--hover-bg-color);\n",
              "    box-shadow: 0 1px 2px rgba(60, 64, 67, 0.3), 0 1px 3px 1px rgba(60, 64, 67, 0.15);\n",
              "    fill: var(--button-hover-fill-color);\n",
              "  }\n",
              "\n",
              "  .colab-df-quickchart-complete:disabled,\n",
              "  .colab-df-quickchart-complete:disabled:hover {\n",
              "    background-color: var(--disabled-bg-color);\n",
              "    fill: var(--disabled-fill-color);\n",
              "    box-shadow: none;\n",
              "  }\n",
              "\n",
              "  .colab-df-spinner {\n",
              "    border: 2px solid var(--fill-color);\n",
              "    border-color: transparent;\n",
              "    border-bottom-color: var(--fill-color);\n",
              "    animation:\n",
              "      spin 1s steps(1) infinite;\n",
              "  }\n",
              "\n",
              "  @keyframes spin {\n",
              "    0% {\n",
              "      border-color: transparent;\n",
              "      border-bottom-color: var(--fill-color);\n",
              "      border-left-color: var(--fill-color);\n",
              "    }\n",
              "    20% {\n",
              "      border-color: transparent;\n",
              "      border-left-color: var(--fill-color);\n",
              "      border-top-color: var(--fill-color);\n",
              "    }\n",
              "    30% {\n",
              "      border-color: transparent;\n",
              "      border-left-color: var(--fill-color);\n",
              "      border-top-color: var(--fill-color);\n",
              "      border-right-color: var(--fill-color);\n",
              "    }\n",
              "    40% {\n",
              "      border-color: transparent;\n",
              "      border-right-color: var(--fill-color);\n",
              "      border-top-color: var(--fill-color);\n",
              "    }\n",
              "    60% {\n",
              "      border-color: transparent;\n",
              "      border-right-color: var(--fill-color);\n",
              "    }\n",
              "    80% {\n",
              "      border-color: transparent;\n",
              "      border-right-color: var(--fill-color);\n",
              "      border-bottom-color: var(--fill-color);\n",
              "    }\n",
              "    90% {\n",
              "      border-color: transparent;\n",
              "      border-bottom-color: var(--fill-color);\n",
              "    }\n",
              "  }\n",
              "</style>\n",
              "\n",
              "  <script>\n",
              "    async function quickchart(key) {\n",
              "      const quickchartButtonEl =\n",
              "        document.querySelector('#' + key + ' button');\n",
              "      quickchartButtonEl.disabled = true;  // To prevent multiple clicks.\n",
              "      quickchartButtonEl.classList.add('colab-df-spinner');\n",
              "      try {\n",
              "        const charts = await google.colab.kernel.invokeFunction(\n",
              "            'suggestCharts', [key], {});\n",
              "      } catch (error) {\n",
              "        console.error('Error during call to suggestCharts:', error);\n",
              "      }\n",
              "      quickchartButtonEl.classList.remove('colab-df-spinner');\n",
              "      quickchartButtonEl.classList.add('colab-df-quickchart-complete');\n",
              "    }\n",
              "    (() => {\n",
              "      let quickchartButtonEl =\n",
              "        document.querySelector('#df-7e0641ac-97ae-4626-9a01-2c7f1ad8f3c5 button');\n",
              "      quickchartButtonEl.style.display =\n",
              "        google.colab.kernel.accessAllowed ? 'block' : 'none';\n",
              "    })();\n",
              "  </script>\n",
              "</div>\n",
              "\n",
              "  <div id=\"id_25100f8d-70cc-42ad-bfc8-f20ce98616f7\">\n",
              "    <style>\n",
              "      .colab-df-generate {\n",
              "        background-color: #E8F0FE;\n",
              "        border: none;\n",
              "        border-radius: 50%;\n",
              "        cursor: pointer;\n",
              "        display: none;\n",
              "        fill: #1967D2;\n",
              "        height: 32px;\n",
              "        padding: 0 0 0 0;\n",
              "        width: 32px;\n",
              "      }\n",
              "\n",
              "      .colab-df-generate:hover {\n",
              "        background-color: #E2EBFA;\n",
              "        box-shadow: 0px 1px 2px rgba(60, 64, 67, 0.3), 0px 1px 3px 1px rgba(60, 64, 67, 0.15);\n",
              "        fill: #174EA6;\n",
              "      }\n",
              "\n",
              "      [theme=dark] .colab-df-generate {\n",
              "        background-color: #3B4455;\n",
              "        fill: #D2E3FC;\n",
              "      }\n",
              "\n",
              "      [theme=dark] .colab-df-generate:hover {\n",
              "        background-color: #434B5C;\n",
              "        box-shadow: 0px 1px 3px 1px rgba(0, 0, 0, 0.15);\n",
              "        filter: drop-shadow(0px 1px 2px rgba(0, 0, 0, 0.3));\n",
              "        fill: #FFFFFF;\n",
              "      }\n",
              "    </style>\n",
              "    <button class=\"colab-df-generate\" onclick=\"generateWithVariable('data')\"\n",
              "            title=\"Generate code using this dataframe.\"\n",
              "            style=\"display:none;\">\n",
              "\n",
              "  <svg xmlns=\"http://www.w3.org/2000/svg\" height=\"24px\"viewBox=\"0 0 24 24\"\n",
              "       width=\"24px\">\n",
              "    <path d=\"M7,19H8.4L18.45,9,17,7.55,7,17.6ZM5,21V16.75L18.45,3.32a2,2,0,0,1,2.83,0l1.4,1.43a1.91,1.91,0,0,1,.58,1.4,1.91,1.91,0,0,1-.58,1.4L9.25,21ZM18.45,9,17,7.55Zm-12,3A5.31,5.31,0,0,0,4.9,8.1,5.31,5.31,0,0,0,1,6.5,5.31,5.31,0,0,0,4.9,4.9,5.31,5.31,0,0,0,6.5,1,5.31,5.31,0,0,0,8.1,4.9,5.31,5.31,0,0,0,12,6.5,5.46,5.46,0,0,0,6.5,12Z\"/>\n",
              "  </svg>\n",
              "    </button>\n",
              "    <script>\n",
              "      (() => {\n",
              "      const buttonEl =\n",
              "        document.querySelector('#id_25100f8d-70cc-42ad-bfc8-f20ce98616f7 button.colab-df-generate');\n",
              "      buttonEl.style.display =\n",
              "        google.colab.kernel.accessAllowed ? 'block' : 'none';\n",
              "\n",
              "      buttonEl.onclick = () => {\n",
              "        google.colab.notebook.generateWithVariable('data');\n",
              "      }\n",
              "      })();\n",
              "    </script>\n",
              "  </div>\n",
              "\n",
              "    </div>\n",
              "  </div>\n"
            ]
          },
          "metadata": {},
          "execution_count": 5
        }
      ]
    },
    {
      "cell_type": "code",
      "source": [
        "COL_DEL = ['grade','emp_title','title','earliest_cr_line','address']\n",
        "COL_NUM = ['loan_amnt','term','int_rate','installment','annual_inc','dti','open_acc','pub_rec','revol_bal','revol_util','total_acc','mort_acc','pub_rec_bankruptcies']\n",
        "COL_CAT = ['sub_grade','home_ownership','verification_status','DIRECT_PAY','INDIVIDUAL','JOINT']\n",
        "COL_Y = ['loan_status']"
      ],
      "metadata": {
        "id": "ndAttwNeigtu"
      },
      "execution_count": 6,
      "outputs": []
    },
    {
      "cell_type": "code",
      "source": [
        "data = data.drop(COL_DEL, axis=1)"
      ],
      "metadata": {
        "id": "NMUUc5BMiiqL"
      },
      "execution_count": 7,
      "outputs": []
    },
    {
      "cell_type": "code",
      "source": [
        "data.reset_index(drop=True, inplace=True)"
      ],
      "metadata": {
        "id": "YUf5gZUFjD6k"
      },
      "execution_count": 8,
      "outputs": []
    },
    {
      "cell_type": "code",
      "source": [
        "data.to_csv('/content/lending_club.csv', index=False)"
      ],
      "metadata": {
        "id": "o9V7j51XipQD"
      },
      "execution_count": 9,
      "outputs": []
    },
    {
      "cell_type": "markdown",
      "source": [
        "# EDA"
      ],
      "metadata": {
        "id": "NoACUqAejXX1"
      }
    },
    {
      "cell_type": "markdown",
      "source": [
        "## 1. 결측치 확인"
      ],
      "metadata": {
        "id": "G4vIaePIjZfZ"
      }
    },
    {
      "cell_type": "code",
      "source": [
        "data = pd.read_csv('/content/lending_club.csv')\n",
        "data"
      ],
      "metadata": {
        "colab": {
          "base_uri": "https://localhost:8080/",
          "height": 0
        },
        "id": "w27GvAQ4ir9C",
        "outputId": "814779a8-cd7d-4d53-ef37-1769e16bc0c1"
      },
      "execution_count": 10,
      "outputs": [
        {
          "output_type": "execute_result",
          "data": {
            "text/plain": [
              "        loan_amnt        term  int_rate  installment sub_grade emp_length  \\\n",
              "0         10000.0   36 months     11.44       329.48        B4  10+ years   \n",
              "1          8000.0   36 months     11.99       265.68        B5    4 years   \n",
              "2         15600.0   36 months     10.49       506.97        B3   < 1 year   \n",
              "3          7200.0   36 months      6.49       220.65        A2    6 years   \n",
              "4         24375.0   60 months     17.27       609.33        C5    9 years   \n",
              "...           ...         ...       ...          ...       ...        ...   \n",
              "396025    10000.0   60 months     10.99       217.38        B4    2 years   \n",
              "396026    21000.0   36 months     12.29       700.42        C1    5 years   \n",
              "396027     5000.0   36 months      9.99       161.32        B1  10+ years   \n",
              "396028    21000.0   60 months     15.31       503.02        C2  10+ years   \n",
              "396029     2000.0   36 months     13.61        67.98        C2  10+ years   \n",
              "\n",
              "       home_ownership  annual_inc verification_status   issue_d  ...    dti  \\\n",
              "0                RENT    117000.0        Not Verified  Jan-2015  ...  26.24   \n",
              "1            MORTGAGE     65000.0        Not Verified  Jan-2015  ...  22.05   \n",
              "2                RENT     43057.0     Source Verified  Jan-2015  ...  12.79   \n",
              "3                RENT     54000.0        Not Verified  Nov-2014  ...   2.60   \n",
              "4            MORTGAGE     55000.0            Verified  Apr-2013  ...  33.95   \n",
              "...               ...         ...                 ...       ...  ...    ...   \n",
              "396025           RENT     40000.0     Source Verified  Oct-2015  ...  15.63   \n",
              "396026       MORTGAGE    110000.0     Source Verified  Feb-2015  ...  21.45   \n",
              "396027           RENT     56500.0            Verified  Oct-2013  ...  17.56   \n",
              "396028       MORTGAGE     64000.0            Verified  Aug-2012  ...  15.88   \n",
              "396029           RENT     42996.0            Verified  Jun-2010  ...   8.32   \n",
              "\n",
              "       open_acc  pub_rec  revol_bal  revol_util  total_acc  \\\n",
              "0          16.0      0.0    36369.0        41.8       25.0   \n",
              "1          17.0      0.0    20131.0        53.3       27.0   \n",
              "2          13.0      0.0    11987.0        92.2       26.0   \n",
              "3           6.0      0.0     5472.0        21.5       13.0   \n",
              "4          13.0      0.0    24584.0        69.8       43.0   \n",
              "...         ...      ...        ...         ...        ...   \n",
              "396025      6.0      0.0     1990.0        34.3       23.0   \n",
              "396026      6.0      0.0    43263.0        95.7        8.0   \n",
              "396027     15.0      0.0    32704.0        66.9       23.0   \n",
              "396028      9.0      0.0    15704.0        53.8       20.0   \n",
              "396029      3.0      0.0     4292.0        91.3       19.0   \n",
              "\n",
              "        initial_list_status  application_type mort_acc pub_rec_bankruptcies  \n",
              "0                         w        INDIVIDUAL      0.0                  0.0  \n",
              "1                         f        INDIVIDUAL      3.0                  0.0  \n",
              "2                         f        INDIVIDUAL      0.0                  0.0  \n",
              "3                         f        INDIVIDUAL      0.0                  0.0  \n",
              "4                         f        INDIVIDUAL      1.0                  0.0  \n",
              "...                     ...               ...      ...                  ...  \n",
              "396025                    w        INDIVIDUAL      0.0                  0.0  \n",
              "396026                    f        INDIVIDUAL      1.0                  0.0  \n",
              "396027                    f        INDIVIDUAL      0.0                  0.0  \n",
              "396028                    f        INDIVIDUAL      5.0                  0.0  \n",
              "396029                    f        INDIVIDUAL      NaN                  0.0  \n",
              "\n",
              "[396030 rows x 22 columns]"
            ],
            "text/html": [
              "\n",
              "  <div id=\"df-cdab4351-cb34-4ebf-9be4-a263497a1154\" class=\"colab-df-container\">\n",
              "    <div>\n",
              "<style scoped>\n",
              "    .dataframe tbody tr th:only-of-type {\n",
              "        vertical-align: middle;\n",
              "    }\n",
              "\n",
              "    .dataframe tbody tr th {\n",
              "        vertical-align: top;\n",
              "    }\n",
              "\n",
              "    .dataframe thead th {\n",
              "        text-align: right;\n",
              "    }\n",
              "</style>\n",
              "<table border=\"1\" class=\"dataframe\">\n",
              "  <thead>\n",
              "    <tr style=\"text-align: right;\">\n",
              "      <th></th>\n",
              "      <th>loan_amnt</th>\n",
              "      <th>term</th>\n",
              "      <th>int_rate</th>\n",
              "      <th>installment</th>\n",
              "      <th>sub_grade</th>\n",
              "      <th>emp_length</th>\n",
              "      <th>home_ownership</th>\n",
              "      <th>annual_inc</th>\n",
              "      <th>verification_status</th>\n",
              "      <th>issue_d</th>\n",
              "      <th>...</th>\n",
              "      <th>dti</th>\n",
              "      <th>open_acc</th>\n",
              "      <th>pub_rec</th>\n",
              "      <th>revol_bal</th>\n",
              "      <th>revol_util</th>\n",
              "      <th>total_acc</th>\n",
              "      <th>initial_list_status</th>\n",
              "      <th>application_type</th>\n",
              "      <th>mort_acc</th>\n",
              "      <th>pub_rec_bankruptcies</th>\n",
              "    </tr>\n",
              "  </thead>\n",
              "  <tbody>\n",
              "    <tr>\n",
              "      <th>0</th>\n",
              "      <td>10000.0</td>\n",
              "      <td>36 months</td>\n",
              "      <td>11.44</td>\n",
              "      <td>329.48</td>\n",
              "      <td>B4</td>\n",
              "      <td>10+ years</td>\n",
              "      <td>RENT</td>\n",
              "      <td>117000.0</td>\n",
              "      <td>Not Verified</td>\n",
              "      <td>Jan-2015</td>\n",
              "      <td>...</td>\n",
              "      <td>26.24</td>\n",
              "      <td>16.0</td>\n",
              "      <td>0.0</td>\n",
              "      <td>36369.0</td>\n",
              "      <td>41.8</td>\n",
              "      <td>25.0</td>\n",
              "      <td>w</td>\n",
              "      <td>INDIVIDUAL</td>\n",
              "      <td>0.0</td>\n",
              "      <td>0.0</td>\n",
              "    </tr>\n",
              "    <tr>\n",
              "      <th>1</th>\n",
              "      <td>8000.0</td>\n",
              "      <td>36 months</td>\n",
              "      <td>11.99</td>\n",
              "      <td>265.68</td>\n",
              "      <td>B5</td>\n",
              "      <td>4 years</td>\n",
              "      <td>MORTGAGE</td>\n",
              "      <td>65000.0</td>\n",
              "      <td>Not Verified</td>\n",
              "      <td>Jan-2015</td>\n",
              "      <td>...</td>\n",
              "      <td>22.05</td>\n",
              "      <td>17.0</td>\n",
              "      <td>0.0</td>\n",
              "      <td>20131.0</td>\n",
              "      <td>53.3</td>\n",
              "      <td>27.0</td>\n",
              "      <td>f</td>\n",
              "      <td>INDIVIDUAL</td>\n",
              "      <td>3.0</td>\n",
              "      <td>0.0</td>\n",
              "    </tr>\n",
              "    <tr>\n",
              "      <th>2</th>\n",
              "      <td>15600.0</td>\n",
              "      <td>36 months</td>\n",
              "      <td>10.49</td>\n",
              "      <td>506.97</td>\n",
              "      <td>B3</td>\n",
              "      <td>&lt; 1 year</td>\n",
              "      <td>RENT</td>\n",
              "      <td>43057.0</td>\n",
              "      <td>Source Verified</td>\n",
              "      <td>Jan-2015</td>\n",
              "      <td>...</td>\n",
              "      <td>12.79</td>\n",
              "      <td>13.0</td>\n",
              "      <td>0.0</td>\n",
              "      <td>11987.0</td>\n",
              "      <td>92.2</td>\n",
              "      <td>26.0</td>\n",
              "      <td>f</td>\n",
              "      <td>INDIVIDUAL</td>\n",
              "      <td>0.0</td>\n",
              "      <td>0.0</td>\n",
              "    </tr>\n",
              "    <tr>\n",
              "      <th>3</th>\n",
              "      <td>7200.0</td>\n",
              "      <td>36 months</td>\n",
              "      <td>6.49</td>\n",
              "      <td>220.65</td>\n",
              "      <td>A2</td>\n",
              "      <td>6 years</td>\n",
              "      <td>RENT</td>\n",
              "      <td>54000.0</td>\n",
              "      <td>Not Verified</td>\n",
              "      <td>Nov-2014</td>\n",
              "      <td>...</td>\n",
              "      <td>2.60</td>\n",
              "      <td>6.0</td>\n",
              "      <td>0.0</td>\n",
              "      <td>5472.0</td>\n",
              "      <td>21.5</td>\n",
              "      <td>13.0</td>\n",
              "      <td>f</td>\n",
              "      <td>INDIVIDUAL</td>\n",
              "      <td>0.0</td>\n",
              "      <td>0.0</td>\n",
              "    </tr>\n",
              "    <tr>\n",
              "      <th>4</th>\n",
              "      <td>24375.0</td>\n",
              "      <td>60 months</td>\n",
              "      <td>17.27</td>\n",
              "      <td>609.33</td>\n",
              "      <td>C5</td>\n",
              "      <td>9 years</td>\n",
              "      <td>MORTGAGE</td>\n",
              "      <td>55000.0</td>\n",
              "      <td>Verified</td>\n",
              "      <td>Apr-2013</td>\n",
              "      <td>...</td>\n",
              "      <td>33.95</td>\n",
              "      <td>13.0</td>\n",
              "      <td>0.0</td>\n",
              "      <td>24584.0</td>\n",
              "      <td>69.8</td>\n",
              "      <td>43.0</td>\n",
              "      <td>f</td>\n",
              "      <td>INDIVIDUAL</td>\n",
              "      <td>1.0</td>\n",
              "      <td>0.0</td>\n",
              "    </tr>\n",
              "    <tr>\n",
              "      <th>...</th>\n",
              "      <td>...</td>\n",
              "      <td>...</td>\n",
              "      <td>...</td>\n",
              "      <td>...</td>\n",
              "      <td>...</td>\n",
              "      <td>...</td>\n",
              "      <td>...</td>\n",
              "      <td>...</td>\n",
              "      <td>...</td>\n",
              "      <td>...</td>\n",
              "      <td>...</td>\n",
              "      <td>...</td>\n",
              "      <td>...</td>\n",
              "      <td>...</td>\n",
              "      <td>...</td>\n",
              "      <td>...</td>\n",
              "      <td>...</td>\n",
              "      <td>...</td>\n",
              "      <td>...</td>\n",
              "      <td>...</td>\n",
              "      <td>...</td>\n",
              "    </tr>\n",
              "    <tr>\n",
              "      <th>396025</th>\n",
              "      <td>10000.0</td>\n",
              "      <td>60 months</td>\n",
              "      <td>10.99</td>\n",
              "      <td>217.38</td>\n",
              "      <td>B4</td>\n",
              "      <td>2 years</td>\n",
              "      <td>RENT</td>\n",
              "      <td>40000.0</td>\n",
              "      <td>Source Verified</td>\n",
              "      <td>Oct-2015</td>\n",
              "      <td>...</td>\n",
              "      <td>15.63</td>\n",
              "      <td>6.0</td>\n",
              "      <td>0.0</td>\n",
              "      <td>1990.0</td>\n",
              "      <td>34.3</td>\n",
              "      <td>23.0</td>\n",
              "      <td>w</td>\n",
              "      <td>INDIVIDUAL</td>\n",
              "      <td>0.0</td>\n",
              "      <td>0.0</td>\n",
              "    </tr>\n",
              "    <tr>\n",
              "      <th>396026</th>\n",
              "      <td>21000.0</td>\n",
              "      <td>36 months</td>\n",
              "      <td>12.29</td>\n",
              "      <td>700.42</td>\n",
              "      <td>C1</td>\n",
              "      <td>5 years</td>\n",
              "      <td>MORTGAGE</td>\n",
              "      <td>110000.0</td>\n",
              "      <td>Source Verified</td>\n",
              "      <td>Feb-2015</td>\n",
              "      <td>...</td>\n",
              "      <td>21.45</td>\n",
              "      <td>6.0</td>\n",
              "      <td>0.0</td>\n",
              "      <td>43263.0</td>\n",
              "      <td>95.7</td>\n",
              "      <td>8.0</td>\n",
              "      <td>f</td>\n",
              "      <td>INDIVIDUAL</td>\n",
              "      <td>1.0</td>\n",
              "      <td>0.0</td>\n",
              "    </tr>\n",
              "    <tr>\n",
              "      <th>396027</th>\n",
              "      <td>5000.0</td>\n",
              "      <td>36 months</td>\n",
              "      <td>9.99</td>\n",
              "      <td>161.32</td>\n",
              "      <td>B1</td>\n",
              "      <td>10+ years</td>\n",
              "      <td>RENT</td>\n",
              "      <td>56500.0</td>\n",
              "      <td>Verified</td>\n",
              "      <td>Oct-2013</td>\n",
              "      <td>...</td>\n",
              "      <td>17.56</td>\n",
              "      <td>15.0</td>\n",
              "      <td>0.0</td>\n",
              "      <td>32704.0</td>\n",
              "      <td>66.9</td>\n",
              "      <td>23.0</td>\n",
              "      <td>f</td>\n",
              "      <td>INDIVIDUAL</td>\n",
              "      <td>0.0</td>\n",
              "      <td>0.0</td>\n",
              "    </tr>\n",
              "    <tr>\n",
              "      <th>396028</th>\n",
              "      <td>21000.0</td>\n",
              "      <td>60 months</td>\n",
              "      <td>15.31</td>\n",
              "      <td>503.02</td>\n",
              "      <td>C2</td>\n",
              "      <td>10+ years</td>\n",
              "      <td>MORTGAGE</td>\n",
              "      <td>64000.0</td>\n",
              "      <td>Verified</td>\n",
              "      <td>Aug-2012</td>\n",
              "      <td>...</td>\n",
              "      <td>15.88</td>\n",
              "      <td>9.0</td>\n",
              "      <td>0.0</td>\n",
              "      <td>15704.0</td>\n",
              "      <td>53.8</td>\n",
              "      <td>20.0</td>\n",
              "      <td>f</td>\n",
              "      <td>INDIVIDUAL</td>\n",
              "      <td>5.0</td>\n",
              "      <td>0.0</td>\n",
              "    </tr>\n",
              "    <tr>\n",
              "      <th>396029</th>\n",
              "      <td>2000.0</td>\n",
              "      <td>36 months</td>\n",
              "      <td>13.61</td>\n",
              "      <td>67.98</td>\n",
              "      <td>C2</td>\n",
              "      <td>10+ years</td>\n",
              "      <td>RENT</td>\n",
              "      <td>42996.0</td>\n",
              "      <td>Verified</td>\n",
              "      <td>Jun-2010</td>\n",
              "      <td>...</td>\n",
              "      <td>8.32</td>\n",
              "      <td>3.0</td>\n",
              "      <td>0.0</td>\n",
              "      <td>4292.0</td>\n",
              "      <td>91.3</td>\n",
              "      <td>19.0</td>\n",
              "      <td>f</td>\n",
              "      <td>INDIVIDUAL</td>\n",
              "      <td>NaN</td>\n",
              "      <td>0.0</td>\n",
              "    </tr>\n",
              "  </tbody>\n",
              "</table>\n",
              "<p>396030 rows × 22 columns</p>\n",
              "</div>\n",
              "    <div class=\"colab-df-buttons\">\n",
              "\n",
              "  <div class=\"colab-df-container\">\n",
              "    <button class=\"colab-df-convert\" onclick=\"convertToInteractive('df-cdab4351-cb34-4ebf-9be4-a263497a1154')\"\n",
              "            title=\"Convert this dataframe to an interactive table.\"\n",
              "            style=\"display:none;\">\n",
              "\n",
              "  <svg xmlns=\"http://www.w3.org/2000/svg\" height=\"24px\" viewBox=\"0 -960 960 960\">\n",
              "    <path d=\"M120-120v-720h720v720H120Zm60-500h600v-160H180v160Zm220 220h160v-160H400v160Zm0 220h160v-160H400v160ZM180-400h160v-160H180v160Zm440 0h160v-160H620v160ZM180-180h160v-160H180v160Zm440 0h160v-160H620v160Z\"/>\n",
              "  </svg>\n",
              "    </button>\n",
              "\n",
              "  <style>\n",
              "    .colab-df-container {\n",
              "      display:flex;\n",
              "      gap: 12px;\n",
              "    }\n",
              "\n",
              "    .colab-df-convert {\n",
              "      background-color: #E8F0FE;\n",
              "      border: none;\n",
              "      border-radius: 50%;\n",
              "      cursor: pointer;\n",
              "      display: none;\n",
              "      fill: #1967D2;\n",
              "      height: 32px;\n",
              "      padding: 0 0 0 0;\n",
              "      width: 32px;\n",
              "    }\n",
              "\n",
              "    .colab-df-convert:hover {\n",
              "      background-color: #E2EBFA;\n",
              "      box-shadow: 0px 1px 2px rgba(60, 64, 67, 0.3), 0px 1px 3px 1px rgba(60, 64, 67, 0.15);\n",
              "      fill: #174EA6;\n",
              "    }\n",
              "\n",
              "    .colab-df-buttons div {\n",
              "      margin-bottom: 4px;\n",
              "    }\n",
              "\n",
              "    [theme=dark] .colab-df-convert {\n",
              "      background-color: #3B4455;\n",
              "      fill: #D2E3FC;\n",
              "    }\n",
              "\n",
              "    [theme=dark] .colab-df-convert:hover {\n",
              "      background-color: #434B5C;\n",
              "      box-shadow: 0px 1px 3px 1px rgba(0, 0, 0, 0.15);\n",
              "      filter: drop-shadow(0px 1px 2px rgba(0, 0, 0, 0.3));\n",
              "      fill: #FFFFFF;\n",
              "    }\n",
              "  </style>\n",
              "\n",
              "    <script>\n",
              "      const buttonEl =\n",
              "        document.querySelector('#df-cdab4351-cb34-4ebf-9be4-a263497a1154 button.colab-df-convert');\n",
              "      buttonEl.style.display =\n",
              "        google.colab.kernel.accessAllowed ? 'block' : 'none';\n",
              "\n",
              "      async function convertToInteractive(key) {\n",
              "        const element = document.querySelector('#df-cdab4351-cb34-4ebf-9be4-a263497a1154');\n",
              "        const dataTable =\n",
              "          await google.colab.kernel.invokeFunction('convertToInteractive',\n",
              "                                                    [key], {});\n",
              "        if (!dataTable) return;\n",
              "\n",
              "        const docLinkHtml = 'Like what you see? Visit the ' +\n",
              "          '<a target=\"_blank\" href=https://colab.research.google.com/notebooks/data_table.ipynb>data table notebook</a>'\n",
              "          + ' to learn more about interactive tables.';\n",
              "        element.innerHTML = '';\n",
              "        dataTable['output_type'] = 'display_data';\n",
              "        await google.colab.output.renderOutput(dataTable, element);\n",
              "        const docLink = document.createElement('div');\n",
              "        docLink.innerHTML = docLinkHtml;\n",
              "        element.appendChild(docLink);\n",
              "      }\n",
              "    </script>\n",
              "  </div>\n",
              "\n",
              "\n",
              "<div id=\"df-d09fb015-5ee2-4035-be0a-2cbb57723ce5\">\n",
              "  <button class=\"colab-df-quickchart\" onclick=\"quickchart('df-d09fb015-5ee2-4035-be0a-2cbb57723ce5')\"\n",
              "            title=\"Suggest charts\"\n",
              "            style=\"display:none;\">\n",
              "\n",
              "<svg xmlns=\"http://www.w3.org/2000/svg\" height=\"24px\"viewBox=\"0 0 24 24\"\n",
              "     width=\"24px\">\n",
              "    <g>\n",
              "        <path d=\"M19 3H5c-1.1 0-2 .9-2 2v14c0 1.1.9 2 2 2h14c1.1 0 2-.9 2-2V5c0-1.1-.9-2-2-2zM9 17H7v-7h2v7zm4 0h-2V7h2v10zm4 0h-2v-4h2v4z\"/>\n",
              "    </g>\n",
              "</svg>\n",
              "  </button>\n",
              "\n",
              "<style>\n",
              "  .colab-df-quickchart {\n",
              "      --bg-color: #E8F0FE;\n",
              "      --fill-color: #1967D2;\n",
              "      --hover-bg-color: #E2EBFA;\n",
              "      --hover-fill-color: #174EA6;\n",
              "      --disabled-fill-color: #AAA;\n",
              "      --disabled-bg-color: #DDD;\n",
              "  }\n",
              "\n",
              "  [theme=dark] .colab-df-quickchart {\n",
              "      --bg-color: #3B4455;\n",
              "      --fill-color: #D2E3FC;\n",
              "      --hover-bg-color: #434B5C;\n",
              "      --hover-fill-color: #FFFFFF;\n",
              "      --disabled-bg-color: #3B4455;\n",
              "      --disabled-fill-color: #666;\n",
              "  }\n",
              "\n",
              "  .colab-df-quickchart {\n",
              "    background-color: var(--bg-color);\n",
              "    border: none;\n",
              "    border-radius: 50%;\n",
              "    cursor: pointer;\n",
              "    display: none;\n",
              "    fill: var(--fill-color);\n",
              "    height: 32px;\n",
              "    padding: 0;\n",
              "    width: 32px;\n",
              "  }\n",
              "\n",
              "  .colab-df-quickchart:hover {\n",
              "    background-color: var(--hover-bg-color);\n",
              "    box-shadow: 0 1px 2px rgba(60, 64, 67, 0.3), 0 1px 3px 1px rgba(60, 64, 67, 0.15);\n",
              "    fill: var(--button-hover-fill-color);\n",
              "  }\n",
              "\n",
              "  .colab-df-quickchart-complete:disabled,\n",
              "  .colab-df-quickchart-complete:disabled:hover {\n",
              "    background-color: var(--disabled-bg-color);\n",
              "    fill: var(--disabled-fill-color);\n",
              "    box-shadow: none;\n",
              "  }\n",
              "\n",
              "  .colab-df-spinner {\n",
              "    border: 2px solid var(--fill-color);\n",
              "    border-color: transparent;\n",
              "    border-bottom-color: var(--fill-color);\n",
              "    animation:\n",
              "      spin 1s steps(1) infinite;\n",
              "  }\n",
              "\n",
              "  @keyframes spin {\n",
              "    0% {\n",
              "      border-color: transparent;\n",
              "      border-bottom-color: var(--fill-color);\n",
              "      border-left-color: var(--fill-color);\n",
              "    }\n",
              "    20% {\n",
              "      border-color: transparent;\n",
              "      border-left-color: var(--fill-color);\n",
              "      border-top-color: var(--fill-color);\n",
              "    }\n",
              "    30% {\n",
              "      border-color: transparent;\n",
              "      border-left-color: var(--fill-color);\n",
              "      border-top-color: var(--fill-color);\n",
              "      border-right-color: var(--fill-color);\n",
              "    }\n",
              "    40% {\n",
              "      border-color: transparent;\n",
              "      border-right-color: var(--fill-color);\n",
              "      border-top-color: var(--fill-color);\n",
              "    }\n",
              "    60% {\n",
              "      border-color: transparent;\n",
              "      border-right-color: var(--fill-color);\n",
              "    }\n",
              "    80% {\n",
              "      border-color: transparent;\n",
              "      border-right-color: var(--fill-color);\n",
              "      border-bottom-color: var(--fill-color);\n",
              "    }\n",
              "    90% {\n",
              "      border-color: transparent;\n",
              "      border-bottom-color: var(--fill-color);\n",
              "    }\n",
              "  }\n",
              "</style>\n",
              "\n",
              "  <script>\n",
              "    async function quickchart(key) {\n",
              "      const quickchartButtonEl =\n",
              "        document.querySelector('#' + key + ' button');\n",
              "      quickchartButtonEl.disabled = true;  // To prevent multiple clicks.\n",
              "      quickchartButtonEl.classList.add('colab-df-spinner');\n",
              "      try {\n",
              "        const charts = await google.colab.kernel.invokeFunction(\n",
              "            'suggestCharts', [key], {});\n",
              "      } catch (error) {\n",
              "        console.error('Error during call to suggestCharts:', error);\n",
              "      }\n",
              "      quickchartButtonEl.classList.remove('colab-df-spinner');\n",
              "      quickchartButtonEl.classList.add('colab-df-quickchart-complete');\n",
              "    }\n",
              "    (() => {\n",
              "      let quickchartButtonEl =\n",
              "        document.querySelector('#df-d09fb015-5ee2-4035-be0a-2cbb57723ce5 button');\n",
              "      quickchartButtonEl.style.display =\n",
              "        google.colab.kernel.accessAllowed ? 'block' : 'none';\n",
              "    })();\n",
              "  </script>\n",
              "</div>\n",
              "\n",
              "  <div id=\"id_541e9cde-4b8b-4a1c-a99f-5ebf70e046b7\">\n",
              "    <style>\n",
              "      .colab-df-generate {\n",
              "        background-color: #E8F0FE;\n",
              "        border: none;\n",
              "        border-radius: 50%;\n",
              "        cursor: pointer;\n",
              "        display: none;\n",
              "        fill: #1967D2;\n",
              "        height: 32px;\n",
              "        padding: 0 0 0 0;\n",
              "        width: 32px;\n",
              "      }\n",
              "\n",
              "      .colab-df-generate:hover {\n",
              "        background-color: #E2EBFA;\n",
              "        box-shadow: 0px 1px 2px rgba(60, 64, 67, 0.3), 0px 1px 3px 1px rgba(60, 64, 67, 0.15);\n",
              "        fill: #174EA6;\n",
              "      }\n",
              "\n",
              "      [theme=dark] .colab-df-generate {\n",
              "        background-color: #3B4455;\n",
              "        fill: #D2E3FC;\n",
              "      }\n",
              "\n",
              "      [theme=dark] .colab-df-generate:hover {\n",
              "        background-color: #434B5C;\n",
              "        box-shadow: 0px 1px 3px 1px rgba(0, 0, 0, 0.15);\n",
              "        filter: drop-shadow(0px 1px 2px rgba(0, 0, 0, 0.3));\n",
              "        fill: #FFFFFF;\n",
              "      }\n",
              "    </style>\n",
              "    <button class=\"colab-df-generate\" onclick=\"generateWithVariable('data')\"\n",
              "            title=\"Generate code using this dataframe.\"\n",
              "            style=\"display:none;\">\n",
              "\n",
              "  <svg xmlns=\"http://www.w3.org/2000/svg\" height=\"24px\"viewBox=\"0 0 24 24\"\n",
              "       width=\"24px\">\n",
              "    <path d=\"M7,19H8.4L18.45,9,17,7.55,7,17.6ZM5,21V16.75L18.45,3.32a2,2,0,0,1,2.83,0l1.4,1.43a1.91,1.91,0,0,1,.58,1.4,1.91,1.91,0,0,1-.58,1.4L9.25,21ZM18.45,9,17,7.55Zm-12,3A5.31,5.31,0,0,0,4.9,8.1,5.31,5.31,0,0,0,1,6.5,5.31,5.31,0,0,0,4.9,4.9,5.31,5.31,0,0,0,6.5,1,5.31,5.31,0,0,0,8.1,4.9,5.31,5.31,0,0,0,12,6.5,5.46,5.46,0,0,0,6.5,12Z\"/>\n",
              "  </svg>\n",
              "    </button>\n",
              "    <script>\n",
              "      (() => {\n",
              "      const buttonEl =\n",
              "        document.querySelector('#id_541e9cde-4b8b-4a1c-a99f-5ebf70e046b7 button.colab-df-generate');\n",
              "      buttonEl.style.display =\n",
              "        google.colab.kernel.accessAllowed ? 'block' : 'none';\n",
              "\n",
              "      buttonEl.onclick = () => {\n",
              "        google.colab.notebook.generateWithVariable('data');\n",
              "      }\n",
              "      })();\n",
              "    </script>\n",
              "  </div>\n",
              "\n",
              "    </div>\n",
              "  </div>\n"
            ]
          },
          "metadata": {},
          "execution_count": 10
        }
      ]
    },
    {
      "cell_type": "code",
      "source": [
        "#결측치 확인하기\n",
        "data.isnull().sum()"
      ],
      "metadata": {
        "colab": {
          "base_uri": "https://localhost:8080/"
        },
        "id": "f_jC5IXwjeLh",
        "outputId": "9daf93b4-7e44-45fa-b342-c74116b7fb80"
      },
      "execution_count": 11,
      "outputs": [
        {
          "output_type": "execute_result",
          "data": {
            "text/plain": [
              "loan_amnt                   0\n",
              "term                        0\n",
              "int_rate                    0\n",
              "installment                 0\n",
              "sub_grade                   0\n",
              "emp_length              18301\n",
              "home_ownership              0\n",
              "annual_inc                  0\n",
              "verification_status         0\n",
              "issue_d                     0\n",
              "loan_status                 0\n",
              "purpose                     0\n",
              "dti                         0\n",
              "open_acc                    0\n",
              "pub_rec                     0\n",
              "revol_bal                   0\n",
              "revol_util                276\n",
              "total_acc                   0\n",
              "initial_list_status         0\n",
              "application_type            0\n",
              "mort_acc                37795\n",
              "pub_rec_bankruptcies      535\n",
              "dtype: int64"
            ]
          },
          "metadata": {},
          "execution_count": 11
        }
      ]
    },
    {
      "cell_type": "markdown",
      "source": [
        "## 2. 종속 변수 인코딩"
      ],
      "metadata": {
        "id": "bsuSiHrTjwLd"
      }
    },
    {
      "cell_type": "markdown",
      "source": [
        "### ① loan_status 변수 label mapping"
      ],
      "metadata": {
        "id": "WFcG8ZELjycf"
      }
    },
    {
      "cell_type": "code",
      "source": [
        "loan_status_mapping = {'Fully Paid':1, 'Charged Off':0}\n",
        "data['loan_status'] = data['loan_status'].map(loan_status_mapping)"
      ],
      "metadata": {
        "id": "Jl13jeBGjikE"
      },
      "execution_count": 12,
      "outputs": []
    },
    {
      "cell_type": "markdown",
      "source": [
        "### ② loan_status 0과 1의 비율 확인"
      ],
      "metadata": {
        "id": "XkgZ_vmUj3Q6"
      }
    },
    {
      "cell_type": "code",
      "source": [
        "ratio_data = data['loan_status'].value_counts(normalize=True).reset_index()\n",
        "ratio_data.columns = ['loan_status', 'ratio']"
      ],
      "metadata": {
        "id": "nm55_fjfj2eA"
      },
      "execution_count": 13,
      "outputs": []
    },
    {
      "cell_type": "code",
      "source": [
        "print(ratio_data)"
      ],
      "metadata": {
        "colab": {
          "base_uri": "https://localhost:8080/"
        },
        "id": "2lJSgvilj_Fz",
        "outputId": "a96b6385-0981-4c1a-d718-e503a794b008"
      },
      "execution_count": 14,
      "outputs": [
        {
          "output_type": "stream",
          "name": "stdout",
          "text": [
            "   loan_status     ratio\n",
            "0            1  0.803871\n",
            "1            0  0.196129\n"
          ]
        }
      ]
    },
    {
      "cell_type": "markdown",
      "source": [
        "## 3. 수치형 변수 결측치 처리"
      ],
      "metadata": {
        "id": "D_tBxGXzkCWD"
      }
    },
    {
      "cell_type": "markdown",
      "source": [
        "### ① revol_util\n",
        "\n",
        "→ 해당 칼럼의 결측치는 276개로 전체 데이터의 약 0.07%이기 때문에 제거하기로 결정"
      ],
      "metadata": {
        "id": "sEahgmiAkGWU"
      }
    },
    {
      "cell_type": "code",
      "source": [
        "data.dropna(subset=['revol_util'], inplace=True)\n",
        "data.dropna(subset=['pub_rec_bankruptcies'], inplace=True)"
      ],
      "metadata": {
        "id": "3tJoYF7fkAaL"
      },
      "execution_count": 15,
      "outputs": []
    },
    {
      "cell_type": "code",
      "source": [
        "#revol_util 결측치 제거\n",
        "#subset을 설정하지 않으면 전체 data의 모든 결측치를 제거함\n",
        "data.dropna(subset=['revol_util'], inplace=True)\n",
        "data.isnull().sum()"
      ],
      "metadata": {
        "colab": {
          "base_uri": "https://localhost:8080/"
        },
        "id": "gnfAnZInkPK4",
        "outputId": "710e25c6-551b-4f7f-96a6-c4f65e9b4340"
      },
      "execution_count": 16,
      "outputs": [
        {
          "output_type": "execute_result",
          "data": {
            "text/plain": [
              "loan_amnt                   0\n",
              "term                        0\n",
              "int_rate                    0\n",
              "installment                 0\n",
              "sub_grade                   0\n",
              "emp_length              18290\n",
              "home_ownership              0\n",
              "annual_inc                  0\n",
              "verification_status         0\n",
              "issue_d                     0\n",
              "loan_status                 0\n",
              "purpose                     0\n",
              "dti                         0\n",
              "open_acc                    0\n",
              "pub_rec                     0\n",
              "revol_bal                   0\n",
              "revol_util                  0\n",
              "total_acc                   0\n",
              "initial_list_status         0\n",
              "application_type            0\n",
              "mort_acc                37205\n",
              "pub_rec_bankruptcies        0\n",
              "dtype: int64"
            ]
          },
          "metadata": {},
          "execution_count": 16
        }
      ]
    },
    {
      "cell_type": "markdown",
      "source": [
        "### ② pub_rec_bankruptcies\n",
        "→ 해당 칼럼의 결측치는 535개로 전체 데이터의 약 0.13%이기 때문에 제거하기로 결정"
      ],
      "metadata": {
        "id": "W_8OF4U6kRtT"
      }
    },
    {
      "cell_type": "code",
      "source": [
        "#pub_rec_bankruptcies 결측치 제거\n",
        "#subset을 설정하지 않으면 전체 data의 모든 결측치를 제거함\n",
        "data.dropna(subset=['pub_rec_bankruptcies'], inplace=True)\n",
        "data.isnull().sum()"
      ],
      "metadata": {
        "colab": {
          "base_uri": "https://localhost:8080/"
        },
        "id": "DeLcgTtvkQWc",
        "outputId": "1fd354ff-6692-4b21-918e-54a370d7ce84"
      },
      "execution_count": 17,
      "outputs": [
        {
          "output_type": "execute_result",
          "data": {
            "text/plain": [
              "loan_amnt                   0\n",
              "term                        0\n",
              "int_rate                    0\n",
              "installment                 0\n",
              "sub_grade                   0\n",
              "emp_length              18290\n",
              "home_ownership              0\n",
              "annual_inc                  0\n",
              "verification_status         0\n",
              "issue_d                     0\n",
              "loan_status                 0\n",
              "purpose                     0\n",
              "dti                         0\n",
              "open_acc                    0\n",
              "pub_rec                     0\n",
              "revol_bal                   0\n",
              "revol_util                  0\n",
              "total_acc                   0\n",
              "initial_list_status         0\n",
              "application_type            0\n",
              "mort_acc                37205\n",
              "pub_rec_bankruptcies        0\n",
              "dtype: int64"
            ]
          },
          "metadata": {},
          "execution_count": 17
        }
      ]
    },
    {
      "cell_type": "markdown",
      "source": [
        "### ③ mort_acc\n",
        "\n",
        "→ 'total_acc' 컬럼을 기반으로 각 'total_acc' 그룹의 'mort_acc' 평균값을 사용하여 결측치를 대체"
      ],
      "metadata": {
        "id": "rNHjU8urkeIr"
      }
    },
    {
      "cell_type": "code",
      "source": [
        "#mort_acc 결측치 대체\n",
        "\n",
        "#tota_acc에 대한 mort_acc의 평균값 구하기\n",
        "total_acc_avg = data.groupby(by='total_acc').mean().mort_acc\n",
        "print(total_acc_avg.head())"
      ],
      "metadata": {
        "colab": {
          "base_uri": "https://localhost:8080/"
        },
        "id": "3-kokT9VkXBP",
        "outputId": "31be8d57-76ce-42dd-df74-3fc932493a48"
      },
      "execution_count": 18,
      "outputs": [
        {
          "output_type": "stream",
          "name": "stdout",
          "text": [
            "total_acc\n",
            "2.0    0.000000\n",
            "3.0    0.052326\n",
            "4.0    0.066743\n",
            "5.0    0.102108\n",
            "6.0    0.151123\n",
            "Name: mort_acc, dtype: float64\n"
          ]
        },
        {
          "output_type": "stream",
          "name": "stderr",
          "text": [
            "<ipython-input-18-1c7477a93134>:4: FutureWarning: The default value of numeric_only in DataFrameGroupBy.mean is deprecated. In a future version, numeric_only will default to False. Either specify numeric_only or select only columns which should be valid for the function.\n",
            "  total_acc_avg = data.groupby(by='total_acc').mean().mort_acc\n"
          ]
        }
      ]
    },
    {
      "cell_type": "code",
      "source": [
        "import numpy as np\n",
        "\n",
        "def fill_mort_acc(total_acc, mort_acc):\n",
        "    if np.isnan(mort_acc):\n",
        "        return total_acc_avg[total_acc].round()\n",
        "    else:\n",
        "        return mort_acc\n",
        "\n",
        "data['mort_acc'] = data.apply(lambda x: fill_mort_acc(x['total_acc'], x['mort_acc']), axis=1)\n",
        "\n",
        "data.isnull().sum()"
      ],
      "metadata": {
        "colab": {
          "base_uri": "https://localhost:8080/"
        },
        "id": "v3eCMMaYkjML",
        "outputId": "747b1cea-f99f-4fad-a193-2e9e30edd46e"
      },
      "execution_count": 19,
      "outputs": [
        {
          "output_type": "execute_result",
          "data": {
            "text/plain": [
              "loan_amnt                   0\n",
              "term                        0\n",
              "int_rate                    0\n",
              "installment                 0\n",
              "sub_grade                   0\n",
              "emp_length              18290\n",
              "home_ownership              0\n",
              "annual_inc                  0\n",
              "verification_status         0\n",
              "issue_d                     0\n",
              "loan_status                 0\n",
              "purpose                     0\n",
              "dti                         0\n",
              "open_acc                    0\n",
              "pub_rec                     0\n",
              "revol_bal                   0\n",
              "revol_util                  0\n",
              "total_acc                   0\n",
              "initial_list_status         0\n",
              "application_type            0\n",
              "mort_acc                    0\n",
              "pub_rec_bankruptcies        0\n",
              "dtype: int64"
            ]
          },
          "metadata": {},
          "execution_count": 19
        }
      ]
    },
    {
      "cell_type": "code",
      "source": [
        "data.isnull().sum()"
      ],
      "metadata": {
        "colab": {
          "base_uri": "https://localhost:8080/"
        },
        "id": "uJCjTKsBkrA_",
        "outputId": "3f052e4d-7908-4f3f-868b-abb19b2b1b09"
      },
      "execution_count": 20,
      "outputs": [
        {
          "output_type": "execute_result",
          "data": {
            "text/plain": [
              "loan_amnt                   0\n",
              "term                        0\n",
              "int_rate                    0\n",
              "installment                 0\n",
              "sub_grade                   0\n",
              "emp_length              18290\n",
              "home_ownership              0\n",
              "annual_inc                  0\n",
              "verification_status         0\n",
              "issue_d                     0\n",
              "loan_status                 0\n",
              "purpose                     0\n",
              "dti                         0\n",
              "open_acc                    0\n",
              "pub_rec                     0\n",
              "revol_bal                   0\n",
              "revol_util                  0\n",
              "total_acc                   0\n",
              "initial_list_status         0\n",
              "application_type            0\n",
              "mort_acc                    0\n",
              "pub_rec_bankruptcies        0\n",
              "dtype: int64"
            ]
          },
          "metadata": {},
          "execution_count": 20
        }
      ]
    },
    {
      "cell_type": "markdown",
      "source": [
        "## 4. 범주형 변수 인코딩"
      ],
      "metadata": {
        "id": "JUaFNm00k13M"
      }
    },
    {
      "cell_type": "markdown",
      "source": [
        "### ① sub_grade\n",
        "- sub_grade A1 ~ G5까지 인코딩(A1이 가장 높은 등급이므로 가장 높은 값을 갖도록 인코딩함)"
      ],
      "metadata": {
        "id": "RuU5Fnoyk6Yw"
      }
    },
    {
      "cell_type": "code",
      "source": [
        "grades = ['A1', 'A2', 'A3', 'A4', 'A5', 'B1', 'B2', 'B3', 'B4', 'B5', 'C1', 'C2', 'C3', 'C4', 'C5', 'D1', 'D2', 'D3', 'D4', 'D5',\n",
        "          'E1', 'E2', 'E3', 'E4', 'E5', 'F1', 'F2', 'F3', 'F4', 'F5', 'G1', 'G2', 'G3', 'G4', 'G5']\n",
        "\n",
        "# 각 등급에 부여할 값 생성\n",
        "values = [34, 33, 32, 31, 30, 29, 28, 27, 26, 25, 24, 23, 22, 21, 20, 19, 18, 17,\n",
        "          16, 15, 14, 13, 12, 11, 10, 9, 8, 7, 6, 5, 4, 3, 2, 1, 0]\n",
        "\n",
        "# 등급과 값의 매핑을 딕셔너리로 생성\n",
        "grade_to_value = dict(zip(grades, values))\n",
        "\n",
        "# '등급' 컬럼을 매핑하여 새로운 '값' 컬럼 생성\n",
        "data['sub_grade'] = data['sub_grade'].map(grade_to_value)\n",
        "\n",
        "# 결과 출력\n",
        "print(data)"
      ],
      "metadata": {
        "colab": {
          "base_uri": "https://localhost:8080/"
        },
        "id": "2S55kyvSkvCA",
        "outputId": "cd9e66e0-2962-4f11-8f4d-18767e0975e6"
      },
      "execution_count": 21,
      "outputs": [
        {
          "output_type": "stream",
          "name": "stdout",
          "text": [
            "        loan_amnt        term  int_rate  installment  sub_grade emp_length  \\\n",
            "0         10000.0   36 months     11.44       329.48         26  10+ years   \n",
            "1          8000.0   36 months     11.99       265.68         25    4 years   \n",
            "2         15600.0   36 months     10.49       506.97         27   < 1 year   \n",
            "3          7200.0   36 months      6.49       220.65         33    6 years   \n",
            "4         24375.0   60 months     17.27       609.33         20    9 years   \n",
            "...           ...         ...       ...          ...        ...        ...   \n",
            "396025    10000.0   60 months     10.99       217.38         26    2 years   \n",
            "396026    21000.0   36 months     12.29       700.42         24    5 years   \n",
            "396027     5000.0   36 months      9.99       161.32         29  10+ years   \n",
            "396028    21000.0   60 months     15.31       503.02         23  10+ years   \n",
            "396029     2000.0   36 months     13.61        67.98         23  10+ years   \n",
            "\n",
            "       home_ownership  annual_inc verification_status   issue_d  ...    dti  \\\n",
            "0                RENT    117000.0        Not Verified  Jan-2015  ...  26.24   \n",
            "1            MORTGAGE     65000.0        Not Verified  Jan-2015  ...  22.05   \n",
            "2                RENT     43057.0     Source Verified  Jan-2015  ...  12.79   \n",
            "3                RENT     54000.0        Not Verified  Nov-2014  ...   2.60   \n",
            "4            MORTGAGE     55000.0            Verified  Apr-2013  ...  33.95   \n",
            "...               ...         ...                 ...       ...  ...    ...   \n",
            "396025           RENT     40000.0     Source Verified  Oct-2015  ...  15.63   \n",
            "396026       MORTGAGE    110000.0     Source Verified  Feb-2015  ...  21.45   \n",
            "396027           RENT     56500.0            Verified  Oct-2013  ...  17.56   \n",
            "396028       MORTGAGE     64000.0            Verified  Aug-2012  ...  15.88   \n",
            "396029           RENT     42996.0            Verified  Jun-2010  ...   8.32   \n",
            "\n",
            "       open_acc  pub_rec  revol_bal  revol_util  total_acc  \\\n",
            "0          16.0      0.0    36369.0        41.8       25.0   \n",
            "1          17.0      0.0    20131.0        53.3       27.0   \n",
            "2          13.0      0.0    11987.0        92.2       26.0   \n",
            "3           6.0      0.0     5472.0        21.5       13.0   \n",
            "4          13.0      0.0    24584.0        69.8       43.0   \n",
            "...         ...      ...        ...         ...        ...   \n",
            "396025      6.0      0.0     1990.0        34.3       23.0   \n",
            "396026      6.0      0.0    43263.0        95.7        8.0   \n",
            "396027     15.0      0.0    32704.0        66.9       23.0   \n",
            "396028      9.0      0.0    15704.0        53.8       20.0   \n",
            "396029      3.0      0.0     4292.0        91.3       19.0   \n",
            "\n",
            "        initial_list_status  application_type mort_acc pub_rec_bankruptcies  \n",
            "0                         w        INDIVIDUAL      0.0                  0.0  \n",
            "1                         f        INDIVIDUAL      3.0                  0.0  \n",
            "2                         f        INDIVIDUAL      0.0                  0.0  \n",
            "3                         f        INDIVIDUAL      0.0                  0.0  \n",
            "4                         f        INDIVIDUAL      1.0                  0.0  \n",
            "...                     ...               ...      ...                  ...  \n",
            "396025                    w        INDIVIDUAL      0.0                  0.0  \n",
            "396026                    f        INDIVIDUAL      1.0                  0.0  \n",
            "396027                    f        INDIVIDUAL      0.0                  0.0  \n",
            "396028                    f        INDIVIDUAL      5.0                  0.0  \n",
            "396029                    f        INDIVIDUAL      1.0                  0.0  \n",
            "\n",
            "[395219 rows x 22 columns]\n"
          ]
        }
      ]
    },
    {
      "cell_type": "markdown",
      "source": [
        "### ② emp_length\n",
        "- 근속 연수에 따른 loan_status의 비율을 확인했을 때, 비율에 변화가 X (8:2의 비율임)\n",
        "\n",
        "- 상관관계가 낮은 변수라고 판단하여 칼럼 삭제"
      ],
      "metadata": {
        "id": "YZQsiLzMlB36"
      }
    },
    {
      "cell_type": "code",
      "source": [
        "for year in data.emp_length.unique():\n",
        "    print(f\"{year} years in this position:\")\n",
        "    print(f\"{data[data.emp_length == year].loan_status.value_counts(normalize=True)}\")\n",
        "    print('==========================================')"
      ],
      "metadata": {
        "colab": {
          "base_uri": "https://localhost:8080/"
        },
        "id": "Ctknu8yfk_7z",
        "outputId": "1df51f92-47b1-433e-e91d-e51293b1b83f"
      },
      "execution_count": 22,
      "outputs": [
        {
          "output_type": "stream",
          "name": "stdout",
          "text": [
            "10+ years years in this position:\n",
            "1    0.815827\n",
            "0    0.184173\n",
            "Name: loan_status, dtype: float64\n",
            "==========================================\n",
            "4 years years in this position:\n",
            "1    0.807848\n",
            "0    0.192152\n",
            "Name: loan_status, dtype: float64\n",
            "==========================================\n",
            "< 1 year years in this position:\n",
            "1    0.793055\n",
            "0    0.206945\n",
            "Name: loan_status, dtype: float64\n",
            "==========================================\n",
            "6 years years in this position:\n",
            "1    0.810652\n",
            "0    0.189348\n",
            "Name: loan_status, dtype: float64\n",
            "==========================================\n",
            "9 years years in this position:\n",
            "1    0.799477\n",
            "0    0.200523\n",
            "Name: loan_status, dtype: float64\n",
            "==========================================\n",
            "2 years years in this position:\n",
            "1    0.806665\n",
            "0    0.193335\n",
            "Name: loan_status, dtype: float64\n",
            "==========================================\n",
            "3 years years in this position:\n",
            "1    0.804545\n",
            "0    0.195455\n",
            "Name: loan_status, dtype: float64\n",
            "==========================================\n",
            "8 years years in this position:\n",
            "1    0.800324\n",
            "0    0.199676\n",
            "Name: loan_status, dtype: float64\n",
            "==========================================\n",
            "7 years years in this position:\n",
            "1    0.805177\n",
            "0    0.194823\n",
            "Name: loan_status, dtype: float64\n",
            "==========================================\n",
            "5 years years in this position:\n",
            "1    0.807749\n",
            "0    0.192251\n",
            "Name: loan_status, dtype: float64\n",
            "==========================================\n",
            "1 year years in this position:\n",
            "1    0.800853\n",
            "0    0.199147\n",
            "Name: loan_status, dtype: float64\n",
            "==========================================\n",
            "nan years in this position:\n",
            "Series([], Name: loan_status, dtype: float64)\n",
            "==========================================\n"
          ]
        }
      ]
    },
    {
      "cell_type": "code",
      "source": [
        "data.drop('emp_length', axis=1, inplace=True)"
      ],
      "metadata": {
        "id": "FqiaAaZhlJKD"
      },
      "execution_count": 23,
      "outputs": []
    },
    {
      "cell_type": "markdown",
      "source": [
        "### ③ home_ownership\n",
        "- 주택을 보유하고 있는 경우에만 가중치 부여"
      ],
      "metadata": {
        "id": "ju3a35S0lMXB"
      }
    },
    {
      "cell_type": "code",
      "source": [
        "from sklearn.preprocessing import LabelEncoder\n",
        "\n",
        "data['home_ownership'].unique()\n",
        "\n",
        "label_mapping = {'OWN':1, 'RENT':0, 'MORTGAGE':0, 'OTHER':0, 'ANY':0, 'NONE':0}\n",
        "data['home_ownership'] = data['home_ownership'].map(label_mapping)\n",
        "print(data['home_ownership'])"
      ],
      "metadata": {
        "colab": {
          "base_uri": "https://localhost:8080/"
        },
        "id": "KzjYjRqylLnN",
        "outputId": "eb6b0734-945a-4be3-97bd-5b4f78b51ba1"
      },
      "execution_count": 24,
      "outputs": [
        {
          "output_type": "stream",
          "name": "stdout",
          "text": [
            "0         0\n",
            "1         0\n",
            "2         0\n",
            "3         0\n",
            "4         0\n",
            "         ..\n",
            "396025    0\n",
            "396026    0\n",
            "396027    0\n",
            "396028    0\n",
            "396029    0\n",
            "Name: home_ownership, Length: 395219, dtype: int64\n"
          ]
        }
      ]
    },
    {
      "cell_type": "markdown",
      "source": [
        "### ④ verification_status\n",
        "\n",
        "- 'Not Verified': 0 / 'Source Verified': 1 / 'Verified’: 2"
      ],
      "metadata": {
        "id": "Mat2g3bglVW6"
      }
    },
    {
      "cell_type": "code",
      "source": [
        "from sklearn.preprocessing import LabelEncoder\n",
        "encoder = LabelEncoder()\n",
        "encoder.fit(data['verification_status'])\n",
        "data['verification_status'] = encoder.transform(data['verification_status'])"
      ],
      "metadata": {
        "id": "G00xEpz2lTUe"
      },
      "execution_count": 25,
      "outputs": []
    },
    {
      "cell_type": "markdown",
      "source": [
        "### ⑤ purpose\n",
        "- 목적의 종류와 상관없이 종속 변수의 비율이 8:2로 동일함.\n",
        "- 상관관계가 없는 변수라고 판단하고 칼럼 삭제를 결정함."
      ],
      "metadata": {
        "id": "PlMc6IoRleMS"
      }
    },
    {
      "cell_type": "code",
      "source": [
        "df = pd.DataFrame(data)\n",
        "\n",
        "# 'purpose'와 'loan_status'에 대한 피벗 테이블 생성\n",
        "pivot_table = df.pivot_table(index='purpose', columns='loan_status', aggfunc='size', fill_value=0).reset_index()\n",
        "\n",
        "# 결과 확인\n",
        "pivot_table['ratio'] = pivot_table[1] / (pivot_table[0] + pivot_table[1])\n",
        "pivot_table"
      ],
      "metadata": {
        "colab": {
          "base_uri": "https://localhost:8080/",
          "height": 0
        },
        "id": "ZPBZIodsldH4",
        "outputId": "ddf588b6-736e-4129-b18a-1bf5042ec5e6"
      },
      "execution_count": 26,
      "outputs": [
        {
          "output_type": "execute_result",
          "data": {
            "text/plain": [
              "loan_status             purpose      0       1     ratio\n",
              "0                           car    628    4042  0.865525\n",
              "1                   credit_card  13864   69059  0.832809\n",
              "2            debt_consolidation  48573  185596  0.792573\n",
              "3                   educational     40     206  0.837398\n",
              "4              home_improvement   4076   19885  0.829890\n",
              "5                         house    434    1763  0.802458\n",
              "6                major_purchase   1442    7314  0.835313\n",
              "7                       medical    907    3268  0.782754\n",
              "8                        moving    667    2175  0.765306\n",
              "9                         other   4471   16588  0.787692\n",
              "10             renewable_energy     77     252  0.765957\n",
              "11               small_business   1664    3992  0.705799\n",
              "12                     vacation    463    1979  0.810401\n",
              "13                      wedding    217    1577  0.879041"
            ],
            "text/html": [
              "\n",
              "  <div id=\"df-8fea1e26-b797-4634-a44f-9773dc9012b3\" class=\"colab-df-container\">\n",
              "    <div>\n",
              "<style scoped>\n",
              "    .dataframe tbody tr th:only-of-type {\n",
              "        vertical-align: middle;\n",
              "    }\n",
              "\n",
              "    .dataframe tbody tr th {\n",
              "        vertical-align: top;\n",
              "    }\n",
              "\n",
              "    .dataframe thead th {\n",
              "        text-align: right;\n",
              "    }\n",
              "</style>\n",
              "<table border=\"1\" class=\"dataframe\">\n",
              "  <thead>\n",
              "    <tr style=\"text-align: right;\">\n",
              "      <th>loan_status</th>\n",
              "      <th>purpose</th>\n",
              "      <th>0</th>\n",
              "      <th>1</th>\n",
              "      <th>ratio</th>\n",
              "    </tr>\n",
              "  </thead>\n",
              "  <tbody>\n",
              "    <tr>\n",
              "      <th>0</th>\n",
              "      <td>car</td>\n",
              "      <td>628</td>\n",
              "      <td>4042</td>\n",
              "      <td>0.865525</td>\n",
              "    </tr>\n",
              "    <tr>\n",
              "      <th>1</th>\n",
              "      <td>credit_card</td>\n",
              "      <td>13864</td>\n",
              "      <td>69059</td>\n",
              "      <td>0.832809</td>\n",
              "    </tr>\n",
              "    <tr>\n",
              "      <th>2</th>\n",
              "      <td>debt_consolidation</td>\n",
              "      <td>48573</td>\n",
              "      <td>185596</td>\n",
              "      <td>0.792573</td>\n",
              "    </tr>\n",
              "    <tr>\n",
              "      <th>3</th>\n",
              "      <td>educational</td>\n",
              "      <td>40</td>\n",
              "      <td>206</td>\n",
              "      <td>0.837398</td>\n",
              "    </tr>\n",
              "    <tr>\n",
              "      <th>4</th>\n",
              "      <td>home_improvement</td>\n",
              "      <td>4076</td>\n",
              "      <td>19885</td>\n",
              "      <td>0.829890</td>\n",
              "    </tr>\n",
              "    <tr>\n",
              "      <th>5</th>\n",
              "      <td>house</td>\n",
              "      <td>434</td>\n",
              "      <td>1763</td>\n",
              "      <td>0.802458</td>\n",
              "    </tr>\n",
              "    <tr>\n",
              "      <th>6</th>\n",
              "      <td>major_purchase</td>\n",
              "      <td>1442</td>\n",
              "      <td>7314</td>\n",
              "      <td>0.835313</td>\n",
              "    </tr>\n",
              "    <tr>\n",
              "      <th>7</th>\n",
              "      <td>medical</td>\n",
              "      <td>907</td>\n",
              "      <td>3268</td>\n",
              "      <td>0.782754</td>\n",
              "    </tr>\n",
              "    <tr>\n",
              "      <th>8</th>\n",
              "      <td>moving</td>\n",
              "      <td>667</td>\n",
              "      <td>2175</td>\n",
              "      <td>0.765306</td>\n",
              "    </tr>\n",
              "    <tr>\n",
              "      <th>9</th>\n",
              "      <td>other</td>\n",
              "      <td>4471</td>\n",
              "      <td>16588</td>\n",
              "      <td>0.787692</td>\n",
              "    </tr>\n",
              "    <tr>\n",
              "      <th>10</th>\n",
              "      <td>renewable_energy</td>\n",
              "      <td>77</td>\n",
              "      <td>252</td>\n",
              "      <td>0.765957</td>\n",
              "    </tr>\n",
              "    <tr>\n",
              "      <th>11</th>\n",
              "      <td>small_business</td>\n",
              "      <td>1664</td>\n",
              "      <td>3992</td>\n",
              "      <td>0.705799</td>\n",
              "    </tr>\n",
              "    <tr>\n",
              "      <th>12</th>\n",
              "      <td>vacation</td>\n",
              "      <td>463</td>\n",
              "      <td>1979</td>\n",
              "      <td>0.810401</td>\n",
              "    </tr>\n",
              "    <tr>\n",
              "      <th>13</th>\n",
              "      <td>wedding</td>\n",
              "      <td>217</td>\n",
              "      <td>1577</td>\n",
              "      <td>0.879041</td>\n",
              "    </tr>\n",
              "  </tbody>\n",
              "</table>\n",
              "</div>\n",
              "    <div class=\"colab-df-buttons\">\n",
              "\n",
              "  <div class=\"colab-df-container\">\n",
              "    <button class=\"colab-df-convert\" onclick=\"convertToInteractive('df-8fea1e26-b797-4634-a44f-9773dc9012b3')\"\n",
              "            title=\"Convert this dataframe to an interactive table.\"\n",
              "            style=\"display:none;\">\n",
              "\n",
              "  <svg xmlns=\"http://www.w3.org/2000/svg\" height=\"24px\" viewBox=\"0 -960 960 960\">\n",
              "    <path d=\"M120-120v-720h720v720H120Zm60-500h600v-160H180v160Zm220 220h160v-160H400v160Zm0 220h160v-160H400v160ZM180-400h160v-160H180v160Zm440 0h160v-160H620v160ZM180-180h160v-160H180v160Zm440 0h160v-160H620v160Z\"/>\n",
              "  </svg>\n",
              "    </button>\n",
              "\n",
              "  <style>\n",
              "    .colab-df-container {\n",
              "      display:flex;\n",
              "      gap: 12px;\n",
              "    }\n",
              "\n",
              "    .colab-df-convert {\n",
              "      background-color: #E8F0FE;\n",
              "      border: none;\n",
              "      border-radius: 50%;\n",
              "      cursor: pointer;\n",
              "      display: none;\n",
              "      fill: #1967D2;\n",
              "      height: 32px;\n",
              "      padding: 0 0 0 0;\n",
              "      width: 32px;\n",
              "    }\n",
              "\n",
              "    .colab-df-convert:hover {\n",
              "      background-color: #E2EBFA;\n",
              "      box-shadow: 0px 1px 2px rgba(60, 64, 67, 0.3), 0px 1px 3px 1px rgba(60, 64, 67, 0.15);\n",
              "      fill: #174EA6;\n",
              "    }\n",
              "\n",
              "    .colab-df-buttons div {\n",
              "      margin-bottom: 4px;\n",
              "    }\n",
              "\n",
              "    [theme=dark] .colab-df-convert {\n",
              "      background-color: #3B4455;\n",
              "      fill: #D2E3FC;\n",
              "    }\n",
              "\n",
              "    [theme=dark] .colab-df-convert:hover {\n",
              "      background-color: #434B5C;\n",
              "      box-shadow: 0px 1px 3px 1px rgba(0, 0, 0, 0.15);\n",
              "      filter: drop-shadow(0px 1px 2px rgba(0, 0, 0, 0.3));\n",
              "      fill: #FFFFFF;\n",
              "    }\n",
              "  </style>\n",
              "\n",
              "    <script>\n",
              "      const buttonEl =\n",
              "        document.querySelector('#df-8fea1e26-b797-4634-a44f-9773dc9012b3 button.colab-df-convert');\n",
              "      buttonEl.style.display =\n",
              "        google.colab.kernel.accessAllowed ? 'block' : 'none';\n",
              "\n",
              "      async function convertToInteractive(key) {\n",
              "        const element = document.querySelector('#df-8fea1e26-b797-4634-a44f-9773dc9012b3');\n",
              "        const dataTable =\n",
              "          await google.colab.kernel.invokeFunction('convertToInteractive',\n",
              "                                                    [key], {});\n",
              "        if (!dataTable) return;\n",
              "\n",
              "        const docLinkHtml = 'Like what you see? Visit the ' +\n",
              "          '<a target=\"_blank\" href=https://colab.research.google.com/notebooks/data_table.ipynb>data table notebook</a>'\n",
              "          + ' to learn more about interactive tables.';\n",
              "        element.innerHTML = '';\n",
              "        dataTable['output_type'] = 'display_data';\n",
              "        await google.colab.output.renderOutput(dataTable, element);\n",
              "        const docLink = document.createElement('div');\n",
              "        docLink.innerHTML = docLinkHtml;\n",
              "        element.appendChild(docLink);\n",
              "      }\n",
              "    </script>\n",
              "  </div>\n",
              "\n",
              "\n",
              "<div id=\"df-36336abc-b6f7-4459-a58c-0ef3cc8b6fa6\">\n",
              "  <button class=\"colab-df-quickchart\" onclick=\"quickchart('df-36336abc-b6f7-4459-a58c-0ef3cc8b6fa6')\"\n",
              "            title=\"Suggest charts\"\n",
              "            style=\"display:none;\">\n",
              "\n",
              "<svg xmlns=\"http://www.w3.org/2000/svg\" height=\"24px\"viewBox=\"0 0 24 24\"\n",
              "     width=\"24px\">\n",
              "    <g>\n",
              "        <path d=\"M19 3H5c-1.1 0-2 .9-2 2v14c0 1.1.9 2 2 2h14c1.1 0 2-.9 2-2V5c0-1.1-.9-2-2-2zM9 17H7v-7h2v7zm4 0h-2V7h2v10zm4 0h-2v-4h2v4z\"/>\n",
              "    </g>\n",
              "</svg>\n",
              "  </button>\n",
              "\n",
              "<style>\n",
              "  .colab-df-quickchart {\n",
              "      --bg-color: #E8F0FE;\n",
              "      --fill-color: #1967D2;\n",
              "      --hover-bg-color: #E2EBFA;\n",
              "      --hover-fill-color: #174EA6;\n",
              "      --disabled-fill-color: #AAA;\n",
              "      --disabled-bg-color: #DDD;\n",
              "  }\n",
              "\n",
              "  [theme=dark] .colab-df-quickchart {\n",
              "      --bg-color: #3B4455;\n",
              "      --fill-color: #D2E3FC;\n",
              "      --hover-bg-color: #434B5C;\n",
              "      --hover-fill-color: #FFFFFF;\n",
              "      --disabled-bg-color: #3B4455;\n",
              "      --disabled-fill-color: #666;\n",
              "  }\n",
              "\n",
              "  .colab-df-quickchart {\n",
              "    background-color: var(--bg-color);\n",
              "    border: none;\n",
              "    border-radius: 50%;\n",
              "    cursor: pointer;\n",
              "    display: none;\n",
              "    fill: var(--fill-color);\n",
              "    height: 32px;\n",
              "    padding: 0;\n",
              "    width: 32px;\n",
              "  }\n",
              "\n",
              "  .colab-df-quickchart:hover {\n",
              "    background-color: var(--hover-bg-color);\n",
              "    box-shadow: 0 1px 2px rgba(60, 64, 67, 0.3), 0 1px 3px 1px rgba(60, 64, 67, 0.15);\n",
              "    fill: var(--button-hover-fill-color);\n",
              "  }\n",
              "\n",
              "  .colab-df-quickchart-complete:disabled,\n",
              "  .colab-df-quickchart-complete:disabled:hover {\n",
              "    background-color: var(--disabled-bg-color);\n",
              "    fill: var(--disabled-fill-color);\n",
              "    box-shadow: none;\n",
              "  }\n",
              "\n",
              "  .colab-df-spinner {\n",
              "    border: 2px solid var(--fill-color);\n",
              "    border-color: transparent;\n",
              "    border-bottom-color: var(--fill-color);\n",
              "    animation:\n",
              "      spin 1s steps(1) infinite;\n",
              "  }\n",
              "\n",
              "  @keyframes spin {\n",
              "    0% {\n",
              "      border-color: transparent;\n",
              "      border-bottom-color: var(--fill-color);\n",
              "      border-left-color: var(--fill-color);\n",
              "    }\n",
              "    20% {\n",
              "      border-color: transparent;\n",
              "      border-left-color: var(--fill-color);\n",
              "      border-top-color: var(--fill-color);\n",
              "    }\n",
              "    30% {\n",
              "      border-color: transparent;\n",
              "      border-left-color: var(--fill-color);\n",
              "      border-top-color: var(--fill-color);\n",
              "      border-right-color: var(--fill-color);\n",
              "    }\n",
              "    40% {\n",
              "      border-color: transparent;\n",
              "      border-right-color: var(--fill-color);\n",
              "      border-top-color: var(--fill-color);\n",
              "    }\n",
              "    60% {\n",
              "      border-color: transparent;\n",
              "      border-right-color: var(--fill-color);\n",
              "    }\n",
              "    80% {\n",
              "      border-color: transparent;\n",
              "      border-right-color: var(--fill-color);\n",
              "      border-bottom-color: var(--fill-color);\n",
              "    }\n",
              "    90% {\n",
              "      border-color: transparent;\n",
              "      border-bottom-color: var(--fill-color);\n",
              "    }\n",
              "  }\n",
              "</style>\n",
              "\n",
              "  <script>\n",
              "    async function quickchart(key) {\n",
              "      const quickchartButtonEl =\n",
              "        document.querySelector('#' + key + ' button');\n",
              "      quickchartButtonEl.disabled = true;  // To prevent multiple clicks.\n",
              "      quickchartButtonEl.classList.add('colab-df-spinner');\n",
              "      try {\n",
              "        const charts = await google.colab.kernel.invokeFunction(\n",
              "            'suggestCharts', [key], {});\n",
              "      } catch (error) {\n",
              "        console.error('Error during call to suggestCharts:', error);\n",
              "      }\n",
              "      quickchartButtonEl.classList.remove('colab-df-spinner');\n",
              "      quickchartButtonEl.classList.add('colab-df-quickchart-complete');\n",
              "    }\n",
              "    (() => {\n",
              "      let quickchartButtonEl =\n",
              "        document.querySelector('#df-36336abc-b6f7-4459-a58c-0ef3cc8b6fa6 button');\n",
              "      quickchartButtonEl.style.display =\n",
              "        google.colab.kernel.accessAllowed ? 'block' : 'none';\n",
              "    })();\n",
              "  </script>\n",
              "</div>\n",
              "\n",
              "  <div id=\"id_f14d0287-ed77-4073-af47-d99fd7d290e5\">\n",
              "    <style>\n",
              "      .colab-df-generate {\n",
              "        background-color: #E8F0FE;\n",
              "        border: none;\n",
              "        border-radius: 50%;\n",
              "        cursor: pointer;\n",
              "        display: none;\n",
              "        fill: #1967D2;\n",
              "        height: 32px;\n",
              "        padding: 0 0 0 0;\n",
              "        width: 32px;\n",
              "      }\n",
              "\n",
              "      .colab-df-generate:hover {\n",
              "        background-color: #E2EBFA;\n",
              "        box-shadow: 0px 1px 2px rgba(60, 64, 67, 0.3), 0px 1px 3px 1px rgba(60, 64, 67, 0.15);\n",
              "        fill: #174EA6;\n",
              "      }\n",
              "\n",
              "      [theme=dark] .colab-df-generate {\n",
              "        background-color: #3B4455;\n",
              "        fill: #D2E3FC;\n",
              "      }\n",
              "\n",
              "      [theme=dark] .colab-df-generate:hover {\n",
              "        background-color: #434B5C;\n",
              "        box-shadow: 0px 1px 3px 1px rgba(0, 0, 0, 0.15);\n",
              "        filter: drop-shadow(0px 1px 2px rgba(0, 0, 0, 0.3));\n",
              "        fill: #FFFFFF;\n",
              "      }\n",
              "    </style>\n",
              "    <button class=\"colab-df-generate\" onclick=\"generateWithVariable('pivot_table')\"\n",
              "            title=\"Generate code using this dataframe.\"\n",
              "            style=\"display:none;\">\n",
              "\n",
              "  <svg xmlns=\"http://www.w3.org/2000/svg\" height=\"24px\"viewBox=\"0 0 24 24\"\n",
              "       width=\"24px\">\n",
              "    <path d=\"M7,19H8.4L18.45,9,17,7.55,7,17.6ZM5,21V16.75L18.45,3.32a2,2,0,0,1,2.83,0l1.4,1.43a1.91,1.91,0,0,1,.58,1.4,1.91,1.91,0,0,1-.58,1.4L9.25,21ZM18.45,9,17,7.55Zm-12,3A5.31,5.31,0,0,0,4.9,8.1,5.31,5.31,0,0,0,1,6.5,5.31,5.31,0,0,0,4.9,4.9,5.31,5.31,0,0,0,6.5,1,5.31,5.31,0,0,0,8.1,4.9,5.31,5.31,0,0,0,12,6.5,5.46,5.46,0,0,0,6.5,12Z\"/>\n",
              "  </svg>\n",
              "    </button>\n",
              "    <script>\n",
              "      (() => {\n",
              "      const buttonEl =\n",
              "        document.querySelector('#id_f14d0287-ed77-4073-af47-d99fd7d290e5 button.colab-df-generate');\n",
              "      buttonEl.style.display =\n",
              "        google.colab.kernel.accessAllowed ? 'block' : 'none';\n",
              "\n",
              "      buttonEl.onclick = () => {\n",
              "        google.colab.notebook.generateWithVariable('pivot_table');\n",
              "      }\n",
              "      })();\n",
              "    </script>\n",
              "  </div>\n",
              "\n",
              "    </div>\n",
              "  </div>\n"
            ]
          },
          "metadata": {},
          "execution_count": 26
        }
      ]
    },
    {
      "cell_type": "code",
      "source": [
        "data.drop('purpose', axis=1, inplace=True)"
      ],
      "metadata": {
        "id": "oizLLb4Mlnsz"
      },
      "execution_count": 27,
      "outputs": []
    },
    {
      "cell_type": "markdown",
      "source": [
        "### ⑥ issue_d\n",
        "- 날짜 데이터로, 분석에 사용하지 않을 컬럼이기 때문에 삭제함"
      ],
      "metadata": {
        "id": "N7LSFep4mMOG"
      }
    },
    {
      "cell_type": "code",
      "source": [
        "data.drop('issue_d', axis=1, inplace=True)"
      ],
      "metadata": {
        "id": "Jxx8iLKimJnz"
      },
      "execution_count": 28,
      "outputs": []
    },
    {
      "cell_type": "markdown",
      "source": [
        "### ⑦ initial_list_status\n",
        "\n",
        "- purpose와 동일한 이유로 칼럼 삭제 결정"
      ],
      "metadata": {
        "id": "DR22cS31mVHv"
      }
    },
    {
      "cell_type": "code",
      "source": [
        "df = pd.DataFrame(data)\n",
        "\n",
        "# 'initial_list_status'와 'loan_status'에 대한 피벗 테이블 생성\n",
        "pivot_table = df.pivot_table(index='initial_list_status', columns='loan_status', aggfunc='size', fill_value=0)\n",
        "\n",
        "# 결과 확인\n",
        "pivot_table['ratio'] = pivot_table[1] / (pivot_table[0] + pivot_table[1])\n",
        "pivot_table\n",
        "\n",
        "data.drop('initial_list_status', axis=1, inplace=True)"
      ],
      "metadata": {
        "id": "NHLN77QlmTeK"
      },
      "execution_count": 29,
      "outputs": []
    },
    {
      "cell_type": "markdown",
      "source": [
        "### ⑧ application_type\n",
        "\n",
        "- application_type은 가중치 주기에는 기준이 모호함.\n",
        "- get_dummies로 원핫인코딩 진행"
      ],
      "metadata": {
        "id": "9uycIH8Emct6"
      }
    },
    {
      "cell_type": "code",
      "source": [
        "at_encoding = pd.get_dummies(data['application_type'])\n",
        "\n",
        "data = pd.concat([data,at_encoding], axis=1)\n",
        "\n",
        "data.drop('application_type', axis=1, inplace=True)"
      ],
      "metadata": {
        "id": "tGCFuCcFmafL"
      },
      "execution_count": 30,
      "outputs": []
    },
    {
      "cell_type": "markdown",
      "source": [
        "### ⑨ terms\n",
        "\n",
        "- 36 months, 60 months을 36, 60으로 변환"
      ],
      "metadata": {
        "id": "qZpIUiMvmkTF"
      }
    },
    {
      "cell_type": "code",
      "source": [
        "data['term'] = data['term'].apply(lambda x: int(x.split()[0]) if pd.notnull(x) else x)\n",
        "\n",
        "# 결과 출력\n",
        "print(data)"
      ],
      "metadata": {
        "colab": {
          "base_uri": "https://localhost:8080/"
        },
        "id": "GiK1kkZfmiDP",
        "outputId": "4d8135e9-d1b5-44bd-df27-5a687c95988e"
      },
      "execution_count": 31,
      "outputs": [
        {
          "output_type": "stream",
          "name": "stdout",
          "text": [
            "        loan_amnt  term  int_rate  installment  sub_grade  home_ownership  \\\n",
            "0         10000.0    36     11.44       329.48         26               0   \n",
            "1          8000.0    36     11.99       265.68         25               0   \n",
            "2         15600.0    36     10.49       506.97         27               0   \n",
            "3          7200.0    36      6.49       220.65         33               0   \n",
            "4         24375.0    60     17.27       609.33         20               0   \n",
            "...           ...   ...       ...          ...        ...             ...   \n",
            "396025    10000.0    60     10.99       217.38         26               0   \n",
            "396026    21000.0    36     12.29       700.42         24               0   \n",
            "396027     5000.0    36      9.99       161.32         29               0   \n",
            "396028    21000.0    60     15.31       503.02         23               0   \n",
            "396029     2000.0    36     13.61        67.98         23               0   \n",
            "\n",
            "        annual_inc  verification_status  loan_status    dti  open_acc  \\\n",
            "0         117000.0                    0            1  26.24      16.0   \n",
            "1          65000.0                    0            1  22.05      17.0   \n",
            "2          43057.0                    1            1  12.79      13.0   \n",
            "3          54000.0                    0            1   2.60       6.0   \n",
            "4          55000.0                    2            0  33.95      13.0   \n",
            "...            ...                  ...          ...    ...       ...   \n",
            "396025     40000.0                    1            1  15.63       6.0   \n",
            "396026    110000.0                    1            1  21.45       6.0   \n",
            "396027     56500.0                    2            1  17.56      15.0   \n",
            "396028     64000.0                    2            1  15.88       9.0   \n",
            "396029     42996.0                    2            1   8.32       3.0   \n",
            "\n",
            "        pub_rec  revol_bal  revol_util  total_acc  mort_acc  \\\n",
            "0           0.0    36369.0        41.8       25.0       0.0   \n",
            "1           0.0    20131.0        53.3       27.0       3.0   \n",
            "2           0.0    11987.0        92.2       26.0       0.0   \n",
            "3           0.0     5472.0        21.5       13.0       0.0   \n",
            "4           0.0    24584.0        69.8       43.0       1.0   \n",
            "...         ...        ...         ...        ...       ...   \n",
            "396025      0.0     1990.0        34.3       23.0       0.0   \n",
            "396026      0.0    43263.0        95.7        8.0       1.0   \n",
            "396027      0.0    32704.0        66.9       23.0       0.0   \n",
            "396028      0.0    15704.0        53.8       20.0       5.0   \n",
            "396029      0.0     4292.0        91.3       19.0       1.0   \n",
            "\n",
            "        pub_rec_bankruptcies  DIRECT_PAY  INDIVIDUAL  JOINT  \n",
            "0                        0.0           0           1      0  \n",
            "1                        0.0           0           1      0  \n",
            "2                        0.0           0           1      0  \n",
            "3                        0.0           0           1      0  \n",
            "4                        0.0           0           1      0  \n",
            "...                      ...         ...         ...    ...  \n",
            "396025                   0.0           0           1      0  \n",
            "396026                   0.0           0           1      0  \n",
            "396027                   0.0           0           1      0  \n",
            "396028                   0.0           0           1      0  \n",
            "396029                   0.0           0           1      0  \n",
            "\n",
            "[395219 rows x 20 columns]\n"
          ]
        }
      ]
    },
    {
      "cell_type": "markdown",
      "source": [
        "# 이상치 처리"
      ],
      "metadata": {
        "id": "IlJ6G2YImsWs"
      }
    },
    {
      "cell_type": "markdown",
      "source": [
        "## 1. 이상치 파악하기"
      ],
      "metadata": {
        "id": "5zcfB6kvmyh2"
      }
    },
    {
      "cell_type": "markdown",
      "source": [
        "### ① loan_amnt"
      ],
      "metadata": {
        "id": "ZA15pBNIm0p8"
      }
    },
    {
      "cell_type": "code",
      "source": [
        "Q1 = data['loan_amnt'].quantile(q=0.25)\n",
        "Q3 = data['loan_amnt'].quantile(q=0.75)\n",
        "\n",
        "IQR = Q3 - Q1\n",
        "\n",
        "upper = Q3 + 1.5*IQR\n",
        "lower = Q1 - 1.5*IQR\n",
        "\n",
        "import matplotlib.pyplot as plt\n",
        "\n",
        "fig, ax = plt.subplots(figsize=(5, 5))\n",
        "\n",
        "medianprops = {'linewidth':2, 'color':'r'}\n",
        "ax.boxplot(data['loan_amnt'], medianprops=medianprops)"
      ],
      "metadata": {
        "colab": {
          "base_uri": "https://localhost:8080/",
          "height": 0
        },
        "id": "V40HKB3hmpEj",
        "outputId": "c872c02e-db06-4408-93c6-a511b076edb1"
      },
      "execution_count": 32,
      "outputs": [
        {
          "output_type": "execute_result",
          "data": {
            "text/plain": [
              "{'whiskers': [<matplotlib.lines.Line2D at 0x7d5d85646050>,\n",
              "  <matplotlib.lines.Line2D at 0x7d5d856462f0>],\n",
              " 'caps': [<matplotlib.lines.Line2D at 0x7d5d85646590>,\n",
              "  <matplotlib.lines.Line2D at 0x7d5d85646830>],\n",
              " 'boxes': [<matplotlib.lines.Line2D at 0x7d5d85645db0>],\n",
              " 'medians': [<matplotlib.lines.Line2D at 0x7d5d85646ad0>],\n",
              " 'fliers': [<matplotlib.lines.Line2D at 0x7d5d85646d70>],\n",
              " 'means': []}"
            ]
          },
          "metadata": {},
          "execution_count": 32
        },
        {
          "output_type": "display_data",
          "data": {
            "text/plain": [
              "<Figure size 500x500 with 1 Axes>"
            ],
            "image/png": "[encoded data removed]"
          },
          "metadata": {}
        }
      ]
    },
    {
      "cell_type": "markdown",
      "source": [
        "### ② int_rate"
      ],
      "metadata": {
        "id": "rcQ1nNoZm6Aq"
      }
    },
    {
      "cell_type": "code",
      "source": [
        "Q1 = data['int_rate'].quantile(q=0.25)\n",
        "Q3 = data['int_rate'].quantile(q=0.75)\n",
        "\n",
        "IQR = Q3 - Q1\n",
        "\n",
        "upper = Q3 + 1.5*IQR\n",
        "lower = Q1 - 1.5*IQR\n",
        "\n",
        "import matplotlib.pyplot as plt\n",
        "\n",
        "fig, ax = plt.subplots(figsize=(5, 5))\n",
        "\n",
        "medianprops = {'linewidth':2, 'color':'r'}\n",
        "ax.boxplot(data['int_rate'], medianprops=medianprops)"
      ],
      "metadata": {
        "colab": {
          "base_uri": "https://localhost:8080/",
          "height": 0
        },
        "id": "nkaZWAySm3yP",
        "outputId": "1681daf8-d8ba-440b-8758-3192fb0e7c3c"
      },
      "execution_count": 33,
      "outputs": [
        {
          "output_type": "execute_result",
          "data": {
            "text/plain": [
              "{'whiskers': [<matplotlib.lines.Line2D at 0x7d5d8b9f6110>,\n",
              "  <matplotlib.lines.Line2D at 0x7d5d8b9f7790>],\n",
              " 'caps': [<matplotlib.lines.Line2D at 0x7d5d8b9f7a30>,\n",
              "  <matplotlib.lines.Line2D at 0x7d5d8b9f7cd0>],\n",
              " 'boxes': [<matplotlib.lines.Line2D at 0x7d5d8b9f7370>],\n",
              " 'medians': [<matplotlib.lines.Line2D at 0x7d5d8b9f7f70>],\n",
              " 'fliers': [<matplotlib.lines.Line2D at 0x7d5d8bad4250>],\n",
              " 'means': []}"
            ]
          },
          "metadata": {},
          "execution_count": 33
        },
        {
          "output_type": "display_data",
          "data": {
            "text/plain": [
              "<Figure size 500x500 with 1 Axes>"
            ],
            "image/png": "[encoded data removed]"
          },
          "metadata": {}
        }
      ]
    },
    {
      "cell_type": "markdown",
      "source": [
        "### ③ installment"
      ],
      "metadata": {
        "id": "sHsnvwWDm-fm"
      }
    },
    {
      "cell_type": "code",
      "source": [
        "Q1 = data['installment'].quantile(q=0.25)\n",
        "Q3 = data['installment'].quantile(q=0.75)\n",
        "\n",
        "IQR = Q3 - Q1\n",
        "\n",
        "upper = Q3 + 1.5*IQR\n",
        "lower = Q1 - 1.5*IQR\n",
        "\n",
        "import matplotlib.pyplot as plt\n",
        "\n",
        "fig, ax = plt.subplots(figsize=(5, 5))\n",
        "\n",
        "medianprops = {'linewidth':2, 'color':'r'}\n",
        "ax.boxplot(data['installment'], medianprops=medianprops)"
      ],
      "metadata": {
        "colab": {
          "base_uri": "https://localhost:8080/",
          "height": 0
        },
        "id": "ePEP44-Om87f",
        "outputId": "457a4821-a279-4454-ab50-80193076a618"
      },
      "execution_count": 34,
      "outputs": [
        {
          "output_type": "execute_result",
          "data": {
            "text/plain": [
              "{'whiskers': [<matplotlib.lines.Line2D at 0x7d5d8bb0a230>,\n",
              "  <matplotlib.lines.Line2D at 0x7d5d8bb0a4d0>],\n",
              " 'caps': [<matplotlib.lines.Line2D at 0x7d5d8bb0a770>,\n",
              "  <matplotlib.lines.Line2D at 0x7d5d8bb0aa10>],\n",
              " 'boxes': [<matplotlib.lines.Line2D at 0x7d5d8bb08f10>],\n",
              " 'medians': [<matplotlib.lines.Line2D at 0x7d5d8bb0acb0>],\n",
              " 'fliers': [<matplotlib.lines.Line2D at 0x7d5d8bb0af50>],\n",
              " 'means': []}"
            ]
          },
          "metadata": {},
          "execution_count": 34
        },
        {
          "output_type": "display_data",
          "data": {
            "text/plain": [
              "<Figure size 500x500 with 1 Axes>"
            ],
            "image/png": "[encoded data removed]"
          },
          "metadata": {}
        }
      ]
    },
    {
      "cell_type": "markdown",
      "source": [
        "### ④ annual_inc"
      ],
      "metadata": {
        "id": "WF9MFVzanDCv"
      }
    },
    {
      "cell_type": "code",
      "source": [
        "import numpy as np\n",
        "\n",
        "Q1 = data['annual_inc'].quantile(q=0.25)\n",
        "Q3 = data['annual_inc'].quantile(q=0.75)\n",
        "\n",
        "IQR = Q3 - Q1\n",
        "\n",
        "upper = Q3 + (1.5*IQR)\n",
        "lower = Q1 - (1.5*IQR)\n",
        "\n",
        "data.loc[(data['annual_inc']>upper) | (data['annual_inc']<lower)]\n",
        "\n",
        "fig, ax = plt.subplots(figsize=(5, 5))\n",
        "\n",
        "medianprops = {'linewidth':1, 'color':'r'}\n",
        "ax.boxplot(data['annual_inc'], medianprops=medianprops)"
      ],
      "metadata": {
        "colab": {
          "base_uri": "https://localhost:8080/",
          "height": 0
        },
        "id": "96FVHJOxnBnv",
        "outputId": "48968066-3849-4d45-e11f-d31d34568566"
      },
      "execution_count": 35,
      "outputs": [
        {
          "output_type": "execute_result",
          "data": {
            "text/plain": [
              "{'whiskers': [<matplotlib.lines.Line2D at 0x7d5d8bb9aec0>,\n",
              "  <matplotlib.lines.Line2D at 0x7d5d8bb9b160>],\n",
              " 'caps': [<matplotlib.lines.Line2D at 0x7d5d8bb98070>,\n",
              "  <matplotlib.lines.Line2D at 0x7d5d8bb9b580>],\n",
              " 'boxes': [<matplotlib.lines.Line2D at 0x7d5d8bb9ac20>],\n",
              " 'medians': [<matplotlib.lines.Line2D at 0x7d5d8bb9b820>],\n",
              " 'fliers': [<matplotlib.lines.Line2D at 0x7d5d8bb9bac0>],\n",
              " 'means': []}"
            ]
          },
          "metadata": {},
          "execution_count": 35
        },
        {
          "output_type": "display_data",
          "data": {
            "text/plain": [
              "<Figure size 500x500 with 1 Axes>"
            ],
            "image/png": "[encoded data removed]"
          },
          "metadata": {}
        }
      ]
    },
    {
      "cell_type": "markdown",
      "source": [
        "### ⑤ dti"
      ],
      "metadata": {
        "id": "nPdX37HynR0d"
      }
    },
    {
      "cell_type": "code",
      "source": [
        "Q1 = data['dti'].quantile(q=0.25)\n",
        "Q3 = data['dti'].quantile(q=0.75)\n",
        "\n",
        "IQR = Q3 - Q1\n",
        "\n",
        "upper = Q3 + (1.5*IQR)\n",
        "lower = Q1 - (1.5*IQR)\n",
        "\n",
        "data.loc[(data['dti']>upper) | (data['dti']<lower)]\n",
        "\n",
        "import matplotlib.pyplot as plt\n",
        "\n",
        "fig, ax = plt.subplots(figsize=(5, 5))\n",
        "\n",
        "medianprops = {'linewidth':1, 'color':'r'}\n",
        "ax.boxplot(data['dti'], medianprops=medianprops)"
      ],
      "metadata": {
        "colab": {
          "base_uri": "https://localhost:8080/",
          "height": 0
        },
        "id": "PVXfvODAnG2y",
        "outputId": "686b3bae-2735-416e-feda-17bcdb4d79d3"
      },
      "execution_count": 36,
      "outputs": [
        {
          "output_type": "execute_result",
          "data": {
            "text/plain": [
              "{'whiskers': [<matplotlib.lines.Line2D at 0x7d5d84934fd0>,\n",
              "  <matplotlib.lines.Line2D at 0x7d5d84935270>],\n",
              " 'caps': [<matplotlib.lines.Line2D at 0x7d5d84935510>,\n",
              "  <matplotlib.lines.Line2D at 0x7d5d849357b0>],\n",
              " 'boxes': [<matplotlib.lines.Line2D at 0x7d5d84934d30>],\n",
              " 'medians': [<matplotlib.lines.Line2D at 0x7d5d84935a50>],\n",
              " 'fliers': [<matplotlib.lines.Line2D at 0x7d5d84935cf0>],\n",
              " 'means': []}"
            ]
          },
          "metadata": {},
          "execution_count": 36
        },
        {
          "output_type": "display_data",
          "data": {
            "text/plain": [
              "<Figure size 500x500 with 1 Axes>"
            ],
            "image/png": "[encoded data removed]"
          },
          "metadata": {}
        }
      ]
    },
    {
      "cell_type": "markdown",
      "source": [
        "### ⑥ open_acc"
      ],
      "metadata": {
        "id": "kJGLUzEWnYUM"
      }
    },
    {
      "cell_type": "code",
      "source": [
        "Q1 = data['open_acc'].quantile(q=0.25)\n",
        "Q3 = data['open_acc'].quantile(q=0.75)\n",
        "\n",
        "IQR = Q3 - Q1\n",
        "\n",
        "upper = Q3 + (1.5*IQR)\n",
        "lower = Q1 - (1.5*IQR)\n",
        "\n",
        "data.loc[(data['open_acc']>upper) | (data['open_acc']<lower)]\n",
        "\n",
        "import matplotlib.pyplot as plt\n",
        "\n",
        "fig, ax = plt.subplots(figsize=(5, 5))\n",
        "\n",
        "medianprops = {'linewidth':2, 'color':'r'}\n",
        "ax.boxplot(data['open_acc'], medianprops=medianprops)"
      ],
      "metadata": {
        "colab": {
          "base_uri": "https://localhost:8080/",
          "height": 0
        },
        "id": "0H--3BbZnWIh",
        "outputId": "1a20df24-e91a-4f2e-bc1e-45e0d3444385"
      },
      "execution_count": 37,
      "outputs": [
        {
          "output_type": "execute_result",
          "data": {
            "text/plain": [
              "{'whiskers': [<matplotlib.lines.Line2D at 0x7d5d848fbd00>,\n",
              "  <matplotlib.lines.Line2D at 0x7d5d848fbfa0>],\n",
              " 'caps': [<matplotlib.lines.Line2D at 0x7d5d848cc280>,\n",
              "  <matplotlib.lines.Line2D at 0x7d5d848cc520>],\n",
              " 'boxes': [<matplotlib.lines.Line2D at 0x7d5d848fba60>],\n",
              " 'medians': [<matplotlib.lines.Line2D at 0x7d5d848cc7c0>],\n",
              " 'fliers': [<matplotlib.lines.Line2D at 0x7d5d848cca60>],\n",
              " 'means': []}"
            ]
          },
          "metadata": {},
          "execution_count": 37
        },
        {
          "output_type": "display_data",
          "data": {
            "text/plain": [
              "<Figure size 500x500 with 1 Axes>"
            ],
            "image/png": "[encoded data removed]"
          },
          "metadata": {}
        }
      ]
    },
    {
      "cell_type": "markdown",
      "source": [
        "### ⑦ pub_rec"
      ],
      "metadata": {
        "id": "UbvqF3Sgnd8x"
      }
    },
    {
      "cell_type": "code",
      "source": [
        "Q1 = data['pub_rec'].quantile(q=0.25)\n",
        "Q3 = data['pub_rec'].quantile(q=0.75)\n",
        "\n",
        "IQR = Q3 - Q1\n",
        "\n",
        "upper = Q3 + 1.5*IQR\n",
        "lower = Q1 - 1.5*IQR\n",
        "\n",
        "import matplotlib.pyplot as plt\n",
        "\n",
        "fig, ax = plt.subplots(figsize=(5, 5))\n",
        "\n",
        "medianprops = {'linewidth':2, 'color':'r'}\n",
        "ax.boxplot(data['pub_rec'], medianprops=medianprops)"
      ],
      "metadata": {
        "colab": {
          "base_uri": "https://localhost:8080/",
          "height": 0
        },
        "id": "yEJEqScLncIF",
        "outputId": "5f5edebc-7c5e-448d-9430-7aaeb0863862"
      },
      "execution_count": 38,
      "outputs": [
        {
          "output_type": "execute_result",
          "data": {
            "text/plain": [
              "{'whiskers': [<matplotlib.lines.Line2D at 0x7d5d84940dc0>,\n",
              "  <matplotlib.lines.Line2D at 0x7d5d84942440>],\n",
              " 'caps': [<matplotlib.lines.Line2D at 0x7d5d849426e0>,\n",
              "  <matplotlib.lines.Line2D at 0x7d5d84942980>],\n",
              " 'boxes': [<matplotlib.lines.Line2D at 0x7d5d84942020>],\n",
              " 'medians': [<matplotlib.lines.Line2D at 0x7d5d84942c20>],\n",
              " 'fliers': [<matplotlib.lines.Line2D at 0x7d5d84942ec0>],\n",
              " 'means': []}"
            ]
          },
          "metadata": {},
          "execution_count": 38
        },
        {
          "output_type": "display_data",
          "data": {
            "text/plain": [
              "<Figure size 500x500 with 1 Axes>"
            ],
            "image/png": "[encoded data removed]"
          },
          "metadata": {}
        }
      ]
    },
    {
      "cell_type": "markdown",
      "source": [
        "### ⑧ revol_bal"
      ],
      "metadata": {
        "id": "Q0H5CnVFnj-R"
      }
    },
    {
      "cell_type": "code",
      "source": [
        "Q1 = data['revol_bal'].quantile(q=0.25)\n",
        "Q3 = data['revol_bal'].quantile(q=0.75)\n",
        "\n",
        "IQR = Q3 - Q1\n",
        "\n",
        "upper = Q3 + 1.5*IQR\n",
        "lower = Q1 - 1.5*IQR\n",
        "\n",
        "import matplotlib.pyplot as plt\n",
        "\n",
        "fig, ax = plt.subplots(figsize=(5, 5))\n",
        "\n",
        "medianprops = {'linewidth':2, 'color':'r'}\n",
        "ax.boxplot(data['revol_bal'], medianprops=medianprops)"
      ],
      "metadata": {
        "colab": {
          "base_uri": "https://localhost:8080/",
          "height": 0
        },
        "id": "eTSwX2HLnh_O",
        "outputId": "9bf4cea0-bef2-4341-a6a1-54e08cc289af"
      },
      "execution_count": 39,
      "outputs": [
        {
          "output_type": "execute_result",
          "data": {
            "text/plain": [
              "{'whiskers': [<matplotlib.lines.Line2D at 0x7d5d85198910>,\n",
              "  <matplotlib.lines.Line2D at 0x7d5d85198bb0>],\n",
              " 'caps': [<matplotlib.lines.Line2D at 0x7d5d85198e80>,\n",
              "  <matplotlib.lines.Line2D at 0x7d5d85199120>],\n",
              " 'boxes': [<matplotlib.lines.Line2D at 0x7d5d85198670>],\n",
              " 'medians': [<matplotlib.lines.Line2D at 0x7d5d851993c0>],\n",
              " 'fliers': [<matplotlib.lines.Line2D at 0x7d5d85199660>],\n",
              " 'means': []}"
            ]
          },
          "metadata": {},
          "execution_count": 39
        },
        {
          "output_type": "display_data",
          "data": {
            "text/plain": [
              "<Figure size 500x500 with 1 Axes>"
            ],
            "image/png": "[encoded data removed]"
          },
          "metadata": {}
        }
      ]
    },
    {
      "cell_type": "markdown",
      "source": [
        "### ⑨ revol_util"
      ],
      "metadata": {
        "id": "IMBXW9BEno0G"
      }
    },
    {
      "cell_type": "code",
      "source": [
        "Q1 = data['revol_util'].quantile(q=0.25)\n",
        "Q3 = data['revol_util'].quantile(q=0.75)\n",
        "\n",
        "IQR = Q3 - Q1\n",
        "\n",
        "upper = Q3 + 1.5*IQR\n",
        "lower = Q1 - 1.5*IQR\n",
        "\n",
        "import matplotlib.pyplot as plt\n",
        "\n",
        "fig, ax = plt.subplots(figsize=(5, 5))\n",
        "\n",
        "medianprops = {'linewidth':2, 'color':'r'}\n",
        "ax.boxplot(data['revol_util'], medianprops=medianprops)"
      ],
      "metadata": {
        "colab": {
          "base_uri": "https://localhost:8080/",
          "height": 0
        },
        "id": "8c3KgEounnl1",
        "outputId": "d1d6c43f-5f1a-45c9-f367-a68d53a23c28"
      },
      "execution_count": 40,
      "outputs": [
        {
          "output_type": "execute_result",
          "data": {
            "text/plain": [
              "{'whiskers': [<matplotlib.lines.Line2D at 0x7d5d851248e0>,\n",
              "  <matplotlib.lines.Line2D at 0x7d5d85124a60>],\n",
              " 'caps': [<matplotlib.lines.Line2D at 0x7d5d85124d00>,\n",
              "  <matplotlib.lines.Line2D at 0x7d5d85124fa0>],\n",
              " 'boxes': [<matplotlib.lines.Line2D at 0x7d5d85124640>],\n",
              " 'medians': [<matplotlib.lines.Line2D at 0x7d5d85125240>],\n",
              " 'fliers': [<matplotlib.lines.Line2D at 0x7d5d851254e0>],\n",
              " 'means': []}"
            ]
          },
          "metadata": {},
          "execution_count": 40
        },
        {
          "output_type": "display_data",
          "data": {
            "text/plain": [
              "<Figure size 500x500 with 1 Axes>"
            ],
            "image/png": "[encoded data removed]"
          },
          "metadata": {}
        }
      ]
    },
    {
      "cell_type": "markdown",
      "source": [
        "### ⑩ total_acc"
      ],
      "metadata": {
        "id": "cUM14jzxnu7B"
      }
    },
    {
      "cell_type": "code",
      "source": [
        "Q1 = data['total_acc'].quantile(q=0.25)\n",
        "Q3 = data['total_acc'].quantile(q=0.75)\n",
        "\n",
        "IQR = Q3 - Q1\n",
        "\n",
        "upper = Q3 + 1.5*IQR\n",
        "lower = Q1 - 1.5*IQR\n",
        "\n",
        "data.loc[(data['total_acc']>upper) | (data['total_acc']<lower)]\n",
        "\n",
        "fig, ax = plt.subplots(figsize=(5, 5))\n",
        "\n",
        "medianprops = {'linewidth':2, 'color':'r'}\n",
        "ax.boxplot(data['total_acc'], medianprops=medianprops)"
      ],
      "metadata": {
        "colab": {
          "base_uri": "https://localhost:8080/",
          "height": 0
        },
        "id": "BH-2dSFgns6e",
        "outputId": "37da6227-6b2b-48dd-9bb0-ea6ff1c916b7"
      },
      "execution_count": 41,
      "outputs": [
        {
          "output_type": "execute_result",
          "data": {
            "text/plain": [
              "{'whiskers': [<matplotlib.lines.Line2D at 0x7d5d850ceef0>,\n",
              "  <matplotlib.lines.Line2D at 0x7d5d850cf190>],\n",
              " 'caps': [<matplotlib.lines.Line2D at 0x7d5d850cf430>,\n",
              "  <matplotlib.lines.Line2D at 0x7d5d850cf6d0>],\n",
              " 'boxes': [<matplotlib.lines.Line2D at 0x7d5d850ce9b0>],\n",
              " 'medians': [<matplotlib.lines.Line2D at 0x7d5d850cf970>],\n",
              " 'fliers': [<matplotlib.lines.Line2D at 0x7d5d850cfc10>],\n",
              " 'means': []}"
            ]
          },
          "metadata": {},
          "execution_count": 41
        },
        {
          "output_type": "display_data",
          "data": {
            "text/plain": [
              "<Figure size 500x500 with 1 Axes>"
            ],
            "image/png": "[encoded data removed]"
          },
          "metadata": {}
        }
      ]
    },
    {
      "cell_type": "markdown",
      "source": [
        "### ⑪ mort_acc"
      ],
      "metadata": {
        "id": "Up97gfXHn2yR"
      }
    },
    {
      "cell_type": "code",
      "source": [
        "Q1 = data['mort_acc'].quantile(q=0.25)\n",
        "Q3 = data['mort_acc'].quantile(q=0.75)\n",
        "\n",
        "IQR = Q3 - Q1\n",
        "\n",
        "upper = Q3 + 1.5*IQR\n",
        "lower = Q1 - 1.5*IQR\n",
        "\n",
        "data.loc[(data['mort_acc']>upper) | (data['mort_acc']<lower)]\n",
        "\n",
        "fig, ax = plt.subplots(figsize=(5, 5))\n",
        "\n",
        "medianprops = {'linewidth':2, 'color':'r'}\n",
        "ax.boxplot(data['mort_acc'], medianprops=medianprops)"
      ],
      "metadata": {
        "colab": {
          "base_uri": "https://localhost:8080/",
          "height": 0
        },
        "id": "iPq7BmLAn1Ej",
        "outputId": "24293a8a-ce6e-4ab7-da25-fdd62c0a0a04"
      },
      "execution_count": 42,
      "outputs": [
        {
          "output_type": "execute_result",
          "data": {
            "text/plain": [
              "{'whiskers': [<matplotlib.lines.Line2D at 0x7d5d85447130>,\n",
              "  <matplotlib.lines.Line2D at 0x7d5d854472b0>],\n",
              " 'caps': [<matplotlib.lines.Line2D at 0x7d5d85447550>,\n",
              "  <matplotlib.lines.Line2D at 0x7d5d854477f0>],\n",
              " 'boxes': [<matplotlib.lines.Line2D at 0x7d5d85446e90>],\n",
              " 'medians': [<matplotlib.lines.Line2D at 0x7d5d85447a90>],\n",
              " 'fliers': [<matplotlib.lines.Line2D at 0x7d5d85447d30>],\n",
              " 'means': []}"
            ]
          },
          "metadata": {},
          "execution_count": 42
        },
        {
          "output_type": "display_data",
          "data": {
            "text/plain": [
              "<Figure size 500x500 with 1 Axes>"
            ],
            "image/png": "[encoded data removed]"
          },
          "metadata": {}
        }
      ]
    },
    {
      "cell_type": "markdown",
      "source": [
        "### ⑫ pub_rec_bank"
      ],
      "metadata": {
        "id": "Aj5ozO0Yn7nm"
      }
    },
    {
      "cell_type": "code",
      "source": [
        "Q1 = data['pub_rec_bankruptcies'].quantile(q=0.25)\n",
        "Q3 = data['pub_rec_bankruptcies'].quantile(q=0.75)\n",
        "\n",
        "IQR = Q3 - Q1\n",
        "\n",
        "upper = Q3 + 1.5*IQR\n",
        "lower = Q1 - 1.5*IQR\n",
        "\n",
        "data.loc[(data['pub_rec_bankruptcies']>upper) | (data['pub_rec_bankruptcies']<lower)]\n",
        "\n",
        "fig, ax = plt.subplots(figsize=(5, 5))\n",
        "\n",
        "medianprops = {'linewidth':2, 'color':'r'}\n",
        "ax.boxplot(data['pub_rec_bankruptcies'], medianprops=medianprops)"
      ],
      "metadata": {
        "colab": {
          "base_uri": "https://localhost:8080/",
          "height": 0
        },
        "id": "dlRU0V5fn6R2",
        "outputId": "f9352a5e-ece5-4abe-9db6-d3dc5f7f1684"
      },
      "execution_count": 43,
      "outputs": [
        {
          "output_type": "execute_result",
          "data": {
            "text/plain": [
              "{'whiskers': [<matplotlib.lines.Line2D at 0x7d5d853db340>,\n",
              "  <matplotlib.lines.Line2D at 0x7d5d853db5e0>],\n",
              " 'caps': [<matplotlib.lines.Line2D at 0x7d5d853db880>,\n",
              "  <matplotlib.lines.Line2D at 0x7d5d853dbb20>],\n",
              " 'boxes': [<matplotlib.lines.Line2D at 0x7d5d853db0a0>],\n",
              " 'medians': [<matplotlib.lines.Line2D at 0x7d5d853dbdc0>],\n",
              " 'fliers': [<matplotlib.lines.Line2D at 0x7d5d853a40a0>],\n",
              " 'means': []}"
            ]
          },
          "metadata": {},
          "execution_count": 43
        },
        {
          "output_type": "display_data",
          "data": {
            "text/plain": [
              "<Figure size 500x500 with 1 Axes>"
            ],
            "image/png": "[encoded data removed]"
          },
          "metadata": {}
        }
      ]
    },
    {
      "cell_type": "markdown",
      "source": [
        "## 2. 이상치 제거하기"
      ],
      "metadata": {
        "id": "H9tWG-14oA_D"
      }
    },
    {
      "cell_type": "markdown",
      "source": [
        "### ① dti → 맨 위에 두 개 제거"
      ],
      "metadata": {
        "id": "tep9V10YoI-U"
      }
    },
    {
      "cell_type": "code",
      "source": [
        "Q1 = data['dti'].quantile(q=0.25)\n",
        "Q3 = data['dti'].quantile(q=0.75)\n",
        "\n",
        "IQR = Q3 - Q1\n",
        "\n",
        "upper = Q3 + (1.5*IQR)\n",
        "lower = Q1 - (1.5*IQR)\n",
        "\n",
        "outliers = data.loc[(data['dti']>upper) | (data['dti']<lower), 'dti'].sort_values(ascending=False).head(2).index\n",
        "\n",
        "data = data.drop(outliers).reset_index(drop=True)\n",
        "\n",
        "import matplotlib.pyplot as plt\n",
        "\n",
        "fig, ax = plt.subplots(figsize=(5, 5))\n",
        "\n",
        "medianprops = {'linewidth':1, 'color':'r'}\n",
        "ax.boxplot(data['dti'], medianprops=medianprops)"
      ],
      "metadata": {
        "colab": {
          "base_uri": "https://localhost:8080/",
          "height": 0
        },
        "id": "mfIUs-PLn_Dw",
        "outputId": "e1774449-9989-490b-bead-56cd4a41a5e8"
      },
      "execution_count": 44,
      "outputs": [
        {
          "output_type": "execute_result",
          "data": {
            "text/plain": [
              "{'whiskers': [<matplotlib.lines.Line2D at 0x7d5d6d158550>,\n",
              "  <matplotlib.lines.Line2D at 0x7d5d6d1587f0>],\n",
              " 'caps': [<matplotlib.lines.Line2D at 0x7d5d6d158a90>,\n",
              "  <matplotlib.lines.Line2D at 0x7d5d6d158d30>],\n",
              " 'boxes': [<matplotlib.lines.Line2D at 0x7d5d6d1582b0>],\n",
              " 'medians': [<matplotlib.lines.Line2D at 0x7d5d6d158fd0>],\n",
              " 'fliers': [<matplotlib.lines.Line2D at 0x7d5d6d159270>],\n",
              " 'means': []}"
            ]
          },
          "metadata": {},
          "execution_count": 44
        },
        {
          "output_type": "display_data",
          "data": {
            "text/plain": [
              "<Figure size 500x500 with 1 Axes>"
            ],
            "image/png": "[encoded data removed]"
          },
          "metadata": {}
        }
      ]
    },
    {
      "cell_type": "markdown",
      "source": [
        "### ② open_acc → 맨 위에 두 개 제거"
      ],
      "metadata": {
        "id": "TUcOKvz3oNUK"
      }
    },
    {
      "cell_type": "code",
      "source": [
        "Q1 = data['open_acc'].quantile(q=0.25)\n",
        "Q3 = data['open_acc'].quantile(q=0.75)\n",
        "\n",
        "IQR = Q3 - Q1\n",
        "\n",
        "upper = Q3 + (1.5*IQR)\n",
        "lower = Q1 - (1.5*IQR)\n",
        "\n",
        "#이상치 값 정의\n",
        "outliers = data.loc[(data['open_acc']>upper) | (data['open_acc']<lower)]\n",
        "\n",
        "#open_acc 열 값에 대한 내림차순 정렬 후 상위 2개 선택\n",
        "top_outliers = outliers.sort_values(by='open_acc', ascending=False).head(2)\n",
        "top_outliers['open_acc']\n",
        "\n",
        "#해당 이상치를 가지고 있는 행만 삭제\n",
        "data = data.drop(top_outliers.index)\n",
        "\n",
        "#결과 출력\n",
        "print(data['open_acc'].sort_values())\n",
        "\n",
        "#다시 시각화하고 확인\n",
        "import matplotlib.pyplot as plt\n",
        "fig, ax = plt.subplots(figsize=(5, 5))\n",
        "medianprops = {'linewidth':2, 'color':'r'}\n",
        "ax.boxplot(data['open_acc'], medianprops=medianprops)"
      ],
      "metadata": {
        "colab": {
          "base_uri": "https://localhost:8080/",
          "height": 0
        },
        "id": "jKWnhjFmoMhy",
        "outputId": "c2fdf81e-bdd0-4276-94ae-3c0f540f8107"
      },
      "execution_count": 45,
      "outputs": [
        {
          "output_type": "stream",
          "name": "stdout",
          "text": [
            "107383     1.0\n",
            "74612      1.0\n",
            "192947     1.0\n",
            "192953     1.0\n",
            "314541     1.0\n",
            "          ... \n",
            "127201    56.0\n",
            "133820    56.0\n",
            "53225     57.0\n",
            "72618     58.0\n",
            "272508    76.0\n",
            "Name: open_acc, Length: 395215, dtype: float64\n"
          ]
        },
        {
          "output_type": "execute_result",
          "data": {
            "text/plain": [
              "{'whiskers': [<matplotlib.lines.Line2D at 0x7d5d84ea8130>,\n",
              "  <matplotlib.lines.Line2D at 0x7d5d84ea83d0>],\n",
              " 'caps': [<matplotlib.lines.Line2D at 0x7d5d84ea8670>,\n",
              "  <matplotlib.lines.Line2D at 0x7d5d84ea8910>],\n",
              " 'boxes': [<matplotlib.lines.Line2D at 0x7d5d6d107e50>],\n",
              " 'medians': [<matplotlib.lines.Line2D at 0x7d5d6d1805e0>],\n",
              " 'fliers': [<matplotlib.lines.Line2D at 0x7d5d84ea89d0>],\n",
              " 'means': []}"
            ]
          },
          "metadata": {},
          "execution_count": 45
        },
        {
          "output_type": "display_data",
          "data": {
            "text/plain": [
              "<Figure size 500x500 with 1 Axes>"
            ],
            "image/png": "[encoded data removed]"
          },
          "metadata": {}
        }
      ]
    },
    {
      "cell_type": "markdown",
      "source": [
        "### ③ pub_rec  → 맨 위에 두 개 제거"
      ],
      "metadata": {
        "id": "DZP5qjPNoS8n"
      }
    },
    {
      "cell_type": "code",
      "source": [
        "Q1 = data['pub_rec'].quantile(q=0.25)\n",
        "Q3 = data['pub_rec'].quantile(q=0.75)\n",
        "\n",
        "IQR = Q3 - Q1\n",
        "\n",
        "upper = Q3 + 1.5*IQR\n",
        "lower = Q1 - 1.5*IQR\n",
        "\n",
        "#이상치 값 정의\n",
        "outliers = data.loc[(data['pub_rec']>upper) | (data['pub_rec']<lower)]\n",
        "\n",
        "#open_acc 열 값에 대한 내림차순 정렬 후 상위 2개 선택\n",
        "top_outliers = outliers.sort_values(by='pub_rec', ascending=False).head(2)\n",
        "top_outliers['pub_rec']\n",
        "\n",
        "#해당 이상치를 가지고 있는 행만 삭제\n",
        "data = data.drop(top_outliers.index)\n",
        "\n",
        "#결과 출력\n",
        "print(data['pub_rec'].sort_values())\n",
        "\n",
        "fig, ax = plt.subplots(figsize=(5, 5))\n",
        "\n",
        "medianprops = {'linewidth':2, 'color':'r'}\n",
        "ax.boxplot(data['pub_rec'], medianprops=medianprops)"
      ],
      "metadata": {
        "colab": {
          "base_uri": "https://localhost:8080/",
          "height": 0
        },
        "id": "iz0G9ozYoRbC",
        "outputId": "39cf01ec-1977-4a51-f53e-b8557a11c493"
      },
      "execution_count": 46,
      "outputs": [
        {
          "output_type": "stream",
          "name": "stdout",
          "text": [
            "0          0.0\n",
            "253201     0.0\n",
            "253200     0.0\n",
            "253199     0.0\n",
            "253198     0.0\n",
            "          ... \n",
            "355477    15.0\n",
            "150400    17.0\n",
            "58094     19.0\n",
            "111973    19.0\n",
            "252254    24.0\n",
            "Name: pub_rec, Length: 395213, dtype: float64\n"
          ]
        },
        {
          "output_type": "execute_result",
          "data": {
            "text/plain": [
              "{'whiskers': [<matplotlib.lines.Line2D at 0x7d5d84f53d60>,\n",
              "  <matplotlib.lines.Line2D at 0x7d5d84f24040>],\n",
              " 'caps': [<matplotlib.lines.Line2D at 0x7d5d84f242e0>,\n",
              "  <matplotlib.lines.Line2D at 0x7d5d84f24580>],\n",
              " 'boxes': [<matplotlib.lines.Line2D at 0x7d5d84f53ac0>],\n",
              " 'medians': [<matplotlib.lines.Line2D at 0x7d5d84f24820>],\n",
              " 'fliers': [<matplotlib.lines.Line2D at 0x7d5d84f24ac0>],\n",
              " 'means': []}"
            ]
          },
          "metadata": {},
          "execution_count": 46
        },
        {
          "output_type": "display_data",
          "data": {
            "text/plain": [
              "<Figure size 500x500 with 1 Axes>"
            ],
            "image/png": "[encoded data removed]"
          },
          "metadata": {}
        }
      ]
    },
    {
      "cell_type": "markdown",
      "source": [
        "### ④ revol_bal → 맨 위에 하나 제거"
      ],
      "metadata": {
        "id": "OfVSfStyo5EQ"
      }
    },
    {
      "cell_type": "code",
      "source": [
        "#이상치 값 정의\n",
        "outliers = data.loc[(data['revol_bal']>upper) | (data['revol_bal']<lower)]\n",
        "\n",
        "#open_acc 열 값에 대한 내림차순 정렬 후 상위 2개 선택\n",
        "top_outliers = outliers.sort_values(by='revol_bal', ascending=False).head(1)\n",
        "top_outliers['revol_bal']\n",
        "\n",
        "#해당 이상치를 가지고 있는 행만 삭제\n",
        "data = data.drop(top_outliers.index)\n",
        "\n",
        "#결과 출력\n",
        "print(data['revol_bal'].sort_values())\n",
        "\n",
        "#다시 시각화하고 확인\n",
        "import matplotlib.pyplot as plt\n",
        "\n",
        "fig, ax = plt.subplots(figsize=(5, 5))\n",
        "\n",
        "medianprops = {'linewidth':2, 'color':'r'}\n",
        "ax.boxplot(data['revol_bal'], medianprops=medianprops)"
      ],
      "metadata": {
        "colab": {
          "base_uri": "https://localhost:8080/",
          "height": 0
        },
        "id": "7p8eTBjPoWKG",
        "outputId": "4acf71af-3078-483c-edb9-195c1a81f3c0"
      },
      "execution_count": 47,
      "outputs": [
        {
          "output_type": "stream",
          "name": "stdout",
          "text": [
            "353404          0.0\n",
            "56935           0.0\n",
            "15995           0.0\n",
            "386051          0.0\n",
            "332957          0.0\n",
            "            ...    \n",
            "308212     975800.0\n",
            "254776    1023940.0\n",
            "119215    1030826.0\n",
            "53470     1190046.0\n",
            "243642    1298783.0\n",
            "Name: revol_bal, Length: 395212, dtype: float64\n"
          ]
        },
        {
          "output_type": "execute_result",
          "data": {
            "text/plain": [
              "{'whiskers': [<matplotlib.lines.Line2D at 0x7d5d84ee2530>,\n",
              "  <matplotlib.lines.Line2D at 0x7d5d84ee27d0>],\n",
              " 'caps': [<matplotlib.lines.Line2D at 0x7d5d84ee2a70>,\n",
              "  <matplotlib.lines.Line2D at 0x7d5d84ee2d10>],\n",
              " 'boxes': [<matplotlib.lines.Line2D at 0x7d5d84ee09d0>],\n",
              " 'medians': [<matplotlib.lines.Line2D at 0x7d5d84ee2fb0>],\n",
              " 'fliers': [<matplotlib.lines.Line2D at 0x7d5d84ee3250>],\n",
              " 'means': []}"
            ]
          },
          "metadata": {},
          "execution_count": 47
        },
        {
          "output_type": "display_data",
          "data": {
            "text/plain": [
              "<Figure size 500x500 with 1 Axes>"
            ],
            "image/png": "[encoded data removed]"
          },
          "metadata": {}
        }
      ]
    },
    {
      "cell_type": "markdown",
      "source": [
        "### ⑤ revol_util → 맨 위에 1개 없애기"
      ],
      "metadata": {
        "id": "rN3EiB90o__O"
      }
    },
    {
      "cell_type": "code",
      "source": [
        "#이상치 값 정의\n",
        "outliers = data.loc[(data['revol_util']>upper) | (data['revol_util']<lower)]\n",
        "\n",
        "#open_acc 열 값에 대한 내림차순 정렬 후 상위 2개 선택\n",
        "top_outliers = outliers.sort_values(by='revol_util', ascending=False).head(1)\n",
        "top_outliers['revol_util']\n",
        "\n",
        "#해당 이상치를 가지고 있는 행만 삭제\n",
        "data = data.drop(top_outliers.index)\n",
        "\n",
        "#결과 출력\n",
        "print(data['revol_util'].sort_values())\n",
        "\n",
        "#다시 시각화하고 확인\n",
        "import matplotlib.pyplot as plt\n",
        "\n",
        "fig, ax = plt.subplots(figsize=(5, 5))\n",
        "\n",
        "medianprops = {'linewidth':2, 'color':'r'}\n",
        "ax.boxplot(data['revol_util'], medianprops=medianprops)"
      ],
      "metadata": {
        "colab": {
          "base_uri": "https://localhost:8080/",
          "height": 0
        },
        "id": "uiUqHulMo-uu",
        "outputId": "9e6ad2cf-7146-4429-b06a-287bd04954c7"
      },
      "execution_count": 48,
      "outputs": [
        {
          "output_type": "stream",
          "name": "stdout",
          "text": [
            "108541      0.0\n",
            "377299      0.0\n",
            "14847       0.0\n",
            "89194       0.0\n",
            "310211      0.0\n",
            "          ...  \n",
            "164776    146.1\n",
            "349604    148.0\n",
            "65563     150.7\n",
            "82451     152.5\n",
            "328358    153.0\n",
            "Name: revol_util, Length: 395211, dtype: float64\n"
          ]
        },
        {
          "output_type": "execute_result",
          "data": {
            "text/plain": [
              "{'whiskers': [<matplotlib.lines.Line2D at 0x7d5d84b562c0>,\n",
              "  <matplotlib.lines.Line2D at 0x7d5d84b56560>],\n",
              " 'caps': [<matplotlib.lines.Line2D at 0x7d5d84b56800>,\n",
              "  <matplotlib.lines.Line2D at 0x7d5d84b56aa0>],\n",
              " 'boxes': [<matplotlib.lines.Line2D at 0x7d5d84b56020>],\n",
              " 'medians': [<matplotlib.lines.Line2D at 0x7d5d84b56d40>],\n",
              " 'fliers': [<matplotlib.lines.Line2D at 0x7d5d84b56fe0>],\n",
              " 'means': []}"
            ]
          },
          "metadata": {},
          "execution_count": 48
        },
        {
          "output_type": "display_data",
          "data": {
            "text/plain": [
              "<Figure size 500x500 with 1 Axes>"
            ],
            "image/png": "[encoded data removed]"
          },
          "metadata": {}
        }
      ]
    },
    {
      "cell_type": "markdown",
      "source": [
        "# 상관관계 분석"
      ],
      "metadata": {
        "id": "-tWRx_8npI8h"
      }
    },
    {
      "cell_type": "code",
      "source": [
        "import seaborn as sns\n",
        "import matplotlib.pyplot as plt\n",
        "\n",
        "# 데이터프레임의 상관계수 계산\n",
        "correlation_matrix = data.corr()\n",
        "\n",
        "# 히트맵 그리기\n",
        "plt.figure(figsize=(12, 10))\n",
        "sns.heatmap(correlation_matrix, annot=True, cmap='Blues', linewidths=.5)\n",
        "plt.title('Correlation Heatmap')\n",
        "plt.show()"
      ],
      "metadata": {
        "colab": {
          "base_uri": "https://localhost:8080/",
          "height": 0
        },
        "id": "G7XqrVvipFWM",
        "outputId": "2748f48f-a375-4bcf-8980-cce3b33a65d1"
      },
      "execution_count": 49,
      "outputs": [
        {
          "output_type": "display_data",
          "data": {
            "text/plain": [
              "<Figure size 1200x1000 with 2 Axes>"
            ],
            "image/png": "[encoded data removed]"
          },
          "metadata": {}
        }
      ]
    },
    {
      "cell_type": "markdown",
      "source": [
        "# 모델링"
      ],
      "metadata": {
        "id": "nSoNpCKlpSXb"
      }
    },
    {
      "cell_type": "markdown",
      "source": [
        "## 1. 데이터 분리"
      ],
      "metadata": {
        "id": "Du9yTQjhpYGO"
      }
    },
    {
      "cell_type": "code",
      "source": [
        "test = data.drop('loan_status', axis=1)\n",
        "s = int(len(test) * 0.8)\n",
        "\n",
        "X_train = test.iloc[:s]\n",
        "X_test = test.iloc[s:]\n",
        "\n",
        "y_train = data['loan_status'].iloc[:s]\n",
        "y_test = data['loan_status'].iloc[s:]"
      ],
      "metadata": {
        "id": "TInX9_9UpN8E"
      },
      "execution_count": 50,
      "outputs": []
    },
    {
      "cell_type": "code",
      "source": [
        "from sklearn.model_selection import train_test_split\n",
        "X_tr, X_val, y_tr, y_val = train_test_split(X_train[COL_NUM+COL_CAT],\n",
        "\t\t\t\t\t\t\t                         y_train.values.ravel(),\n",
        "\t\t\t\t\t\t\t\t                       test_size=0.3,\n",
        "\t\t\t\t\t\t\t                         stratify=y_train.values.ravel())"
      ],
      "metadata": {
        "id": "1XpDNG8tpVBn"
      },
      "execution_count": 51,
      "outputs": []
    },
    {
      "cell_type": "markdown",
      "source": [
        "## 2. 수치형 변수 스케일링"
      ],
      "metadata": {
        "id": "dWOFllDIpaSK"
      }
    },
    {
      "cell_type": "code",
      "source": [
        "from sklearn.preprocessing import StandardScaler\n",
        "scaler = StandardScaler()\n",
        "scaler.fit(X_tr[COL_NUM])\n",
        "\n",
        "X_tr[COL_NUM] = scaler.transform(X_tr[COL_NUM])\n",
        "X_val[COL_NUM] = scaler.transform(X_val[COL_NUM])\n",
        "X_test[COL_NUM] = scaler.transform(X_test[COL_NUM])"
      ],
      "metadata": {
        "colab": {
          "base_uri": "https://localhost:8080/"
        },
        "id": "xWb1Bm1tpWSd",
        "outputId": "cef6bf86-8c76-4a07-fec1-408549570742"
      },
      "execution_count": 52,
      "outputs": [
        {
          "output_type": "stream",
          "name": "stderr",
          "text": [
            "<ipython-input-52-894467aa0314>:7: SettingWithCopyWarning: \n",
            "A value is trying to be set on a copy of a slice from a DataFrame.\n",
            "Try using .loc[row_indexer,col_indexer] = value instead\n",
            "\n",
            "See the caveats in the documentation: https://pandas.pydata.org/pandas-docs/stable/user_guide/indexing.html#returning-a-view-versus-a-copy\n",
            "  X_test[COL_NUM] = scaler.transform(X_test[COL_NUM])\n"
          ]
        }
      ]
    },
    {
      "cell_type": "markdown",
      "source": [
        "## 3. 모델 적용"
      ],
      "metadata": {
        "id": "jY5esmCJpfxq"
      }
    },
    {
      "cell_type": "markdown",
      "source": [
        "### ① XGBoost"
      ],
      "metadata": {
        "id": "LKk1nsOMphv8"
      }
    },
    {
      "cell_type": "code",
      "source": [
        "from xgboost import XGBClassifier\n",
        "from sklearn.metrics import accuracy_score, precision_score, recall_score, confusion_matrix, f1_score\n",
        "\n",
        "modelXGB = XGBClassifier()\n",
        "modelXGB.fit(X_tr, y_tr)\n",
        "\n",
        "#예측 데이터 정의하기\n",
        "y_val_pred = modelXGB.predict(X_val)\n",
        "\n",
        "# 혼동 행렬 계산\n",
        "confusion = confusion_matrix(y_val, y_val_pred)\n",
        "print('Confusion Matrix:\\n', confusion)\n",
        "print('-'*50)\n",
        "\n",
        "#정확도 계산\n",
        "accuracy = accuracy_score(y_val, y_val_pred)\n",
        "print('Accuracy:', accuracy)\n",
        "\n",
        "#정밀도 계산\n",
        "precision = precision_score(y_val, y_val_pred, average='macro')\n",
        "print('Precision:', precision)\n",
        "\n",
        "# 재현율 계산\n",
        "recall = recall_score(y_val, y_val_pred, average='macro')\n",
        "print('Recall:', recall)\n",
        "\n",
        "f1 = f1_score(y_val, y_val_pred, average='macro')\n",
        "print('f1:', f1)"
      ],
      "metadata": {
        "colab": {
          "base_uri": "https://localhost:8080/"
        },
        "id": "WP7z16HapdvL",
        "outputId": "bdcdcf8c-0f98-4524-96b5-1c48fe399dca"
      },
      "execution_count": 53,
      "outputs": [
        {
          "output_type": "stream",
          "name": "stdout",
          "text": [
            "Confusion Matrix:\n",
            " [[ 1727 16857]\n",
            " [ 1489 74778]]\n",
            "--------------------------------------------------\n",
            "Accuracy: 0.8065808478561112\n",
            "Precision: 0.6765221964738429\n",
            "Recall: 0.5367029427836336\n",
            "f1: 0.5245871237251875\n"
          ]
        }
      ]
    },
    {
      "cell_type": "markdown",
      "source": [
        "### ② Random Forest"
      ],
      "metadata": {
        "id": "lMOWNqiIpp5A"
      }
    },
    {
      "cell_type": "code",
      "source": [
        "from sklearn.ensemble import RandomForestClassifier\n",
        "from sklearn.metrics import accuracy_score, precision_score, recall_score, confusion_matrix, f1_score\n",
        "\n",
        "modelRF = RandomForestClassifier(random_state=123)\n",
        "modelRF.fit(X_tr, y_tr)\n",
        "\n",
        "y_val_pred = modelRF.predict(X_val)\n",
        "\n",
        "# 혼동 행렬 계산\n",
        "confusion = confusion_matrix(y_val, y_val_pred)\n",
        "print('Confusion Matrix:\\n', confusion)\n",
        "print('-'*50)\n",
        "\n",
        "#정확도 계산\n",
        "accuracy = accuracy_score(y_val, y_val_pred)\n",
        "print('Accuracy:', accuracy)\n",
        "\n",
        "#정밀도 계산\n",
        "precision = precision_score(y_val, y_val_pred, average='macro')\n",
        "print('Precision:', precision)\n",
        "\n",
        "# 재현율 계산\n",
        "recall = recall_score(y_val, y_val_pred, average='macro')\n",
        "print('Recall:', recall)\n",
        "\n",
        "f1 = f1_score(y_val, y_val_pred, average='macro')\n",
        "print('f1:', f1)\n"
      ],
      "metadata": {
        "colab": {
          "base_uri": "https://localhost:8080/"
        },
        "id": "BRqXHplppn6-",
        "outputId": "34397e04-ad2e-4667-be1f-9e29c2925bd6"
      },
      "execution_count": 54,
      "outputs": [
        {
          "output_type": "stream",
          "name": "stdout",
          "text": [
            "Confusion Matrix:\n",
            " [[ 1687 16897]\n",
            " [ 1525 74742]]\n",
            "--------------------------------------------------\n",
            "Accuracy: 0.805779591148222\n",
            "Precision: 0.6704156862224433\n",
            "Recall: 0.5353907352531654\n",
            "f1: 0.5225414474965442\n"
          ]
        }
      ]
    },
    {
      "cell_type": "markdown",
      "source": [
        "### ③ Logistic Regressor"
      ],
      "metadata": {
        "id": "KmQRcNbWp0b7"
      }
    },
    {
      "cell_type": "code",
      "source": [
        "from sklearn.linear_model import LogisticRegression\n",
        "model = LogisticRegression(random_state=123)\n",
        "model.fit(X_tr, y_tr)\n",
        "\n",
        "y_val_pred = model.predict(X_val)\n",
        "\n",
        "# 성능 평가\n",
        "# 혼동 행렬 계산\n",
        "confusion = confusion_matrix(y_val, y_val_pred)\n",
        "print('Confusion Matrix:\\n', confusion)\n",
        "print('-'*50)\n",
        "\n",
        "#정확도 계산\n",
        "accuracy = accuracy_score(y_val, y_val_pred)\n",
        "print('Accuracy:', accuracy)\n",
        "\n",
        "#정밀도 계산\n",
        "precision = precision_score(y_val, y_val_pred, average='macro')\n",
        "print('Precision:', precision)\n",
        "\n",
        "# 재현율 계산\n",
        "recall = recall_score(y_val, y_val_pred, average='macro')\n",
        "print('Recall:', recall)\n",
        "\n",
        "f1 = f1_score(y_val, y_val_pred, average='macro')\n",
        "print('f1:', f1)"
      ],
      "metadata": {
        "colab": {
          "base_uri": "https://localhost:8080/"
        },
        "id": "UenN-M3kp_NM",
        "outputId": "e569837b-6bab-4b0b-ffa3-939e506cfa72"
      },
      "execution_count": 55,
      "outputs": [
        {
          "output_type": "stream",
          "name": "stderr",
          "text": [
            "/usr/local/lib/python3.10/dist-packages/sklearn/linear_model/_logistic.py:458: ConvergenceWarning: lbfgs failed to converge (status=1):\n",
            "STOP: TOTAL NO. of ITERATIONS REACHED LIMIT.\n",
            "\n",
            "Increase the number of iterations (max_iter) or scale the data as shown in:\n",
            "    https://scikit-learn.org/stable/modules/preprocessing.html\n",
            "Please also refer to the documentation for alternative solver options:\n",
            "    https://scikit-learn.org/stable/modules/linear_model.html#logistic-regression\n",
            "  n_iter_i = _check_optimize_result(\n"
          ]
        },
        {
          "output_type": "stream",
          "name": "stdout",
          "text": [
            "Confusion Matrix:\n",
            " [[ 1404 17180]\n",
            " [ 1339 74928]]\n",
            "--------------------------------------------------\n",
            "Accuracy: 0.8047569345605212\n",
            "Precision: 0.6626640846300973\n",
            "Recall: 0.5289960588929705\n",
            "f1: 0.5108387254025059\n"
          ]
        }
      ]
    },
    {
      "cell_type": "markdown",
      "source": [
        "### ④ KNN"
      ],
      "metadata": {
        "id": "NlvXU7sqp3vu"
      }
    },
    {
      "cell_type": "code",
      "source": [
        "from sklearn.neighbors import KNeighborsClassifier\n",
        "from sklearn.metrics import classification_report\n",
        "\n",
        "modelKNN = KNeighborsClassifier()\n",
        "modelKNN.fit(X_tr, y_tr)\n",
        "\n",
        "y_val_pred=modelKNN.predict(X_val)\n",
        "print(classification_report(y_val, y_val_pred))\n",
        "\n",
        "confusion = confusion_matrix(y_val,y_val_pred)\n",
        "print('Confusion Matrix:\\n', confusion)\n",
        "print('-'*50)\n",
        "#정확도 계산\n",
        "accuracy = accuracy_score(y_val, y_val_pred)\n",
        "print('Accuracy:', accuracy)\n",
        "\n",
        "#정밀도 계산\n",
        "precision = precision_score(y_val, y_val_pred, average='macro')\n",
        "print('Precision:', precision)\n",
        "\n",
        "# 재현율 계산\n",
        "recall = recall_score(y_val, y_val_pred, average='macro')\n",
        "print('Recall:', recall)\n",
        "\n",
        "f1 = f1_score(y_val, y_val_pred, average='macro')\n",
        "print('f1:', f1)"
      ],
      "metadata": {
        "colab": {
          "base_uri": "https://localhost:8080/"
        },
        "id": "LnMEhwbMqUuS",
        "outputId": "9e69120e-cf87-427e-fea6-76589216a96f"
      },
      "execution_count": 56,
      "outputs": [
        {
          "output_type": "stream",
          "name": "stdout",
          "text": [
            "              precision    recall  f1-score   support\n",
            "\n",
            "           0       0.36      0.17      0.23     18584\n",
            "           1       0.82      0.93      0.87     76267\n",
            "\n",
            "    accuracy                           0.78     94851\n",
            "   macro avg       0.59      0.55      0.55     94851\n",
            "weighted avg       0.73      0.78      0.74     94851\n",
            "\n",
            "Confusion Matrix:\n",
            " [[ 3075 15509]\n",
            " [ 5479 70788]]\n",
            "--------------------------------------------------\n",
            "Accuracy: 0.7787266344055414\n",
            "Precision: 0.589882192168051\n",
            "Recall: 0.5468125975382913\n",
            "f1: 0.5487567125929248\n"
          ]
        }
      ]
    },
    {
      "cell_type": "markdown",
      "source": [
        "### ⑤ Naive Bayes"
      ],
      "metadata": {
        "id": "TWu56kHPp7kl"
      }
    },
    {
      "cell_type": "code",
      "source": [
        "from sklearn.naive_bayes import BernoulliNB\n",
        "from sklearn.metrics import accuracy_score, precision_score, recall_score, confusion_matrix, f1_score\n",
        "\n",
        "# BernoulliNB 모델 생성\n",
        "model_BernoulliNB = BernoulliNB()\n",
        "\n",
        "# 학습 데이터에 모델 훈련\n",
        "model_BernoulliNB.fit(X_tr, y_tr)\n",
        "\n",
        "# 검증 데이터 예측\n",
        "y_val_pred = model_BernoulliNB.predict(X_val)\n",
        "\n",
        "# 혼동 행렬 계산\n",
        "confusion = confusion_matrix(y_val, y_val_pred)\n",
        "print('Confusion Matrix:\\n', confusion)\n",
        "print('-'*50)\n",
        "\n",
        "# 정확도 계산\n",
        "accuracy = accuracy_score(y_val, y_val_pred)\n",
        "print('Accuracy:', accuracy)\n",
        "\n",
        "# 정밀도 계산\n",
        "precision = precision_score(y_val, y_val_pred, average='macro')\n",
        "print('Precision:', precision)\n",
        "\n",
        "# 재현율 계산\n",
        "recall = recall_score(y_val, y_val_pred, average='macro')\n",
        "print('Recall:', recall)\n",
        "\n",
        "# F1 점수 계산\n",
        "f1 = f1_score(y_val, y_val_pred, average='macro')\n",
        "print('F1 Score:', f1)"
      ],
      "metadata": {
        "colab": {
          "base_uri": "https://localhost:8080/"
        },
        "id": "eEzatrUzpwbk",
        "outputId": "e3850e59-7675-4b0a-bb69-8ab704470fe3"
      },
      "execution_count": 57,
      "outputs": [
        {
          "output_type": "stream",
          "name": "stdout",
          "text": [
            "Confusion Matrix:\n",
            " [[ 3360 15224]\n",
            " [ 4583 71684]]\n",
            "--------------------------------------------------\n",
            "Accuracy: 0.7911777419320829\n",
            "Precision: 0.623920113809002\n",
            "Recall: 0.5603545840927551\n",
            "F1 Score: 0.5659708915116587\n"
          ]
        }
      ]
    },
    {
      "cell_type": "markdown",
      "source": [
        "## 4. 오버샘플링"
      ],
      "metadata": {
        "id": "0MGpjVr7rdSf"
      }
    },
    {
      "cell_type": "code",
      "source": [
        "from sklearn.model_selection import train_test_split\n",
        "from sklearn.utils import resample\n",
        "\n",
        "\n",
        "# 클래스 별로 샘플 수 계산\n",
        "\n",
        "#2 = 체납\n",
        "minority_class = data[data['loan_status'] == 0]\n",
        "#1 = 완납\n",
        "majority_class = data[data['loan_status'] == 1]\n",
        "\n",
        "print(\"Minority class samples:\", len(minority_class))\n",
        "print(\"Majority class samples:\", len(majority_class))\n",
        "\n",
        "\n",
        "# 적절한 비율로 오버샘플링 수행\n",
        "minority_class_oversampled = resample(minority_class,\n",
        "                                      replace=True,\n",
        "                                      n_samples=len(majority_class),\n",
        "                                      random_state=42)\n",
        "\n",
        "# 오버샘플링된 데이터를 기존 데이터와 합치기\n",
        "data_oversampled = pd.concat([majority_class, minority_class_oversampled])\n",
        "\n",
        "# train_test_split을 사용하여 데이터 분할\n",
        "X = data_oversampled.drop('loan_status', axis=1)  # Features\n",
        "y = data_oversampled['loan_status']  # Target variable\n",
        "\n",
        "X_tr, X_val, y_tr, y_val = train_test_split(X, y, test_size=0.2, random_state=42)\n",
        "\n",
        "print(X_tr.shape)\n",
        "print(y_tr.shape)"
      ],
      "metadata": {
        "colab": {
          "base_uri": "https://localhost:8080/"
        },
        "id": "jUKkWqFzrj5H",
        "outputId": "93dc3a74-76bb-40ea-a7e4-8a4f80b29916"
      },
      "execution_count": 58,
      "outputs": [
        {
          "output_type": "stream",
          "name": "stdout",
          "text": [
            "Minority class samples: 77519\n",
            "Majority class samples: 317692\n",
            "(508307, 19)\n",
            "(508307,)\n"
          ]
        }
      ]
    },
    {
      "cell_type": "markdown",
      "source": [
        "## 5. 최종 모델 선정"
      ],
      "metadata": {
        "id": "LV3Sp5-wr424"
      }
    },
    {
      "cell_type": "code",
      "source": [
        "from sklearn.ensemble import RandomForestClassifier\n",
        "modelRF = RandomForestClassifier(random_state=123)\n",
        "modelRF.fit(X_tr, y_tr)\n",
        "\n",
        "y_val_predRF = modelRF.predict(X_val)\n",
        "\n",
        "from sklearn.metrics import confusion_matrix, recall_score, accuracy_score, precision_score\n",
        "# 혼동 행렬 계산\n",
        "confusion = confusion_matrix(y_val, y_val_predRF)\n",
        "print('Confusion Matrix:\\n', confusion)\n",
        "print('-'*50)\n",
        "\n",
        "#정확도 계산\n",
        "accuracy = accuracy_score(y_val, y_val_predRF)\n",
        "print('Accuracy:', accuracy)\n",
        "\n",
        "#정밀도 계산\n",
        "precision = precision_score(y_val, y_val_predRF, average='macro')\n",
        "print('Precision:', precision)\n",
        "\n",
        "# 재현율 계산\n",
        "recall = recall_score(y_val, y_val_predRF, average='macro')\n",
        "print('Recall:', recall)"
      ],
      "metadata": {
        "colab": {
          "base_uri": "https://localhost:8080/"
        },
        "id": "r_EJFJ1Kr1PD",
        "outputId": "348f4c04-50ba-463e-d1b4-6725b5963840"
      },
      "execution_count": 59,
      "outputs": [
        {
          "output_type": "stream",
          "name": "stdout",
          "text": [
            "Confusion Matrix:\n",
            " [[61936  1722]\n",
            " [ 5167 58252]]\n",
            "--------------------------------------------------\n",
            "Accuracy: 0.9457887737356091\n",
            "Precision: 0.9471432648359008\n",
            "Recall: 0.945737595530139\n"
          ]
        }
      ]
    },
    {
      "cell_type": "markdown",
      "source": [
        "# 모델을 기반으로 1인 평균 손실, 이익, 기회비용 구하기"
      ],
      "metadata": {
        "id": "7dX9x-v_sBLV"
      }
    },
    {
      "cell_type": "markdown",
      "source": [
        "## 1. 1인 평균 손실"
      ],
      "metadata": {
        "id": "qfw69goisGqh"
      }
    },
    {
      "cell_type": "code",
      "source": [
        "#Charged_off인 사람들의 amnt 꺼내기\n",
        "co_people = data[data['loan_status']==0]['loan_amnt']\n",
        "print(co_people)\n",
        "print('-'*80)\n",
        "\n",
        "#선별된 사람들의 평균 구하기\n",
        "co_people_mean = co_people.mean()\n",
        "print(co_people_mean)"
      ],
      "metadata": {
        "colab": {
          "base_uri": "https://localhost:8080/"
        },
        "id": "tsP0vGitr3sj",
        "outputId": "e0084ebb-51e8-48f2-d559-6a3ad509ec10"
      },
      "execution_count": 60,
      "outputs": [
        {
          "output_type": "stream",
          "name": "stdout",
          "text": [
            "4         24375.0\n",
            "25         6000.0\n",
            "26         8400.0\n",
            "36         3250.0\n",
            "41        28000.0\n",
            "           ...   \n",
            "395187    10000.0\n",
            "395188    15000.0\n",
            "395189    17500.0\n",
            "395198    13000.0\n",
            "395200     9575.0\n",
            "Name: loan_amnt, Length: 77519, dtype: float64\n",
            "--------------------------------------------------------------------------------\n",
            "15132.90741624634\n"
          ]
        }
      ]
    },
    {
      "cell_type": "markdown",
      "source": [
        "## 2. 추정이익, 추정손실, 전체 이익 구하기"
      ],
      "metadata": {
        "id": "6wmrVCRHswJI"
      }
    },
    {
      "cell_type": "code",
      "source": [
        "true_positives = confusion[1, 1]\n",
        "false_negatives = confusion[1, 0]\n",
        "false_positives = confusion[0, 1]\n",
        "\n",
        "co_people_mean = co_people.mean()\n",
        "gain = true_positives * co_people_mean\n",
        "loss = false_negatives * co_people_mean\n",
        "total_gain = gain - loss\n",
        "opportunity_cost = false_positives * co_people_mean\n",
        "\n",
        "print('True Positives:', true_positives)\n",
        "print(\"False Negatives:\", false_negatives)\n",
        "print('False Positives: ', false_positives)\n",
        "print('Charged_off 클래스의 대출 평균 금액:', co_people_mean)\n",
        "print('추정 이익:', gain)\n",
        "print('추정 손실:', loss)\n",
        "print('추정 전체 이익:', total_gain)\n",
        "print('추정 기회 비용: ', opportunity_cost)"
      ],
      "metadata": {
        "colab": {
          "base_uri": "https://localhost:8080/"
        },
        "id": "R1HdlKBLssm_",
        "outputId": "423d4694-2e4d-4094-89f7-004d91b377db"
      },
      "execution_count": 63,
      "outputs": [
        {
          "output_type": "stream",
          "name": "stdout",
          "text": [
            "True Positives: 58252\n",
            "False Negatives: 5167\n",
            "False Positives:  1722\n",
            "Charged_off 클래스의 대출 평균 금액: 15132.90741624634\n",
            "추정 이익: 881522122.8111818\n",
            "추정 손실: 78191732.61974484\n",
            "추정 전체 이익: 803330390.191437\n",
            "추정 기회 비용:  26058866.570776198\n"
          ]
        }
      ]
    }
  ]
}
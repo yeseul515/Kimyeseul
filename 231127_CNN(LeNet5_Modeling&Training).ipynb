{
  "nbformat": 4,
  "nbformat_minor": 0,
  "metadata": {
    "colab": {
      "provenance": [],
      "gpuType": "T4",
      "authorship_tag": "ABX9TyO0l5YjVTOLV9ocWSEqXh3O",
      "include_colab_link": true
    },
    "kernelspec": {
      "name": "python3",
      "display_name": "Python 3"
    },
    "language_info": {
      "name": "python"
    },
    "accelerator": "GPU"
  },
  "cells": [
    {
      "cell_type": "markdown",
      "metadata": {
        "id": "view-in-github",
        "colab_type": "text"
      },
      "source": [
        "<a href=\"https://colab.research.google.com/github/yeseul515/sessac_test2/blob/self-study/231127_CNN(LeNet5_Modeling%26Training).ipynb\" target=\"_parent\"><img src=\"https://colab.research.google.com/assets/colab-badge.svg\" alt=\"Open In Colab\"/></a>"
      ]
    },
    {
      "cell_type": "markdown",
      "source": [
        "# Convolutional Neural Networks"
      ],
      "metadata": {
        "id": "u6b_MXWETnwi"
      }
    },
    {
      "cell_type": "markdown",
      "source": [
        "## Training LeNet"
      ],
      "metadata": {
        "id": "hI4hl5VpTtVk"
      }
    },
    {
      "cell_type": "code",
      "execution_count": 12,
      "metadata": {
        "colab": {
          "base_uri": "https://localhost:8080/"
        },
        "id": "M3UDKyA6TIk2",
        "outputId": "84860738-e86b-4fb8-96b5-8f99c9d4328d"
      },
      "outputs": [
        {
          "output_type": "stream",
          "name": "stderr",
          "text": [
            "100%|██████████| 1875/1875 [00:11<00:00, 169.54it/s]\n"
          ]
        },
        {
          "output_type": "stream",
          "name": "stdout",
          "text": [
            "Epoch: 1\n",
            "Loss:  2.2024, Acc:  0.3583\n"
          ]
        },
        {
          "output_type": "stream",
          "name": "stderr",
          "text": [
            "100%|██████████| 1875/1875 [00:10<00:00, 174.90it/s]\n"
          ]
        },
        {
          "output_type": "stream",
          "name": "stdout",
          "text": [
            "Epoch: 2\n",
            "Loss:  1.1583, Acc:  0.7117\n"
          ]
        },
        {
          "output_type": "stream",
          "name": "stderr",
          "text": [
            "100%|██████████| 1875/1875 [00:10<00:00, 175.19it/s]\n"
          ]
        },
        {
          "output_type": "stream",
          "name": "stdout",
          "text": [
            "Epoch: 3\n",
            "Loss:  0.5750, Acc:  0.8512\n"
          ]
        },
        {
          "output_type": "stream",
          "name": "stderr",
          "text": [
            "100%|██████████| 1875/1875 [00:12<00:00, 155.40it/s]\n"
          ]
        },
        {
          "output_type": "stream",
          "name": "stdout",
          "text": [
            "Epoch: 4\n",
            "Loss:  0.4306, Acc:  0.8819\n"
          ]
        },
        {
          "output_type": "stream",
          "name": "stderr",
          "text": [
            "100%|██████████| 1875/1875 [00:11<00:00, 161.20it/s]\n"
          ]
        },
        {
          "output_type": "stream",
          "name": "stdout",
          "text": [
            "Epoch: 5\n",
            "Loss:  0.3638, Acc:  0.8962\n"
          ]
        },
        {
          "output_type": "stream",
          "name": "stderr",
          "text": [
            "100%|██████████| 1875/1875 [00:11<00:00, 167.08it/s]\n"
          ]
        },
        {
          "output_type": "stream",
          "name": "stdout",
          "text": [
            "Epoch: 6\n",
            "Loss:  0.3218, Acc:  0.9063\n"
          ]
        },
        {
          "output_type": "stream",
          "name": "stderr",
          "text": [
            "100%|██████████| 1875/1875 [00:10<00:00, 171.18it/s]\n"
          ]
        },
        {
          "output_type": "stream",
          "name": "stdout",
          "text": [
            "Epoch: 7\n",
            "Loss:  0.2902, Acc:  0.9152\n"
          ]
        },
        {
          "output_type": "stream",
          "name": "stderr",
          "text": [
            "100%|██████████| 1875/1875 [00:10<00:00, 177.46it/s]\n"
          ]
        },
        {
          "output_type": "stream",
          "name": "stdout",
          "text": [
            "Epoch: 8\n",
            "Loss:  0.2643, Acc:  0.9220\n"
          ]
        },
        {
          "output_type": "stream",
          "name": "stderr",
          "text": [
            "100%|██████████| 1875/1875 [00:10<00:00, 176.97it/s]\n"
          ]
        },
        {
          "output_type": "stream",
          "name": "stdout",
          "text": [
            "Epoch: 9\n",
            "Loss:  0.2421, Acc:  0.9284\n"
          ]
        },
        {
          "output_type": "stream",
          "name": "stderr",
          "text": [
            "100%|██████████| 1875/1875 [00:11<00:00, 169.31it/s]"
          ]
        },
        {
          "output_type": "stream",
          "name": "stdout",
          "text": [
            "Epoch: 10\n",
            "Loss:  0.2227, Acc:  0.9339\n"
          ]
        },
        {
          "output_type": "stream",
          "name": "stderr",
          "text": [
            "\n"
          ]
        }
      ],
      "source": [
        "import torch\n",
        "import torch.nn as nn\n",
        "from torchvision.datasets import MNIST\n",
        "from torchvision.transforms import ToTensor\n",
        "import numpy as np\n",
        "import matplotlib.pyplot as plt\n",
        "from torch.utils.data import TensorDataset, DataLoader\n",
        "from torch.optim import SGD\n",
        "from tqdm import tqdm\n",
        "\n",
        "# H, W = 28, 28\n",
        "# image = torch.randn(size=(8, 1, H, W)) #input size = (8, 1, 28, 28)  #B, C, H, W\n",
        "\n",
        "BATCH_SIZE = 32\n",
        "LR = 0.003\n",
        "EPOCHS = 10\n",
        "\n",
        "dataset = MNIST(root='data', train=True, download=True, transform=ToTensor())\n",
        "dataloader = DataLoader(dataset=dataset, batch_size=BATCH_SIZE)\n",
        "n_sample = len(dataset)\n",
        "\n",
        "class CNN(nn.Module):\n",
        "    def __init__(self):\n",
        "        super(CNN, self).__init__()\n",
        "        self.model = nn.Sequential(\n",
        "            nn.Conv2d(in_channels=1, out_channels=6, kernel_size=5, padding=2, stride=1),\n",
        "            nn.Tanh(),\n",
        "\n",
        "            nn.AvgPool2d(kernel_size=2, stride=2),\n",
        "\n",
        "            nn.Conv2d(in_channels=6, out_channels=16, kernel_size=5, padding=0, stride=1),\n",
        "            nn.Tanh(),\n",
        "\n",
        "            nn.AvgPool2d(kernel_size=2, stride=2),\n",
        "\n",
        "            nn.Conv2d(in_channels=16, out_channels=120, kernel_size=5, padding=0, stride=1),\n",
        "            nn.Tanh())\n",
        "\n",
        "        self.fc = nn.Sequential(\n",
        "            nn.Linear(in_features=120, out_features=84),\n",
        "            nn.Tanh(),\n",
        "\n",
        "            nn.Linear(in_features=84, out_features=10))\n",
        "\n",
        "    def forward(self, image):\n",
        "        x = self.model(image)\n",
        "        x = x.view(x.size(0), -1)\n",
        "        x = self.fc(x)\n",
        "        return x\n",
        "\n",
        "if torch.cuda.is_available(): DEVICE = 'cuda'\n",
        "elif torch.backends.mps.is_available(): DEVICE = 'mps'\n",
        "else: DEVICE = 'cpu'\n",
        "\n",
        "model = CNN().to(DEVICE)\n",
        "loss_function = nn.CrossEntropyLoss()\n",
        "optimizer = SGD(model.parameters(), lr=LR)\n",
        "\n",
        "#Training\n",
        "losses, accs = [], []\n",
        "for epoch in range(EPOCHS):\n",
        "    epoch_loss, n_corrects = 0., 0\n",
        "    for X, y in tqdm(dataloader):\n",
        "        X, y = X.to(DEVICE), y.to(DEVICE)\n",
        "\n",
        "        pred = model(X)\n",
        "        loss = loss_function(pred, y)\n",
        "\n",
        "        optimizer.zero_grad()\n",
        "        loss.backward()\n",
        "        optimizer.step()\n",
        "\n",
        "        epoch_loss += loss.item() * len(X)\n",
        "        n_corrects += (torch.max(pred, axis=1)[1] == y).sum().item()\n",
        "\n",
        "    epoch_loss /= n_sample\n",
        "    losses.append(epoch_loss)\n",
        "\n",
        "    epoch_acc = n_corrects / n_sample\n",
        "    accs.append(epoch_acc)\n",
        "\n",
        "    print(f\"Epoch: {epoch+1}\")\n",
        "    print(f\"Loss: {epoch_loss: .4f}, Acc: {epoch_acc: .4f}\")"
      ]
    },
    {
      "cell_type": "code",
      "source": [
        "fig, axes = plt.subplots(2, 1, figsize=(10, 5))\n",
        "\n",
        "axes[0].plot(losses)\n",
        "axes[1].plot(accs)\n",
        "\n",
        "axes[0].set_ylabel('Loss', fontsize=12)\n",
        "axes[1].set_ylabel('Accuracy', fontsize=12)\n",
        "axes[1].set_xlabel('Epoch', fontsize=12)\n",
        "\n",
        "axes[0].tick_params(labelsize=8)\n",
        "axes[1].tick_params(labelsize=8)\n",
        "\n",
        "fig.tight_layout()"
      ],
      "metadata": {
        "colab": {
          "base_uri": "https://localhost:8080/",
          "height": 463
        },
        "id": "1LcZlw1BpSuG",
        "outputId": "50026094-7883-4037-acac-5d255a921cb3"
      },
      "execution_count": 11,
      "outputs": [
        {
          "output_type": "display_data",
          "data": {
            "text/plain": [
              "<Figure size 1000x500 with 2 Axes>"
            ],
            "image/png": "[encoded data removed]"
          },
          "metadata": {}
        }
      ]
    }
  ]
}
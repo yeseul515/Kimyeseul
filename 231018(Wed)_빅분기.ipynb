{
  "nbformat": 4,
  "nbformat_minor": 0,
  "metadata": {
    "colab": {
      "provenance": [],
      "collapsed_sections": [
        "ezxd3W5AY3A2",
        "j5DPHjknZs9t",
        "PXNW0NSyfr0D"
      ],
      "authorship_tag": "ABX9TyNyepM2SvHH5YqDWE8LQuTL",
      "include_colab_link": true
    },
    "kernelspec": {
      "name": "python3",
      "display_name": "Python 3"
    },
    "language_info": {
      "name": "python"
    }
  },
  "cells": [
    {
      "cell_type": "markdown",
      "metadata": {
        "id": "view-in-github",
        "colab_type": "text"
      },
      "source": [
        "<a href=\"https://colab.research.google.com/github/yeseul515/sessac_test2/blob/self-study/231018(Wed)_%EB%B9%85%EB%B6%84%EA%B8%B0.ipynb\" target=\"_parent\"><img src=\"https://colab.research.google.com/assets/colab-badge.svg\" alt=\"Open In Colab\"/></a>"
      ]
    },
    {
      "cell_type": "markdown",
      "source": [
        "# Pandas\n",
        "- pandas의 핵심 객체는 데이터프레임(DataFrame)\n",
        "- 데이터프레임은 여러 개의 행과 열로 이루어진 2차원 데이터를 담는 데이터 구조체\n",
        "- 인덱스 : 관계형 데이터베이스 관리 시스템(RDBMS)의 기본키(primary key)처럼 개별 데이터를 고유하게 식별하는 키. 시리즈와 데이터프레임 모두 인덱스를 키로 갖고 있음\n",
        "- 시리즈 : 컬럼이 하나 뿐인 구조체\n",
        "- 데이터프레임 : 컬럼이 여러 개인 데이터 구조체. 즉, 데이터프레임은 여러 개의 시리즈로 이루어져있음"
      ],
      "metadata": {
        "id": "n-KCBrnKYRgf"
      }
    },
    {
      "cell_type": "markdown",
      "source": [
        "## (1) 시리즈(Series)와 데이터프레임(DataFrame) 이해하기"
      ],
      "metadata": {
        "id": "ezxd3W5AY3A2"
      }
    },
    {
      "cell_type": "code",
      "execution_count": null,
      "metadata": {
        "id": "V_jvo94-Xxb-"
      },
      "outputs": [],
      "source": [
        "# 222-01\n",
        "import pandas as pd"
      ]
    },
    {
      "cell_type": "code",
      "source": [
        "# 222-02\n",
        "s = pd.Series([1, 3, 5, 6, 8])\n",
        "\n",
        "print(s)\n",
        "print(s.index)\n",
        "print(s.values)"
      ],
      "metadata": {
        "colab": {
          "base_uri": "https://localhost:8080/"
        },
        "id": "uzyGwe9bZBQA",
        "outputId": "40843740-ce1c-45d4-bc0f-ff1a85818228"
      },
      "execution_count": null,
      "outputs": [
        {
          "output_type": "stream",
          "name": "stdout",
          "text": [
            "0    1\n",
            "1    3\n",
            "2    5\n",
            "3    6\n",
            "4    8\n",
            "dtype: int64\n",
            "RangeIndex(start=0, stop=5, step=1)\n",
            "[1 3 5 6 8]\n"
          ]
        }
      ]
    },
    {
      "cell_type": "code",
      "source": [
        "# 222-03\n",
        "v = [[1, 2, 3], [4, 5, 6], [7, 8, 9]]\n",
        "i = ['첫째행', '둘째행', '셋째행']\n",
        "c = ['컬럼1', '컬럼2', '컬럼3']\n",
        "\n",
        "df = pd.DataFrame(v, index = i, columns = c)\n",
        "print(df)"
      ],
      "metadata": {
        "colab": {
          "base_uri": "https://localhost:8080/"
        },
        "id": "ztzNkpmxZJqW",
        "outputId": "4f77a0d3-9d2f-4ad0-88b3-0c68f803a526"
      },
      "execution_count": null,
      "outputs": [
        {
          "output_type": "stream",
          "name": "stdout",
          "text": [
            "     컬럼1  컬럼2  컬럼3\n",
            "첫째행    1    2    3\n",
            "둘째행    4    5    6\n",
            "셋째행    7    8    9\n"
          ]
        }
      ]
    },
    {
      "cell_type": "markdown",
      "source": [
        "## (2) 데이터프레임 생성하기\n",
        "- 리스트와 딕셔너리를 활용해 생성 가능\n",
        "- 인덱스를 지정하지 않을 경우 자동으로 0부터 채번되어 생성\n",
        "- 리스트는 행 방향으로 데이터 할당\n",
        "- 딕셔너리는 열 방향으로 데이터 할당/딕셔너리의 키는 컬럼으로 자동 지정"
      ],
      "metadata": {
        "id": "j5DPHjknZs9t"
      }
    },
    {
      "cell_type": "code",
      "source": [
        "# 223-01\n",
        "d = [\n",
        "    ['100', '강백호', 9.7],\n",
        "    ['101', '송태섭', 8.9],\n",
        "    ['102', '서태웅', 9.3],\n",
        "    ['103', '채치수', 6.1]\n",
        "    ]\n",
        "df = pd.DataFrame(d, columns = ['번호', '이름', '점수'])\n",
        "print(df)"
      ],
      "metadata": {
        "colab": {
          "base_uri": "https://localhost:8080/"
        },
        "id": "upurUgOiZln_",
        "outputId": "8de76dce-f561-4a47-8ddb-978637c54564"
      },
      "execution_count": null,
      "outputs": [
        {
          "output_type": "stream",
          "name": "stdout",
          "text": [
            "    번호   이름   점수\n",
            "0  100  강백호  9.7\n",
            "1  101  송태섭  8.9\n",
            "2  102  서태웅  9.3\n",
            "3  103  채치수  6.1\n"
          ]
        }
      ]
    },
    {
      "cell_type": "code",
      "source": [
        "# 223-02\n",
        "d = {\n",
        "    '번호' : ['100', '101', '102', '103'],\n",
        "    '이름' : ['강백호', '송태섭', '서태웅', '채치수'],\n",
        "    '점수' : [9.7, 8.9, 9.3, 6.1]\n",
        "    }\n",
        "\n",
        "df = pd.DataFrame(d)\n",
        "print(df)"
      ],
      "metadata": {
        "colab": {
          "base_uri": "https://localhost:8080/"
        },
        "id": "uaTeFKHWaOoG",
        "outputId": "61b20c05-497f-460d-ebca-2b923abbfd88"
      },
      "execution_count": null,
      "outputs": [
        {
          "output_type": "stream",
          "name": "stdout",
          "text": [
            "    번호   이름   점수\n",
            "0  100  강백호  9.7\n",
            "1  101  송태섭  8.9\n",
            "2  102  서태웅  9.3\n",
            "3  103  채치수  6.1\n"
          ]
        }
      ]
    },
    {
      "cell_type": "markdown",
      "source": [
        "### read_csv 함수\n",
        "- 별다른 매개변수 지정이 없으면 파일의 맨 처음 행을 컬럼명으로 인지하고 컬럼으로 변환\n",
        "- csv뿐만 아니라 다른 필드 구분 문자 기반의 파일 포맷도 데이터프레임으로 변환 가능(read_csv 함수의 옵션 인자인 sep에 해당 구분 문자 입력→예를 들어 탭으로 필드가 구분되어 있는 경우, read_csv('파일경로', sep='\\t')\n",
        "- sep 옵션 인자가 없으면 자동으로 콤마로 할당"
      ],
      "metadata": {
        "id": "dVAHAGsMbhSt"
      }
    },
    {
      "cell_type": "code",
      "source": [
        "# 223-03\n",
        "\n",
        "housing_df = pd.read_csv('/content/sample_data/california_housing_train.csv')\n",
        "\n",
        "print('housing 변수 type: ', type(housing_df))\n",
        "print(housing_df)"
      ],
      "metadata": {
        "colab": {
          "base_uri": "https://localhost:8080/"
        },
        "id": "DccQLfOmawI9",
        "outputId": "70a00ace-de89-44ff-ebc9-2b5b26594c5d"
      },
      "execution_count": null,
      "outputs": [
        {
          "output_type": "stream",
          "name": "stdout",
          "text": [
            "housing 변수 type:  <class 'pandas.core.frame.DataFrame'>\n",
            "       longitude  latitude  housing_median_age  total_rooms  total_bedrooms  \\\n",
            "0        -114.31     34.19                15.0       5612.0          1283.0   \n",
            "1        -114.47     34.40                19.0       7650.0          1901.0   \n",
            "2        -114.56     33.69                17.0        720.0           174.0   \n",
            "3        -114.57     33.64                14.0       1501.0           337.0   \n",
            "4        -114.57     33.57                20.0       1454.0           326.0   \n",
            "...          ...       ...                 ...          ...             ...   \n",
            "16995    -124.26     40.58                52.0       2217.0           394.0   \n",
            "16996    -124.27     40.69                36.0       2349.0           528.0   \n",
            "16997    -124.30     41.84                17.0       2677.0           531.0   \n",
            "16998    -124.30     41.80                19.0       2672.0           552.0   \n",
            "16999    -124.35     40.54                52.0       1820.0           300.0   \n",
            "\n",
            "       population  households  median_income  median_house_value  \n",
            "0          1015.0       472.0         1.4936             66900.0  \n",
            "1          1129.0       463.0         1.8200             80100.0  \n",
            "2           333.0       117.0         1.6509             85700.0  \n",
            "3           515.0       226.0         3.1917             73400.0  \n",
            "4           624.0       262.0         1.9250             65500.0  \n",
            "...           ...         ...            ...                 ...  \n",
            "16995       907.0       369.0         2.3571            111400.0  \n",
            "16996      1194.0       465.0         2.5179             79000.0  \n",
            "16997      1244.0       456.0         3.0313            103600.0  \n",
            "16998      1298.0       478.0         1.9797             85800.0  \n",
            "16999       806.0       270.0         3.0147             94600.0  \n",
            "\n",
            "[17000 rows x 9 columns]\n"
          ]
        }
      ]
    },
    {
      "cell_type": "markdown",
      "source": [
        "## (3) 데이터프레임 훑어보기\n",
        "- head(x) : 데이터프레임의 맨 앞에 있는 x개의 행 반환\n",
        "- shape( ) : 데이터프레임의 행과 열 정보를 튜플 형태로 반환"
      ],
      "metadata": {
        "id": "BP6OR8IncPrF"
      }
    },
    {
      "cell_type": "code",
      "source": [
        "print('DataFram 크기 : ', housing_df.shape)\n",
        "print(housing_df.head(5))"
      ],
      "metadata": {
        "colab": {
          "base_uri": "https://localhost:8080/"
        },
        "id": "Ukix_Oo3bVdm",
        "outputId": "98163ec2-abf0-4f99-af1f-fd3c5ec3fbe7"
      },
      "execution_count": null,
      "outputs": [
        {
          "output_type": "stream",
          "name": "stdout",
          "text": [
            "DataFram 크기 :  (17000, 9)\n",
            "   longitude  latitude  housing_median_age  total_rooms  total_bedrooms  \\\n",
            "0    -114.31     34.19                15.0       5612.0          1283.0   \n",
            "1    -114.47     34.40                19.0       7650.0          1901.0   \n",
            "2    -114.56     33.69                17.0        720.0           174.0   \n",
            "3    -114.57     33.64                14.0       1501.0           337.0   \n",
            "4    -114.57     33.57                20.0       1454.0           326.0   \n",
            "\n",
            "   population  households  median_income  median_house_value  \n",
            "0      1015.0       472.0         1.4936             66900.0  \n",
            "1      1129.0       463.0         1.8200             80100.0  \n",
            "2       333.0       117.0         1.6509             85700.0  \n",
            "3       515.0       226.0         3.1917             73400.0  \n",
            "4       624.0       262.0         1.9250             65500.0  \n"
          ]
        }
      ]
    },
    {
      "cell_type": "code",
      "source": [
        "print(housing_df.info())"
      ],
      "metadata": {
        "colab": {
          "base_uri": "https://localhost:8080/"
        },
        "id": "oC_To_u2cqsU",
        "outputId": "d06e3ef4-8aba-490d-de0c-bcc426a48cb5"
      },
      "execution_count": null,
      "outputs": [
        {
          "output_type": "stream",
          "name": "stdout",
          "text": [
            "<class 'pandas.core.frame.DataFrame'>\n",
            "RangeIndex: 17000 entries, 0 to 16999\n",
            "Data columns (total 9 columns):\n",
            " #   Column              Non-Null Count  Dtype  \n",
            "---  ------              --------------  -----  \n",
            " 0   longitude           17000 non-null  float64\n",
            " 1   latitude            17000 non-null  float64\n",
            " 2   housing_median_age  17000 non-null  float64\n",
            " 3   total_rooms         17000 non-null  float64\n",
            " 4   total_bedrooms      17000 non-null  float64\n",
            " 5   population          17000 non-null  float64\n",
            " 6   households          17000 non-null  float64\n",
            " 7   median_income       17000 non-null  float64\n",
            " 8   median_house_value  17000 non-null  float64\n",
            "dtypes: float64(9)\n",
            "memory usage: 1.2 MB\n",
            "None\n"
          ]
        }
      ]
    },
    {
      "cell_type": "code",
      "source": [
        "# describe() : 컬럼별 숫자형 데이터의 개수, 평균값, 표준편차, 최소값, 사분위수값, 최대값을 나타냄 // 오직 숫자형 컬럼의 기초 통계 정보만 계산해서 출력\n",
        "print(housing_df.describe())"
      ],
      "metadata": {
        "colab": {
          "base_uri": "https://localhost:8080/"
        },
        "id": "dnr4DjNicy2c",
        "outputId": "5a71de2e-2d75-402e-8028-8864d657bbc6"
      },
      "execution_count": null,
      "outputs": [
        {
          "output_type": "stream",
          "name": "stdout",
          "text": [
            "          longitude      latitude  housing_median_age   total_rooms  \\\n",
            "count  17000.000000  17000.000000        17000.000000  17000.000000   \n",
            "mean    -119.562108     35.625225           28.589353   2643.664412   \n",
            "std        2.005166      2.137340           12.586937   2179.947071   \n",
            "min     -124.350000     32.540000            1.000000      2.000000   \n",
            "25%     -121.790000     33.930000           18.000000   1462.000000   \n",
            "50%     -118.490000     34.250000           29.000000   2127.000000   \n",
            "75%     -118.000000     37.720000           37.000000   3151.250000   \n",
            "max     -114.310000     41.950000           52.000000  37937.000000   \n",
            "\n",
            "       total_bedrooms    population    households  median_income  \\\n",
            "count    17000.000000  17000.000000  17000.000000   17000.000000   \n",
            "mean       539.410824   1429.573941    501.221941       3.883578   \n",
            "std        421.499452   1147.852959    384.520841       1.908157   \n",
            "min          1.000000      3.000000      1.000000       0.499900   \n",
            "25%        297.000000    790.000000    282.000000       2.566375   \n",
            "50%        434.000000   1167.000000    409.000000       3.544600   \n",
            "75%        648.250000   1721.000000    605.250000       4.767000   \n",
            "max       6445.000000  35682.000000   6082.000000      15.000100   \n",
            "\n",
            "       median_house_value  \n",
            "count        17000.000000  \n",
            "mean        207300.912353  \n",
            "std         115983.764387  \n",
            "min          14999.000000  \n",
            "25%         119400.000000  \n",
            "50%         180400.000000  \n",
            "75%         265000.000000  \n",
            "max         500001.000000  \n"
          ]
        }
      ]
    },
    {
      "cell_type": "code",
      "source": [
        "# 데이터프레임의 []연산자 내부에 '컬럼명'을 입력하면 해당 컬럼에 해당하는 시리즈 객체 반환\n",
        "housing_median_age = housing_df['housing_median_age']\n",
        "print(housing_median_age.head())"
      ],
      "metadata": {
        "colab": {
          "base_uri": "https://localhost:8080/"
        },
        "id": "VawnlNJOdDBx",
        "outputId": "ba2c99cd-991a-456f-dfe2-d2b05d2891df"
      },
      "execution_count": null,
      "outputs": [
        {
          "output_type": "stream",
          "name": "stdout",
          "text": [
            "0    15.0\n",
            "1    19.0\n",
            "2    17.0\n",
            "3    14.0\n",
            "4    20.0\n",
            "Name: housing_median_age, dtype: float64\n"
          ]
        }
      ]
    },
    {
      "cell_type": "code",
      "source": [
        "# 컬럼 값의 유형과 건수 확인. value_count()는 데이터의 분포도를 확인하는 데 유용한 함수(데이터 건수가 많은 순서로 정렬되어 값 반환)\n",
        "value_counts = housing_median_age.value_counts()\n",
        "print(value_counts)"
      ],
      "metadata": {
        "colab": {
          "base_uri": "https://localhost:8080/"
        },
        "id": "K_0bR0Zudzw9",
        "outputId": "53d319ba-564c-4a78-b1fd-f032edda4a31"
      },
      "execution_count": null,
      "outputs": [
        {
          "output_type": "stream",
          "name": "stdout",
          "text": [
            "52.0    1052\n",
            "36.0     715\n",
            "35.0     692\n",
            "16.0     635\n",
            "17.0     576\n",
            "34.0     567\n",
            "33.0     513\n",
            "26.0     503\n",
            "18.0     478\n",
            "25.0     461\n",
            "32.0     458\n",
            "37.0     437\n",
            "15.0     416\n",
            "19.0     412\n",
            "28.0     400\n",
            "27.0     397\n",
            "24.0     389\n",
            "31.0     384\n",
            "30.0     384\n",
            "20.0     383\n",
            "23.0     382\n",
            "29.0     374\n",
            "21.0     373\n",
            "14.0     347\n",
            "22.0     323\n",
            "38.0     318\n",
            "42.0     308\n",
            "39.0     302\n",
            "44.0     296\n",
            "43.0     286\n",
            "13.0     249\n",
            "40.0     249\n",
            "45.0     235\n",
            "41.0     232\n",
            "10.0     226\n",
            "11.0     208\n",
            "5.0      199\n",
            "46.0     196\n",
            "12.0     192\n",
            "8.0      178\n",
            "47.0     175\n",
            "9.0      172\n",
            "4.0      161\n",
            "7.0      151\n",
            "48.0     135\n",
            "6.0      129\n",
            "50.0     112\n",
            "49.0     111\n",
            "2.0       49\n",
            "3.0       46\n",
            "51.0      32\n",
            "1.0        2\n",
            "Name: housing_median_age, dtype: int64\n"
          ]
        }
      ]
    },
    {
      "cell_type": "markdown",
      "source": [
        "## (4) 데이터프레임 컬럼 생성과 수정"
      ],
      "metadata": {
        "id": "hHoKHye2ejUL"
      }
    },
    {
      "cell_type": "code",
      "source": [
        "# housing 데이터프레임에 새로운 컬럼 Age_0을 추가하고 일괄적으로 0값 할당\n",
        "housing_df['Age_0'] = 0\n",
        "print(housing_df.head(3))"
      ],
      "metadata": {
        "colab": {
          "base_uri": "https://localhost:8080/"
        },
        "id": "aUepcbF2eRgM",
        "outputId": "6ab9a8cf-6773-4016-a7e4-94206b9ad47c"
      },
      "execution_count": null,
      "outputs": [
        {
          "output_type": "stream",
          "name": "stdout",
          "text": [
            "   longitude  latitude  housing_median_age  total_rooms  total_bedrooms  \\\n",
            "0    -114.31     34.19                15.0       5612.0          1283.0   \n",
            "1    -114.47     34.40                19.0       7650.0          1901.0   \n",
            "2    -114.56     33.69                17.0        720.0           174.0   \n",
            "\n",
            "   population  households  median_income  median_house_value  Age_0  \n",
            "0      1015.0       472.0         1.4936             66900.0      0  \n",
            "1      1129.0       463.0         1.8200             80100.0      0  \n",
            "2       333.0       117.0         1.6509             85700.0      0  \n"
          ]
        }
      ]
    },
    {
      "cell_type": "code",
      "source": [
        "# 기존 컬럼 시리즈의 데이터를 이용해 새로운 컬럼 시리즈 만들기\n",
        "housing_df['Age_by_10'] = housing_df['housing_median_age'] // 10\n",
        "print(housing_df.head(3))"
      ],
      "metadata": {
        "colab": {
          "base_uri": "https://localhost:8080/"
        },
        "id": "4o4RFIafeuJc",
        "outputId": "1aa87ae0-fc99-42aa-bc05-7e8d892aa3b0"
      },
      "execution_count": null,
      "outputs": [
        {
          "output_type": "stream",
          "name": "stdout",
          "text": [
            "   longitude  latitude  housing_median_age  total_rooms  total_bedrooms  \\\n",
            "0    -114.31     34.19                15.0       5612.0          1283.0   \n",
            "1    -114.47     34.40                19.0       7650.0          1901.0   \n",
            "2    -114.56     33.69                17.0        720.0           174.0   \n",
            "\n",
            "   population  households  median_income  median_house_value  Age_0  Age_by_10  \n",
            "0      1015.0       472.0         1.4936             66900.0      0        1.0  \n",
            "1      1129.0       463.0         1.8200             80100.0      0        1.0  \n",
            "2       333.0       117.0         1.6509             85700.0      0        1.0  \n"
          ]
        }
      ]
    },
    {
      "cell_type": "code",
      "source": [
        "# 데이터프레임 내의 컬럼 값 일괄 수정\n",
        "housing_df['Age_by_10'] = housing_df['Age_by_10'] * 10\n",
        "print(housing_df.head(3))"
      ],
      "metadata": {
        "colab": {
          "base_uri": "https://localhost:8080/"
        },
        "id": "vf3LVKaPfG9n",
        "outputId": "2359851a-b88c-4c31-f964-51f91970c4a2"
      },
      "execution_count": null,
      "outputs": [
        {
          "output_type": "stream",
          "name": "stdout",
          "text": [
            "   longitude  latitude  housing_median_age  total_rooms  total_bedrooms  \\\n",
            "0    -114.31     34.19                15.0       5612.0          1283.0   \n",
            "1    -114.47     34.40                19.0       7650.0          1901.0   \n",
            "2    -114.56     33.69                17.0        720.0           174.0   \n",
            "\n",
            "   population  households  median_income  median_house_value  Age_0  Age_by_10  \n",
            "0      1015.0       472.0         1.4936             66900.0      0       10.0  \n",
            "1      1129.0       463.0         1.8200             80100.0      0       10.0  \n",
            "2       333.0       117.0         1.6509             85700.0      0       10.0  \n"
          ]
        }
      ]
    },
    {
      "cell_type": "code",
      "source": [
        "value_counts = housing_df['Age_by_10'].value_counts()\n",
        "print(value_counts)"
      ],
      "metadata": {
        "colab": {
          "base_uri": "https://localhost:8080/"
        },
        "id": "Q6VoL1VOfWos",
        "outputId": "31ee9cbc-cdb5-46aa-cd61-bd3f54d566aa"
      },
      "execution_count": null,
      "outputs": [
        {
          "output_type": "stream",
          "name": "stdout",
          "text": [
            "30.0    4770\n",
            "20.0    3985\n",
            "10.0    3739\n",
            "40.0    2223\n",
            "50.0    1196\n",
            "0.0     1087\n",
            "Name: Age_by_10, dtype: int64\n"
          ]
        }
      ]
    },
    {
      "cell_type": "markdown",
      "source": [
        "## (5) 데이터프레임 데이터 삭제\n",
        "- drop(labels, axis = 0, index=None, columns=None, level=None, inplace=False, errors='raise')\n",
        "- axis=0 → 행 방향 데이터 삭제 / axis=1 → 컬럼 방향 데이터 삭제\n",
        "- labels에 원하는 컬럼명 입력, axis=1 → 지정된 컬럼 데이터 삭제\n",
        "- labels에 원하는 인덱스 입려그 axis=0 → 지정된 행 방향 데이터 삭제\n",
        "- inplace=False → 원 데이터프레임의 데이터는 삭제되지 않음"
      ],
      "metadata": {
        "id": "PXNW0NSyfr0D"
      }
    },
    {
      "cell_type": "code",
      "source": [
        "# 특정 컬럼 삭제하는 경우\n",
        "housing_drop_df = housing_df.drop('Age_0', axis=1)\n",
        "print(housing_drop_df.head(3))"
      ],
      "metadata": {
        "colab": {
          "base_uri": "https://localhost:8080/"
        },
        "id": "s_ocqjISfjSK",
        "outputId": "84f705f5-01cf-4630-ae61-1e9fb195c13e"
      },
      "execution_count": null,
      "outputs": [
        {
          "output_type": "stream",
          "name": "stdout",
          "text": [
            "   longitude  latitude  housing_median_age  total_rooms  total_bedrooms  \\\n",
            "0    -114.31     34.19                15.0       5612.0          1283.0   \n",
            "1    -114.47     34.40                19.0       7650.0          1901.0   \n",
            "2    -114.56     33.69                17.0        720.0           174.0   \n",
            "\n",
            "   population  households  median_income  median_house_value  Age_by_10  \n",
            "0      1015.0       472.0         1.4936             66900.0       10.0  \n",
            "1      1129.0       463.0         1.8200             80100.0       10.0  \n",
            "2       333.0       117.0         1.6509             85700.0       10.0  \n"
          ]
        }
      ]
    },
    {
      "cell_type": "code",
      "source": [
        "# 여러 개의 컬럼 데이터를 삭제하는 경우\n",
        "#drop_result = housing_df.drop(['Age_0', 'Age_by_10'], axis=1, inplace=True)\n",
        "#print('drop_result 반환값 : ', drop_result) # 컬럼이 없어서 반환 안됨\n",
        "print(housing_df.head(3))"
      ],
      "metadata": {
        "colab": {
          "base_uri": "https://localhost:8080/"
        },
        "id": "EzPmQSh-g37L",
        "outputId": "437417a1-2f89-48d9-9e67-6750e36fdc1b"
      },
      "execution_count": null,
      "outputs": [
        {
          "output_type": "stream",
          "name": "stdout",
          "text": [
            "   longitude  latitude  housing_median_age  total_rooms  total_bedrooms  \\\n",
            "0    -114.31     34.19                15.0       5612.0          1283.0   \n",
            "1    -114.47     34.40                19.0       7650.0          1901.0   \n",
            "2    -114.56     33.69                17.0        720.0           174.0   \n",
            "\n",
            "   population  households  median_income  median_house_value  \n",
            "0      1015.0       472.0         1.4936             66900.0  \n",
            "1      1129.0       463.0         1.8200             80100.0  \n",
            "2       333.0       117.0         1.6509             85700.0  \n"
          ]
        }
      ]
    },
    {
      "cell_type": "code",
      "source": [
        "# 특정 행 삭제\n",
        "housing_drop_df = housing_df.drop([0, 1, 2], axis=0)\n",
        "print(housing_drop_df.head(3))"
      ],
      "metadata": {
        "colab": {
          "base_uri": "https://localhost:8080/"
        },
        "id": "QKE0RsD-hh5T",
        "outputId": "61506abe-1d34-406c-8e80-6a7e73fc579e"
      },
      "execution_count": null,
      "outputs": [
        {
          "output_type": "stream",
          "name": "stdout",
          "text": [
            "   longitude  latitude  housing_median_age  total_rooms  total_bedrooms  \\\n",
            "3    -114.57     33.64                14.0       1501.0           337.0   \n",
            "4    -114.57     33.57                20.0       1454.0           326.0   \n",
            "5    -114.58     33.63                29.0       1387.0           236.0   \n",
            "\n",
            "   population  households  median_income  median_house_value  \n",
            "3       515.0       226.0         3.1917             73400.0  \n",
            "4       624.0       262.0         1.9250             65500.0  \n",
            "5       671.0       239.0         3.3438             74000.0  \n"
          ]
        }
      ]
    },
    {
      "cell_type": "markdown",
      "source": [
        "## (6) 데이터프레임 데이터 조회"
      ],
      "metadata": {
        "id": "G4oF6mDPjE-k"
      }
    },
    {
      "cell_type": "code",
      "source": [
        "# 데이터프레임의 데이터 조회 방법\n",
        "print('단일 컬럼 데이터 조회: \\n', housing_df['housing_median_age'].head(3))\n",
        "print('\\n복수 컬럼 데이터 조회: \\n', housing_df[['housing_median_age', 'total_rooms']].head(3))"
      ],
      "metadata": {
        "colab": {
          "base_uri": "https://localhost:8080/"
        },
        "id": "Bfmq0rfei6-8",
        "outputId": "8fc1fad2-6ec0-45df-bd54-0590f032b64a"
      },
      "execution_count": null,
      "outputs": [
        {
          "output_type": "stream",
          "name": "stdout",
          "text": [
            "단일 컬럼 데이터 조회: \n",
            " 0    15.0\n",
            "1    19.0\n",
            "2    17.0\n",
            "Name: housing_median_age, dtype: float64\n",
            "\n",
            "복수 컬럼 데이터 조회: \n",
            "    housing_median_age  total_rooms\n",
            "0                15.0       5612.0\n",
            "1                19.0       7650.0\n",
            "2                17.0        720.0\n"
          ]
        }
      ]
    },
    {
      "cell_type": "code",
      "source": [
        "# 슬라이싱을 이용하여 데이터 조회하기\n",
        "print(housing_df[0:3])"
      ],
      "metadata": {
        "colab": {
          "base_uri": "https://localhost:8080/"
        },
        "id": "nnrgyJcwjey8",
        "outputId": "4aa6aad7-0b46-4724-90bf-938905afead1"
      },
      "execution_count": null,
      "outputs": [
        {
          "output_type": "stream",
          "name": "stdout",
          "text": [
            "   longitude  latitude  housing_median_age  total_rooms  total_bedrooms  \\\n",
            "0    -114.31     34.19                15.0       5612.0          1283.0   \n",
            "1    -114.47     34.40                19.0       7650.0          1901.0   \n",
            "2    -114.56     33.69                17.0        720.0           174.0   \n",
            "\n",
            "   population  households  median_income  median_house_value  \n",
            "0      1015.0       472.0         1.4936             66900.0  \n",
            "1      1129.0       463.0         1.8200             80100.0  \n",
            "2       333.0       117.0         1.6509             85700.0  \n"
          ]
        }
      ]
    },
    {
      "cell_type": "code",
      "source": [
        "# 논리형 인덱싱 표현\n",
        "print(housing_df[housing_df['housing_median_age']==30].head(3)) #housing_median_age 컬럼의 데이터 값이 30인 것만 추출"
      ],
      "metadata": {
        "colab": {
          "base_uri": "https://localhost:8080/"
        },
        "id": "IySnJhSvjvj5",
        "outputId": "3f3a4959-78e0-4c7b-d942-17a8e2d011ef"
      },
      "execution_count": null,
      "outputs": [
        {
          "output_type": "stream",
          "name": "stdout",
          "text": [
            "     longitude  latitude  housing_median_age  total_rooms  total_bedrooms  \\\n",
            "26     -115.37     32.82                30.0       1602.0           322.0   \n",
            "50     -115.52     34.22                30.0        540.0           136.0   \n",
            "101    -115.59     32.69                30.0        935.0           177.0   \n",
            "\n",
            "     population  households  median_income  median_house_value  \n",
            "26       1130.0       335.0         3.5735             71100.0  \n",
            "50        122.0        63.0         1.3333             42500.0  \n",
            "101       649.0       148.0         2.5769             94400.0  \n"
          ]
        }
      ]
    },
    {
      "cell_type": "code",
      "source": [
        "# 논리형 인덱싱(여러개의 복합 조건을 결합하는 경우)\n",
        "print(housing_df[\n",
        "                 (housing_df['housing_median_age'] > 30)&\n",
        "                 (housing_df['total_rooms'] < 100)&\n",
        "                 (housing_df['median_income'] > 10)\n",
        "                 ].head(3))\n",
        "\n",
        "# and = & / or = | / not = ~"
      ],
      "metadata": {
        "colab": {
          "base_uri": "https://localhost:8080/"
        },
        "id": "tfbTQe-Oj_SR",
        "outputId": "04bcff98-bdfe-4db8-da5a-6ae003a2225f"
      },
      "execution_count": null,
      "outputs": [
        {
          "output_type": "stream",
          "name": "stdout",
          "text": [
            "       longitude  latitude  housing_median_age  total_rooms  total_bedrooms  \\\n",
            "6030     -118.22     34.06                52.0         48.0             6.0   \n",
            "13055    -121.87     37.46                43.0         91.0            12.0   \n",
            "14501    -122.14     37.50                46.0         30.0             4.0   \n",
            "\n",
            "       population  households  median_income  median_house_value  \n",
            "6030         41.0        10.0        10.2264            112500.0  \n",
            "13055        58.0        16.0        15.0001            500001.0  \n",
            "14501        13.0         5.0        15.0001            500001.0  \n"
          ]
        }
      ]
    },
    {
      "cell_type": "code",
      "source": [
        "# 개별 조건을 변수에 할당하여 이들 변수를 결합해 논리형 인덱싱 수행하기\n",
        "con1 = housing_df['housing_median_age'] > 30\n",
        "con2 = housing_df['total_rooms'] < 100\n",
        "con3 = housing_df['median_income'] > 10\n",
        "\n",
        "print(housing_df[con1 & con2 & con3].head(3))"
      ],
      "metadata": {
        "colab": {
          "base_uri": "https://localhost:8080/"
        },
        "id": "k2diWWrKkqXa",
        "outputId": "990c9cd4-0a2d-463c-94d7-2f49f95ba529"
      },
      "execution_count": null,
      "outputs": [
        {
          "output_type": "stream",
          "name": "stdout",
          "text": [
            "       longitude  latitude  housing_median_age  total_rooms  total_bedrooms  \\\n",
            "6030     -118.22     34.06                52.0         48.0             6.0   \n",
            "13055    -121.87     37.46                43.0         91.0            12.0   \n",
            "14501    -122.14     37.50                46.0         30.0             4.0   \n",
            "\n",
            "       population  households  median_income  median_house_value  \n",
            "6030         41.0        10.0        10.2264            112500.0  \n",
            "13055        58.0        16.0        15.0001            500001.0  \n",
            "14501        13.0         5.0        15.0001            500001.0  \n"
          ]
        }
      ]
    },
    {
      "cell_type": "markdown",
      "source": [
        "### iloc함수\n",
        "- 위치 기반 인덱싱을 허용하기 때문에 행과 열의 값으로 정수형 또는 정수형의 슬라이싱 값을 입력해야 함"
      ],
      "metadata": {
        "id": "CdoLhMzXlThQ"
      }
    },
    {
      "cell_type": "code",
      "source": [
        "print(housing_df.head(3))\n",
        "print(housing_df.iloc[0, 2]) #데이터프레임의 첫 번째 행, 두번째 컬럼 값 출력"
      ],
      "metadata": {
        "colab": {
          "base_uri": "https://localhost:8080/"
        },
        "id": "sJ4w35WklM5C",
        "outputId": "d55e02a5-52f0-4ff5-ddb5-1eaf67cc5bc9"
      },
      "execution_count": null,
      "outputs": [
        {
          "output_type": "stream",
          "name": "stdout",
          "text": [
            "   longitude  latitude  housing_median_age  total_rooms  total_bedrooms  \\\n",
            "0    -114.31     34.19                15.0       5612.0          1283.0   \n",
            "1    -114.47     34.40                19.0       7650.0          1901.0   \n",
            "2    -114.56     33.69                17.0        720.0           174.0   \n",
            "\n",
            "   population  households  median_income  median_house_value  \n",
            "0      1015.0       472.0         1.4936             66900.0  \n",
            "1      1129.0       463.0         1.8200             80100.0  \n",
            "2       333.0       117.0         1.6509             85700.0  \n",
            "15.0\n"
          ]
        }
      ]
    },
    {
      "cell_type": "markdown",
      "source": [
        "### loc함수\n",
        "- 명칭 기반으로 데이터 추출\n",
        "- 행 위치에는 데이터프레임의 인덱스 값, 열 위치에는 컬럼명 입력\n",
        "- 행의 위치에 슬라이싱을 적용하면 복수 행의 데이터 조회 가능"
      ],
      "metadata": {
        "id": "f-PaDbXyl1XZ"
      }
    },
    {
      "cell_type": "code",
      "source": [
        "print(housing_df.loc[0, 'housing_median_age'])"
      ],
      "metadata": {
        "colab": {
          "base_uri": "https://localhost:8080/"
        },
        "id": "0rWh0-3PliGp",
        "outputId": "5df1b775-d80c-4c95-df27-ea03ddb0f526"
      },
      "execution_count": null,
      "outputs": [
        {
          "output_type": "stream",
          "name": "stdout",
          "text": [
            "15.0\n"
          ]
        }
      ]
    },
    {
      "cell_type": "code",
      "source": [
        "# 복수 행의 데이터 조회\n",
        "print(housing_df.loc[0:4, 'housing_median_age'])"
      ],
      "metadata": {
        "colab": {
          "base_uri": "https://localhost:8080/"
        },
        "id": "mEw3U5m9mDvO",
        "outputId": "00145a94-6650-4a4d-86ae-15f0b8b51232"
      },
      "execution_count": null,
      "outputs": [
        {
          "output_type": "stream",
          "name": "stdout",
          "text": [
            "0    15.0\n",
            "1    19.0\n",
            "2    17.0\n",
            "3    14.0\n",
            "4    20.0\n",
            "Name: housing_median_age, dtype: float64\n"
          ]
        }
      ]
    },
    {
      "cell_type": "code",
      "source": [
        "# 논리형 인덱싱을 활용하여 조건부 데이터 조회하기\n",
        "print(housing_df.loc[housing_df['housing_median_age']==30, ['housing_median_age', 'total_bedrooms']].head(3))"
      ],
      "metadata": {
        "colab": {
          "base_uri": "https://localhost:8080/"
        },
        "id": "0YB0L-MimQhQ",
        "outputId": "202a0831-eb29-4db5-fbba-5d31e3e547ea"
      },
      "execution_count": null,
      "outputs": [
        {
          "output_type": "stream",
          "name": "stdout",
          "text": [
            "     housing_median_age  total_bedrooms\n",
            "26                 30.0           322.0\n",
            "50                 30.0           136.0\n",
            "101                30.0           177.0\n"
          ]
        }
      ]
    },
    {
      "cell_type": "markdown",
      "source": [
        "## (7) 데이터프레임 데이터 정렬과 집계\n",
        "- sort_values()\n",
        "- 주요 입력 매개변수: by, ascending, inplace\n",
        "- by : 해당 컬럼으로 정렬 수행\n",
        "- asending=True : 오름차순 정렬 / ascending=False : 내림차순 정렬\n",
        "- inplace=False : 원 데이터프레임 그대로 유지, 정렬된 데이터프레임을 함수 결과로 반환\n",
        "\n"
      ],
      "metadata": {
        "id": "XA55TIg9m5lw"
      }
    },
    {
      "cell_type": "code",
      "source": [
        "#housing_median_age 컬럼 오름차순 정렬\n",
        "housing_sorted = housing_df.sort_values(by=['housing_median_age'])\n",
        "print(housing_sorted.head(3))"
      ],
      "metadata": {
        "colab": {
          "base_uri": "https://localhost:8080/"
        },
        "id": "QZ5yf3b-ml2f",
        "outputId": "10640358-12bb-41c2-8655-c72794a70261"
      },
      "execution_count": null,
      "outputs": [
        {
          "output_type": "stream",
          "name": "stdout",
          "text": [
            "       longitude  latitude  housing_median_age  total_rooms  total_bedrooms  \\\n",
            "13708    -122.00     38.23                 1.0       2062.0           343.0   \n",
            "10993    -120.93     37.65                 1.0       2254.0           328.0   \n",
            "1353     -117.17     34.12                 2.0       3867.0           573.0   \n",
            "\n",
            "       population  households  median_income  median_house_value  \n",
            "13708       872.0       268.0         5.2636            191300.0  \n",
            "10993       402.0       112.0         4.2500            189200.0  \n",
            "1353       1275.0       433.0         5.4138            164400.0  \n"
          ]
        }
      ]
    },
    {
      "cell_type": "code",
      "source": [
        "# 여러 개의 컬럼으로 데이터프레임 정렬\n",
        "housing_sorted = housing_df.sort_values(by=['housing_median_age', 'total_rooms'], ascending=False)\n",
        "print(housing_sorted.head(3))"
      ],
      "metadata": {
        "colab": {
          "base_uri": "https://localhost:8080/"
        },
        "id": "gcbRLTE4niko",
        "outputId": "0b070e35-0328-4057-e396-4da624b30999"
      },
      "execution_count": null,
      "outputs": [
        {
          "output_type": "stream",
          "name": "stdout",
          "text": [
            "       longitude  latitude  housing_median_age  total_rooms  total_bedrooms  \\\n",
            "15772    -122.41     37.79                52.0       6016.0          2509.0   \n",
            "15773    -122.41     37.79                52.0       5783.0          2747.0   \n",
            "11163    -121.03     40.35                52.0       5486.0          1044.0   \n",
            "\n",
            "       population  households  median_income  median_house_value  \n",
            "15772      3436.0      2119.0         2.5166            275000.0  \n",
            "15773      4518.0      2538.0         1.7240            225000.0  \n",
            "11163      1977.0       754.0         2.1833             49500.0  \n"
          ]
        }
      ]
    },
    {
      "cell_type": "code",
      "source": [
        "# sum, count 함수를 적용하여 집계 결과 호출(모든 컬럼에 해당 집계 함수 적용)\n",
        "print(housing_df.sum() / housing_df.count())"
      ],
      "metadata": {
        "colab": {
          "base_uri": "https://localhost:8080/"
        },
        "id": "BxdpQNxKn7-Z",
        "outputId": "e1bc2bf3-c861-4b59-fae2-d4dd877f9166"
      },
      "execution_count": null,
      "outputs": [
        {
          "output_type": "stream",
          "name": "stdout",
          "text": [
            "longitude               -119.562108\n",
            "latitude                  35.625225\n",
            "housing_median_age        28.589353\n",
            "total_rooms             2643.664412\n",
            "total_bedrooms           539.410824\n",
            "population              1429.573941\n",
            "households               501.221941\n",
            "median_income              3.883578\n",
            "median_house_value    207300.912353\n",
            "dtype: float64\n"
          ]
        }
      ]
    },
    {
      "cell_type": "code",
      "source": [
        "# 특정 컬럼에만 집계 함수 적용하기\n",
        "print(housing_df[['housing_median_age', 'total_rooms']].mean())"
      ],
      "metadata": {
        "colab": {
          "base_uri": "https://localhost:8080/"
        },
        "id": "cBm7vRJ2oP7v",
        "outputId": "2581d3cc-8abb-498a-e047-c50350c9859e"
      },
      "execution_count": null,
      "outputs": [
        {
          "output_type": "stream",
          "name": "stdout",
          "text": [
            "housing_median_age      28.589353\n",
            "total_rooms           2643.664412\n",
            "dtype: float64\n"
          ]
        }
      ]
    },
    {
      "cell_type": "markdown",
      "source": [
        "### groupby()\n",
        "- 입력 매개변수에 컬럼명을 입력하면 대상 컬럼으로 groupby됨\n",
        "- groupby 입력 매개변수 컬럼을 제외한 모든 컬럼에 해당 집계 함수 적용"
      ],
      "metadata": {
        "id": "ObWIbeljorgH"
      }
    },
    {
      "cell_type": "code",
      "source": [
        "housing_groupby = housing_df.groupby('housing_median_age').mean()\n",
        "print(housing_groupby.head(3))"
      ],
      "metadata": {
        "colab": {
          "base_uri": "https://localhost:8080/"
        },
        "id": "pslAI7Ukoha-",
        "outputId": "726f17d5-f5b9-4ca8-d4a7-991d11c07e21"
      },
      "execution_count": null,
      "outputs": [
        {
          "output_type": "stream",
          "name": "stdout",
          "text": [
            "                     longitude   latitude  total_rooms  total_bedrooms  \\\n",
            "housing_median_age                                                       \n",
            "1.0                -121.465000  37.940000  2158.000000      335.500000   \n",
            "2.0                -119.035306  35.410816  5237.102041      871.448980   \n",
            "3.0                -118.798478  35.164783  6920.326087     1190.826087   \n",
            "\n",
            "                     population   households  median_income  \\\n",
            "housing_median_age                                            \n",
            "1.0                  637.000000   190.000000       4.756800   \n",
            "2.0                 2005.224490   707.122449       5.074237   \n",
            "3.0                 2934.673913  1030.413043       5.572013   \n",
            "\n",
            "                    median_house_value  \n",
            "housing_median_age                      \n",
            "1.0                      190250.000000  \n",
            "2.0                      229438.836735  \n",
            "3.0                      239450.043478  \n"
          ]
        }
      ]
    },
    {
      "cell_type": "code",
      "source": [
        "# groupby에 특정 컬럼만 집계 함수를 적용하고 싶은 경우\n",
        "housing_groupby = housing_df.groupby('housing_median_age')[['total_rooms', 'total_bedrooms']].mean()\n",
        "print(housing_groupby.head(3))"
      ],
      "metadata": {
        "colab": {
          "base_uri": "https://localhost:8080/"
        },
        "id": "sx_fUrGcpAoG",
        "outputId": "2a18c12f-0e69-476c-e914-090bed747734"
      },
      "execution_count": null,
      "outputs": [
        {
          "output_type": "stream",
          "name": "stdout",
          "text": [
            "                    total_rooms  total_bedrooms\n",
            "housing_median_age                             \n",
            "1.0                 2158.000000      335.500000\n",
            "2.0                 5237.102041      871.448980\n",
            "3.0                 6920.326087     1190.826087\n"
          ]
        }
      ]
    },
    {
      "cell_type": "code",
      "source": [
        "# groupby를 통해 여러 개의 집계 함수 호출(housing_median_age 별로 total_rooms의 min, max, sum값을 집계 함수로 호출)\n",
        "housing_groupby = housing_df.groupby('housing_median_age')['total_rooms'].agg([min, max, sum])\n",
        "print(housing_groupby.head(3))"
      ],
      "metadata": {
        "colab": {
          "base_uri": "https://localhost:8080/"
        },
        "id": "kSkdKi5BpaZH",
        "outputId": "77db0a36-38f2-40b7-a42b-85f7c0058779"
      },
      "execution_count": null,
      "outputs": [
        {
          "output_type": "stream",
          "name": "stdout",
          "text": [
            "                       min      max       sum\n",
            "housing_median_age                           \n",
            "1.0                 2062.0   2254.0    4316.0\n",
            "2.0                   96.0  21897.0  256618.0\n",
            "3.0                  475.0  21060.0  318335.0\n"
          ]
        }
      ]
    },
    {
      "cell_type": "markdown",
      "source": [
        "## (8) 데이터프레임 결측치 처리하기\n",
        "- isna(): 결측치 여부를 확인하는 함수\n",
        "- fillna(): 결측치를 다른 값으로 대체하는 함수"
      ],
      "metadata": {
        "id": "_BAwEU4OqDHn"
      }
    },
    {
      "cell_type": "code",
      "source": [
        "import numpy as np\n",
        "\n",
        "housing_df['Age_na'] = np.nan #Age_na라는 컬럼을 새롭게 만들고, nan값이 있으면 True, 없으면 False 반환\n",
        "print(housing_df.isna().head(3))"
      ],
      "metadata": {
        "colab": {
          "base_uri": "https://localhost:8080/"
        },
        "id": "uRnKOi3Mptq1",
        "outputId": "aae5eceb-b4e7-4965-d0e2-a1faccba7bd3"
      },
      "execution_count": null,
      "outputs": [
        {
          "output_type": "stream",
          "name": "stdout",
          "text": [
            "   longitude  latitude  housing_median_age  total_rooms  total_bedrooms  \\\n",
            "0      False     False               False        False           False   \n",
            "1      False     False               False        False           False   \n",
            "2      False     False               False        False           False   \n",
            "\n",
            "   population  households  median_income  median_house_value  Age_na  \n",
            "0       False       False          False               False    True  \n",
            "1       False       False          False               False    True  \n",
            "2       False       False          False               False    True  \n"
          ]
        }
      ]
    },
    {
      "cell_type": "code",
      "source": [
        "# 결측치 데이터 개수 구하기\n",
        "print(housing_df.isna().sum())"
      ],
      "metadata": {
        "colab": {
          "base_uri": "https://localhost:8080/"
        },
        "id": "J8eOZMWqqow9",
        "outputId": "3e9ae2a0-d2c0-42a6-e445-523eca6be04d"
      },
      "execution_count": null,
      "outputs": [
        {
          "output_type": "stream",
          "name": "stdout",
          "text": [
            "longitude                 0\n",
            "latitude                  0\n",
            "housing_median_age        0\n",
            "total_rooms               0\n",
            "total_bedrooms            0\n",
            "population                0\n",
            "households                0\n",
            "median_income             0\n",
            "median_house_value        0\n",
            "Age_na                17000\n",
            "dtype: int64\n"
          ]
        }
      ]
    },
    {
      "cell_type": "code",
      "source": [
        "# fillna 함수를 이용하여 결측치를 다른 값으로 대체\n",
        "housing_df['Age_na'] = housing_df['Age_na'].fillna(housing_df['housing_median_age'].mean()) # Age_na에 있는 결측값을 housing_median_age의 평균 값으로 대체하기\n",
        "print(housing_df.head(3))"
      ],
      "metadata": {
        "colab": {
          "base_uri": "https://localhost:8080/"
        },
        "id": "oheb00jarc9f",
        "outputId": "f3f684c0-139b-42b8-f971-6819717879d7"
      },
      "execution_count": null,
      "outputs": [
        {
          "output_type": "stream",
          "name": "stdout",
          "text": [
            "   longitude  latitude  housing_median_age  total_rooms  total_bedrooms  \\\n",
            "0    -114.31     34.19                15.0       5612.0          1283.0   \n",
            "1    -114.47     34.40                19.0       7650.0          1901.0   \n",
            "2    -114.56     33.69                17.0        720.0           174.0   \n",
            "\n",
            "   population  households  median_income  median_house_value     Age_na  \n",
            "0      1015.0       472.0         1.4936             66900.0  28.589353  \n",
            "1      1129.0       463.0         1.8200             80100.0  28.589353  \n",
            "2       333.0       117.0         1.6509             85700.0  28.589353  \n"
          ]
        }
      ]
    }
  ]
}